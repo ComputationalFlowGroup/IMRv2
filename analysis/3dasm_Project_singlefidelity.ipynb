{
 "cells": [
  {
   "cell_type": "markdown",
   "metadata": {},
   "source": [
    "# 3dasm Project"
   ]
  },
  {
   "cell_type": "markdown",
   "metadata": {},
   "source": [
    "## Agenda\n",
    "## Single Fidelity\n",
    "- simulated data and experimental data separately\n",
    "- different kernels, optimizers\n",
    "## Multi Fidelity\n",
    "- scikit-learn vs gpytorch\n",
    "1. [Phase 1: Gaussian Process on Simulated Data only](#Phase-1:-Gaussian-Process-on-Simulated-Data-only)\n",
    "2. [Training with Different Kernels: common Constant*RBF kernel with an optimizer fmin_1_bfgs_b](#Training-with-Different-Kernels:-common-Constant*RBF-kernel-with-an-optimizer-fmin_1_bfgs_b)\n",
    "3. [Training with Different Kernels: ExpSineSquared with an optimizer fmin_1_bfgs_b](#Training-with-Different-Kernels:-ExpSineSquared-with-an-optimizer-fmin_1_bfgs_b)\n",
    "4. [Training with Different Kernels: Matern with an optimizer fmin_1_bfgs_b](#Training-with-Different-Kernels:-Matern-with-an-optimizer-fmin_1_bfgs_b)\n",
    "5. [Training with Different Kernels: common Constant*RBF kernel With No Optimizer](#Training-with-Different-Kernels:-common-Constant*RBF-kernel-With-No-Optimizer)\n",
    "6. [Training with Different Kernels: ExpSineSquared with no optimizer](#Training-with-Different-Kernels:-ExpSineSquared-with-no-optimizer)\n",
    "7. [Training with Different Kernels: Matern with no optimizer](#Training-with-Different-Kernels:-Matern-with-no-optimizer)\n",
    "8. [Phase 1.5: Gaussian Process on Experimental Data Only](#Phase-1.5:-Gaussian-Process-on-Experimental-Data-Only)\n",
    "9. [Training with Different kernels: common Constant*RBF kernel with an optimizer fmin_1_bfgs_b](#Training-with-Different-kernels:-common-Constant*RBF-kernel-with-an-optimizer-fmin_1_bfgs_b)\n",
    "10. [Training with Different Kernels: ExpSineSquared with an optimizer fmin_1_bfgs_b](#Training-with-Different-Kernels:-ExpSineSquared-with-an-optimizer-fmin_1_bfgs_b)\n",
    "11. [Training with Different Kernels: Matern with an optimizer fmin_1_bfgs_b](#Training-with-Different-Kernels:-Matern-with-an-optimizer-fmin_1_bfgs_b)\n",
    "12. [Phase 2: Training with Simulation Data and Testing with Experimental Data](#Phase-2:-Training-with-Simulation-Data-and-Testing-with-Experimental-Data)\n",
    "13. [Constant Kernel and  f_min optimizer](#Constant-Kernel-and-f_min-optimizer)\n",
    "14. [Matern kernel with no optimizer](#Matern-kernel-with-no-optimizer)\n",
    "15. [Phase 3: Multi-fidelity Gaussian Process](#Phase-3:-Multi-fidelity-Gaussian-Process)\n",
    "16. [Phase 4: Error Metrics](#Phase-4:-Error-Metrics)"
   ]
  },
  {
   "cell_type": "markdown",
   "metadata": {},
   "source": [
    "### Importing necessary packages"
   ]
  },
  {
   "cell_type": "code",
   "execution_count": 21,
   "metadata": {},
   "outputs": [],
   "source": [
    "import matplotlib.pyplot as plt # import plotting tools to create figures\n",
    "import numpy as np # import numpy to handle a lot of things!\n",
    "from IPython.display import display, Math # to print with Latex math\n",
    "import pandas as pd\n",
    "\n",
    "%config InlineBackend.figure_format = \"retina\" # render higher resolution images in the notebook\n",
    "plt.rcParams[\"figure.figsize\"] = (8,4) # rescale figure size appropriately for slides"
   ]
  },
  {
   "cell_type": "code",
   "execution_count": 22,
   "metadata": {},
   "outputs": [],
   "source": [
    "from sklearn.preprocessing import MinMaxScaler\n",
    "from sklearn.gaussian_process import GaussianProcessRegressor\n",
    "from sklearn.gaussian_process.kernels import RBF, Matern, ExpSineSquared, ConstantKernel, WhiteKernel\n",
    "from sklearn.model_selection import train_test_split\n",
    "from sklearn.metrics import r2_score, mean_squared_error"
   ]
  },
  {
   "cell_type": "code",
   "execution_count": 23,
   "metadata": {},
   "outputs": [],
   "source": [
    "font = {'family': 'serif',\n",
    "        'color':  'black',\n",
    "        'weight': 'normal',\n",
    "        'size': 12,\n",
    "        } # using this property entry for nice plotting labels"
   ]
  },
  {
   "cell_type": "markdown",
   "metadata": {},
   "source": [
    "<a id='Phase 1: Gaussian Process on Simulated Data only'></a>"
   ]
  },
  {
   "cell_type": "markdown",
   "metadata": {},
   "source": [
    "## Phase 1: Gaussian Process on Simulated Data only"
   ]
  },
  {
   "cell_type": "code",
   "execution_count": 24,
   "metadata": {
    "collapsed": false,
    "jupyter": {
     "outputs_hidden": false
    }
   },
   "outputs": [
    {
     "name": "stdout",
     "output_type": "stream",
     "text": [
      "Show the simulated DataFrameused for training data:\n",
      "             0         1\n",
      "0    0.075682  0.995894\n",
      "1    0.181336  0.977851\n",
      "2    0.286990  0.944549\n",
      "3    0.378912  0.901576\n",
      "4    0.453920  0.855101\n",
      "..        ...       ...\n",
      "464  4.782890  0.157443\n",
      "465  4.830016  0.156129\n",
      "466  4.877141  0.154620\n",
      "467  4.924266  0.153483\n",
      "468  4.971392  0.153081\n",
      "\n",
      "[469 rows x 2 columns]\n"
     ]
    }
   ],
   "source": [
    "# import simulated data for the specific shear modulus and viscosity corresponding to the experimental data, pre-processing in matlab (including scaling)\n",
    "sim_df = pd.read_csv(\"../less_points_Simulation_Data_0.05_13900.csv\") # read pandas DataFrame\n",
    "print(\"Show the simulated DataFrameused for training data:\\n\", sim_df)"
   ]
  },
  {
   "cell_type": "code",
   "execution_count": 25,
   "metadata": {
    "collapsed": false,
    "jupyter": {
     "outputs_hidden": false
    }
   },
   "outputs": [
    {
     "name": "stdout",
     "output_type": "stream",
     "text": [
      "Data_x is:\n",
      " 0      0.075682\n",
      "1      0.181336\n",
      "2      0.286990\n",
      "3      0.378912\n",
      "4      0.453920\n",
      "         ...   \n",
      "464    4.782890\n",
      "465    4.830016\n",
      "466    4.877141\n",
      "467    4.924266\n",
      "468    4.971392\n",
      "Name: 0, Length: 469, dtype: float64\n",
      "\n",
      "Data_y is:\n",
      " 0      0.995894\n",
      "1      0.977851\n",
      "2      0.944549\n",
      "3      0.901576\n",
      "4      0.855101\n",
      "         ...   \n",
      "464    0.157443\n",
      "465    0.156129\n",
      "466    0.154620\n",
      "467    0.153483\n",
      "468    0.153081\n",
      "Name: 1, Length: 469, dtype: float64\n"
     ]
    }
   ],
   "source": [
    "Data_x_sim = sim_df.iloc[:,0] # select the input values from the dataframe into Data_x\n",
    "Data_y_sim = sim_df.iloc[:,1] # select the output values from the dataframe into Data_y\n",
    "print(\"Data_x is:\\n\",Data_x_sim)\n",
    "print(\"\\nData_y is:\\n\",Data_y_sim)\n",
    "#Note about data quality: don't need to scale as the data was already normalized \n",
    "##so that t is in (0,5) and R is in (0,1) and preprocessed such that data is nondimensionalized"
   ]
  },
  {
   "cell_type": "code",
   "execution_count": 26,
   "metadata": {
    "collapsed": false,
    "jupyter": {
     "outputs_hidden": false
    }
   },
   "outputs": [
    {
     "data": {
      "image/png": "[encoded data removed]",
      "text/plain": [
       "<Figure size 800x400 with 1 Axes>"
      ]
     },
     "metadata": {
      "image/png": {
       "height": 396,
       "width": 697
      }
     },
     "output_type": "display_data"
    }
   ],
   "source": [
    "fig_sim_data, ax_sim_data = plt.subplots() # create a plot\n",
    "ax_sim_data.plot(Data_x_sim, Data_y_sim, 'b.')\n",
    "#ax_sim_data.set_xlabel(\"t\", fontsize=20) # create x-axis label with font size 20\n",
    "#ax_sim_data.set_ylabel(\"R\", fontsize=20) # create y-axis label with font size 20\n",
    "ax_sim_data.set_xlabel(\"t\", font) # create x-axis label with font size 20\n",
    "ax_sim_data.set_ylabel(\"R\", font) # create y-axis label with font size 20\n",
    "ax_sim_data.set_title(\"Simulated Bubble Radius vs Time\", font); # create title with font size 20\n",
    "plt.xticks(fontname = \"serif\", fontsize=12)\n",
    "plt.yticks(fontname = \"serif\", fontsize=12)\n",
    "plt.savefig(\"sim_data.png\", bbox_inches=\"tight\")\n",
    "plt.show(fig_sim_data)"
   ]
  },
  {
   "cell_type": "code",
   "execution_count": 27,
   "metadata": {
    "collapsed": false,
    "jupyter": {
     "outputs_hidden": false
    }
   },
   "outputs": [],
   "source": [
    "n_data = 50 # number of points in our dataset\n",
    "testset_ratio_sim = 0.10 # ratio of test set points from the dataset\n",
    "\n",
    "X_data_sim = np.reshape(Data_x_sim,(-1,1)) # a 2D array that scikit-learn likes\n",
    "\n",
    "seed = 1987 # set a random seed so that everyone gets the same result\n",
    "np.random.seed(seed)\n",
    "\n",
    "# Let's split into 10% training points and the rest for testing:\n",
    "X_train_sim, X_test_sim, y_train_sim, y_test_sim = train_test_split(X_data_sim,\n",
    "                                    Data_y_sim, test_size=testset_ratio_sim,\n",
    "                                    random_state=seed)\n",
    "\n",
    "x_train_sim = X_train_sim.ravel() # just for plotting later\n",
    "x_test_sim = X_test_sim.ravel() # just for plotting later\n",
    "\n",
    "#print(\"Here's a print of X_train:\\n\", X_train_sim)"
   ]
  },
  {
   "cell_type": "code",
   "execution_count": 28,
   "metadata": {
    "collapsed": false,
    "jupyter": {
     "outputs_hidden": false
    }
   },
   "outputs": [],
   "source": [
    "# Define points used for plotting\n",
    "n_max_sim = np.max(X_data_sim)\n",
    "n_min_sim = np.min(X_data_sim)\n",
    "n_plot_sim = 500 # number of points used for plotting the model\n",
    "x_plot_sim = np.linspace(n_min_sim, n_max_sim, n_plot_sim) # create dataset with uniformly spaced points\n",
    "X_plot_sim = np.reshape(x_plot_sim,(-1,1)) # a 2D array that scikit-learn likes"
   ]
  },
  {
   "cell_type": "markdown",
   "metadata": {},
   "source": [
    "<b id='Training with Different Kernels: common Constant*RBF kernel with an optimizer fmin_1_bfgs_b'></b>"
   ]
  },
  {
   "cell_type": "markdown",
   "metadata": {},
   "source": [
    "### Training with Different Kernels: common Constant*RBF kernel with an optimizer fmin_1_bfgs_b"
   ]
  },
  {
   "cell_type": "code",
   "execution_count": 29,
   "metadata": {
    "editable": true,
    "slideshow": {
     "slide_type": ""
    },
    "tags": []
   },
   "outputs": [
    {
     "name": "stderr",
     "output_type": "stream",
     "text": [
      "/oscar/home/mrodri97/python_pack/lib/python3.9/site-packages/sklearn/gaussian_process/kernels.py:429: ConvergenceWarning: The optimal value found for dimension 0 of parameter k2__length_scale is close to the specified upper bound 100.0. Increasing the bound and calling fit again may find a better value.\n",
      "  warnings.warn(\n",
      "/oscar/home/mrodri97/python_pack/lib/python3.9/site-packages/sklearn/gaussian_process/kernels.py:429: ConvergenceWarning: The optimal value found for dimension 0 of parameter k2__length_scale is close to the specified upper bound 100.0. Increasing the bound and calling fit again may find a better value.\n",
      "  warnings.warn(\n",
      "/oscar/home/mrodri97/python_pack/lib/python3.9/site-packages/sklearn/gaussian_process/kernels.py:429: ConvergenceWarning: The optimal value found for dimension 0 of parameter k2__length_scale is close to the specified upper bound 100.0. Increasing the bound and calling fit again may find a better value.\n",
      "  warnings.warn(\n",
      "/oscar/home/mrodri97/python_pack/lib/python3.9/site-packages/sklearn/gaussian_process/kernels.py:429: ConvergenceWarning: The optimal value found for dimension 0 of parameter k2__length_scale is close to the specified upper bound 100.0. Increasing the bound and calling fit again may find a better value.\n",
      "  warnings.warn(\n"
     ]
    },
    {
     "name": "stdout",
     "output_type": "stream",
     "text": [
      "     Alpha  R^2 Mean  MSE Mean\n",
      "0  0.00001 -0.864149  0.037540\n",
      "1  0.00010 -0.208657  0.025603\n",
      "2  0.00050  0.486402  0.011781\n",
      "3  0.00100  0.677211  0.007310\n",
      "4  0.00500  0.873380  0.002423\n",
      "5  0.01000  0.842153  0.002948\n",
      "6  0.10000  0.162644  0.017229\n",
      "7  1.00000 -0.019563  0.020950\n"
     ]
    },
    {
     "name": "stderr",
     "output_type": "stream",
     "text": [
      "/oscar/home/mrodri97/python_pack/lib/python3.9/site-packages/sklearn/gaussian_process/kernels.py:429: ConvergenceWarning: The optimal value found for dimension 0 of parameter k2__length_scale is close to the specified upper bound 100.0. Increasing the bound and calling fit again may find a better value.\n",
      "  warnings.warn(\n"
     ]
    }
   ],
   "source": [
    "from sklearn.model_selection import cross_validate\n",
    "from sklearn.metrics import make_scorer, mean_squared_error, r2_score\n",
    "# Quick Kernel Hyperparameter Search\n",
    "# Define the kernel function\n",
    "#kernel_rbf = ConstantKernel(1.0, (1e-3, 1e5)) * RBF(10, (1e-2, 1e2)) # This is the very common Constant*RBF kernel\n",
    "kernel_rbf = ConstantKernel(1.0, (1e-3, 1e4)) * RBF(10, (1e-3, 1e2))\n",
    "\n",
    "# Define the kernel hyperparameters to search through\n",
    "alpha_values = [1e-5, 1e-4, 5e-4, 1e-3, 5e-3, 1e-2, 1e-1, 1] \n",
    "\n",
    "# Define a scoring function (R^2 and MSE)\n",
    "scoring = {'r2': make_scorer(r2_score), 'mse': make_scorer(mean_squared_error)}\n",
    "#scoring = {'r2': 'r2', 'mse': 'neg_mean_squared_error'}\n",
    "\n",
    "# Create a DataFrame to store results\n",
    "#results_df = pd.DataFrame(columns=['Length Scale', 'R^2 Mean', 'MSE Mean'])\n",
    "results_dfs = []\n",
    "\n",
    "# Hyperparameter search loop\n",
    "for alpha_value in alpha_values:\n",
    "    # Update the kernel with the current hyperparameter value\n",
    "    gp_model_sim = GaussianProcessRegressor(kernel=kernel_rbf, alpha=alpha_value, optimizer='fmin_l_bfgs_b', n_restarts_optimizer=20)\n",
    "\n",
    "    # Cross-validation with the current hyperparameter value\n",
    "    scores = cross_validate(gp_model_sim, X_train_sim, y_train_sim, cv=5, scoring=scoring)\n",
    "\n",
    "    # Append results to the DataFrame\n",
    "    #results_df = results_df.append({\n",
    "        #'Length Scale': length_scale_value,\n",
    "        #'R^2 Mean': np.mean(scores['r2']),\n",
    "        #'MSE Mean': np.mean(scores['mse'])\n",
    "    #}, ignore_index=True)\n",
    "    # Create a DataFrame with the current results\n",
    "    current_results = pd.DataFrame({\n",
    "        'Alpha': [alpha_value],\n",
    "        'R^2 Mean': [np.mean(scores['test_r2'])],\n",
    "        'MSE Mean': [np.mean(scores['test_mse'])]\n",
    "    })\n",
    "\n",
    "    # Append the DataFrame to the list\n",
    "    results_dfs.append(current_results)\n",
    "\n",
    "# Concatenate all DataFrames in the list\n",
    "results_df = pd.concat(results_dfs, ignore_index=True)\n",
    "\n",
    "# Print or use the results DataFrame as needed\n",
    "print(results_df)"
   ]
  },
  {
   "cell_type": "code",
   "execution_count": 30,
   "metadata": {
    "collapsed": false,
    "jupyter": {
     "outputs_hidden": false
    }
   },
   "outputs": [
    {
     "name": "stdout",
     "output_type": "stream",
     "text": [
      "For Constant*RBF kernel, MSE = 0.00198,R^2 = 0.93338\n"
     ]
    }
   ],
   "source": [
    "# Define the kernel function\n",
    "#kernel_rbf = ConstantKernel(1.0, (1e-3, 1e5)) * RBF(10, (1e-2, 1e2)) # This is the very common Constant*RBF kernel\n",
    "kernel_rbf = ConstantKernel(1.0, (1e-3, 1e3)) * RBF(10, (1e-2, 1e2)) # This is the very common Constant*RBF kernel\n",
    "\n",
    "gp_model_sim = GaussianProcessRegressor(kernel=kernel_rbf, alpha=5e-3, optimizer='fmin_l_bfgs_b', n_restarts_optimizer=20)\n",
    "\n",
    "# Fit to data to determine parameters to train the model on SCALED inputs and outputs\n",
    "gp_model_sim.fit(X_train_sim, y_train_sim)\n",
    "\n",
    "# Make the prediction on the entire dataset (for plotting)\n",
    "\n",
    "y_plot_pred_sim, sigma_plot_sim = gp_model_sim.predict(X_plot_sim, return_std=True) # also output the uncertainty (std)\n",
    "\n",
    "# Predict for test set (for error metric)\n",
    "y_pred_sim, sigma_sim = gp_model_sim.predict(X_test_sim, return_std=True) # also output the uncertainty (std)\n",
    "\n",
    "# Extract error metrics\n",
    "mse_rbf = mean_squared_error(y_test_sim,y_pred_sim)\n",
    "r2_rbf = r2_score(y_test_sim,y_pred_sim)\n",
    "print(f\"For Constant*RBF kernel, MSE = {mse_rbf:.5f},R^2 = {r2_rbf:.5f}\")"
   ]
  },
  {
   "cell_type": "code",
   "execution_count": 31,
   "metadata": {
    "collapsed": false,
    "jupyter": {
     "outputs_hidden": false
    }
   },
   "outputs": [],
   "source": [
    "# Plot the prediction and the 95% confidence interval\n",
    "fig1, ax1 = plt.subplots()\n",
    "\n",
    "ax1.plot(x_plot_sim, y_plot_pred_sim, 'b-', label=\"GPR prediction\")\n",
    "ax1.fill(np.concatenate([x_plot_sim, x_plot_sim[::-1]]),\n",
    "         np.concatenate([y_plot_pred_sim - 1.9600 * sigma_plot_sim,\n",
    "                        (y_plot_pred_sim + 1.9600 * sigma_plot_sim)[::-1]]),\n",
    "         alpha=.5, fc='b', ec='None', label='95% confidence interval')\n",
    "\n",
    "ax1.set_xlabel('$t$', font)\n",
    "ax1.set_ylabel('$R$', font)\n",
    "plt.xticks(fontname = \"serif\", fontsize=12)\n",
    "plt.yticks(fontname = \"serif\", fontsize=12)\n",
    "ax1.set_title(\"Posterior kernel: %s\"\n",
    "              % gp_model_sim.kernel_, font) # Show the value of the hyperparameters in the title\n",
    "ax1.legend(loc='upper right', fontsize=12)\n",
    "ax1.set_ylim(0,1)\n",
    "fig1.set_size_inches(8,8)\n",
    "plt.savefig(\"sim_RBF_optimizer.png\", bbox_inches=\"tight\")\n",
    "plt.close(fig1) # close the plot to see it in next cell"
   ]
  },
  {
   "cell_type": "code",
   "execution_count": 32,
   "metadata": {
    "collapsed": false,
    "jupyter": {
     "outputs_hidden": false
    }
   },
   "outputs": [
    {
     "data": {
      "image/png": "[encoded data removed]",
      "text/plain": [
       "<Figure size 800x800 with 1 Axes>"
      ]
     },
     "execution_count": 32,
     "metadata": {
      "image/png": {
       "height": 704,
       "width": 697
      }
     },
     "output_type": "execute_result"
    }
   ],
   "source": [
    "fig1"
   ]
  },
  {
   "cell_type": "code",
   "execution_count": 33,
   "metadata": {},
   "outputs": [],
   "source": [
    "# Plot the function, the prediction and the 95% confidence interval\n",
    "fig2, ax2 = plt.subplots()\n",
    "\n",
    "ax2.plot(x_plot_sim, y_plot_pred_sim, 'b-', label=\"GPR prediction\")\n",
    "ax2.fill(np.concatenate([x_plot_sim, x_plot_sim[::-1]]),\n",
    "         np.concatenate([y_plot_pred_sim - 1.9600 * sigma_plot_sim,\n",
    "                        (y_plot_pred_sim + 1.9600 * sigma_plot_sim)[::-1]]),\n",
    "         alpha=.5, fc='b', ec='None', label='95% confidence interval')\n",
    "\n",
    "ax2.plot(x_train_sim, y_train_sim, 'ro', markersize=6, label=\"training points\") # Plot train data\n",
    "ax2.plot(x_test_sim, y_test_sim, 'kX', markersize=6, label=\"testing points\") # Plot test points\n",
    "\n",
    "ax2.set_xlabel('$t$', font)\n",
    "ax2.set_ylabel('$R$', font)\n",
    "plt.xticks(fontname = \"serif\", fontsize=12)\n",
    "plt.yticks(fontname = \"serif\", fontsize=12)\n",
    "ax2.set_title(\"Posterior kernel: %s\"\n",
    "              % gp_model_sim.kernel_, font) # Show in the title the value of the hyperparameters\n",
    "ax2.set_ylim(0, 1) # just to provide more space for the legend\n",
    "ax2.legend(loc='upper left', fontsize=15)\n",
    "fig2.set_size_inches(8,8)\n",
    "plt.savefig(\"sim_RBF_optimizer_points.png\", bbox_inches=\"tight\")\n",
    "plt.close(fig2) # close the plot to see it in next cell"
   ]
  },
  {
   "cell_type": "code",
   "execution_count": 34,
   "metadata": {
    "collapsed": false,
    "jupyter": {
     "outputs_hidden": false
    }
   },
   "outputs": [
    {
     "data": {
      "image/png": "[encoded data removed]",
      "text/plain": [
       "<Figure size 800x800 with 1 Axes>"
      ]
     },
     "execution_count": 34,
     "metadata": {
      "image/png": {
       "height": 704,
       "width": 697
      }
     },
     "output_type": "execute_result"
    }
   ],
   "source": [
    "fig2"
   ]
  },
  {
   "cell_type": "markdown",
   "metadata": {},
   "source": [
    "<c id='Training with Different Kernels: ExpSineSquared with an optimizer fmin_1_bfgs_b'></c>"
   ]
  },
  {
   "cell_type": "markdown",
   "metadata": {},
   "source": [
    "### Training with Different Kernels: ExpSineSquared with an optimizer fmin_1_bfgs_b"
   ]
  },
  {
   "cell_type": "code",
   "execution_count": 35,
   "metadata": {},
   "outputs": [
    {
     "ename": "ValueError",
     "evalue": "Invalid parameter expSineSquared for kernel ExpSineSquared(length_scale=1, periodicity=1) * RBF(length_scale=1). Check the list of available parameters with `kernel.get_params().keys()`.",
     "output_type": "error",
     "traceback": [
      "\u001b[0;31m---------------------------------------------------------------------------\u001b[0m",
      "\u001b[0;31mValueError\u001b[0m                                Traceback (most recent call last)",
      "Cell \u001b[0;32mIn[35], line 19\u001b[0m\n\u001b[1;32m     17\u001b[0m scoring_metrics \u001b[38;5;241m=\u001b[39m {\u001b[38;5;124m'\u001b[39m\u001b[38;5;124mr2\u001b[39m\u001b[38;5;124m'\u001b[39m: make_scorer(r2_score), \u001b[38;5;124m'\u001b[39m\u001b[38;5;124mneg_mean_squared_error\u001b[39m\u001b[38;5;124m'\u001b[39m: \u001b[38;5;124m'\u001b[39m\u001b[38;5;124mneg_mean_squared_error\u001b[39m\u001b[38;5;124m'\u001b[39m}\n\u001b[1;32m     18\u001b[0m grid_search \u001b[38;5;241m=\u001b[39m GridSearchCV(gp_model, param_grid, cv\u001b[38;5;241m=\u001b[39m\u001b[38;5;241m5\u001b[39m, scoring\u001b[38;5;241m=\u001b[39mscoring_metrics, refit\u001b[38;5;241m=\u001b[39m\u001b[38;5;124m'\u001b[39m\u001b[38;5;124mneg_mean_squared_error\u001b[39m\u001b[38;5;124m'\u001b[39m, n_jobs\u001b[38;5;241m=\u001b[39m\u001b[38;5;241m-\u001b[39m\u001b[38;5;241m1\u001b[39m)\n\u001b[0;32m---> 19\u001b[0m \u001b[43mgrid_search\u001b[49m\u001b[38;5;241;43m.\u001b[39;49m\u001b[43mfit\u001b[49m\u001b[43m(\u001b[49m\u001b[43mX_subset\u001b[49m\u001b[43m,\u001b[49m\u001b[43m \u001b[49m\u001b[43my_subset\u001b[49m\u001b[43m)\u001b[49m\n\u001b[1;32m     21\u001b[0m \u001b[38;5;66;03m# Step 4: Identify Promising Hyperparameters\u001b[39;00m\n\u001b[1;32m     22\u001b[0m \u001b[38;5;28mprint\u001b[39m(\u001b[38;5;124m\"\u001b[39m\u001b[38;5;124mBest Hyperparameters:\u001b[39m\u001b[38;5;124m\"\u001b[39m, grid_search\u001b[38;5;241m.\u001b[39mbest_params_)\n",
      "File \u001b[0;32m/oscar/home/mrodri97/python_pack/lib/python3.9/site-packages/sklearn/base.py:1152\u001b[0m, in \u001b[0;36m_fit_context.<locals>.decorator.<locals>.wrapper\u001b[0;34m(estimator, *args, **kwargs)\u001b[0m\n\u001b[1;32m   1145\u001b[0m     estimator\u001b[38;5;241m.\u001b[39m_validate_params()\n\u001b[1;32m   1147\u001b[0m \u001b[38;5;28;01mwith\u001b[39;00m config_context(\n\u001b[1;32m   1148\u001b[0m     skip_parameter_validation\u001b[38;5;241m=\u001b[39m(\n\u001b[1;32m   1149\u001b[0m         prefer_skip_nested_validation \u001b[38;5;129;01mor\u001b[39;00m global_skip_validation\n\u001b[1;32m   1150\u001b[0m     )\n\u001b[1;32m   1151\u001b[0m ):\n\u001b[0;32m-> 1152\u001b[0m     \u001b[38;5;28;01mreturn\u001b[39;00m \u001b[43mfit_method\u001b[49m\u001b[43m(\u001b[49m\u001b[43mestimator\u001b[49m\u001b[43m,\u001b[49m\u001b[43m \u001b[49m\u001b[38;5;241;43m*\u001b[39;49m\u001b[43margs\u001b[49m\u001b[43m,\u001b[49m\u001b[43m \u001b[49m\u001b[38;5;241;43m*\u001b[39;49m\u001b[38;5;241;43m*\u001b[39;49m\u001b[43mkwargs\u001b[49m\u001b[43m)\u001b[49m\n",
      "File \u001b[0;32m/oscar/home/mrodri97/python_pack/lib/python3.9/site-packages/sklearn/model_selection/_search.py:898\u001b[0m, in \u001b[0;36mBaseSearchCV.fit\u001b[0;34m(self, X, y, groups, **fit_params)\u001b[0m\n\u001b[1;32m    892\u001b[0m     results \u001b[38;5;241m=\u001b[39m \u001b[38;5;28mself\u001b[39m\u001b[38;5;241m.\u001b[39m_format_results(\n\u001b[1;32m    893\u001b[0m         all_candidate_params, n_splits, all_out, all_more_results\n\u001b[1;32m    894\u001b[0m     )\n\u001b[1;32m    896\u001b[0m     \u001b[38;5;28;01mreturn\u001b[39;00m results\n\u001b[0;32m--> 898\u001b[0m \u001b[38;5;28;43mself\u001b[39;49m\u001b[38;5;241;43m.\u001b[39;49m\u001b[43m_run_search\u001b[49m\u001b[43m(\u001b[49m\u001b[43mevaluate_candidates\u001b[49m\u001b[43m)\u001b[49m\n\u001b[1;32m    900\u001b[0m \u001b[38;5;66;03m# multimetric is determined here because in the case of a callable\u001b[39;00m\n\u001b[1;32m    901\u001b[0m \u001b[38;5;66;03m# self.scoring the return type is only known after calling\u001b[39;00m\n\u001b[1;32m    902\u001b[0m first_test_score \u001b[38;5;241m=\u001b[39m all_out[\u001b[38;5;241m0\u001b[39m][\u001b[38;5;124m\"\u001b[39m\u001b[38;5;124mtest_scores\u001b[39m\u001b[38;5;124m\"\u001b[39m]\n",
      "File \u001b[0;32m/oscar/home/mrodri97/python_pack/lib/python3.9/site-packages/sklearn/model_selection/_search.py:1422\u001b[0m, in \u001b[0;36mGridSearchCV._run_search\u001b[0;34m(self, evaluate_candidates)\u001b[0m\n\u001b[1;32m   1420\u001b[0m \u001b[38;5;28;01mdef\u001b[39;00m \u001b[38;5;21m_run_search\u001b[39m(\u001b[38;5;28mself\u001b[39m, evaluate_candidates):\n\u001b[1;32m   1421\u001b[0m \u001b[38;5;250m    \u001b[39m\u001b[38;5;124;03m\"\"\"Search all candidates in param_grid\"\"\"\u001b[39;00m\n\u001b[0;32m-> 1422\u001b[0m     \u001b[43mevaluate_candidates\u001b[49m\u001b[43m(\u001b[49m\u001b[43mParameterGrid\u001b[49m\u001b[43m(\u001b[49m\u001b[38;5;28;43mself\u001b[39;49m\u001b[38;5;241;43m.\u001b[39;49m\u001b[43mparam_grid\u001b[49m\u001b[43m)\u001b[49m\u001b[43m)\u001b[49m\n",
      "File \u001b[0;32m/oscar/home/mrodri97/python_pack/lib/python3.9/site-packages/sklearn/model_selection/_search.py:845\u001b[0m, in \u001b[0;36mBaseSearchCV.fit.<locals>.evaluate_candidates\u001b[0;34m(candidate_params, cv, more_results)\u001b[0m\n\u001b[1;32m    837\u001b[0m \u001b[38;5;28;01mif\u001b[39;00m \u001b[38;5;28mself\u001b[39m\u001b[38;5;241m.\u001b[39mverbose \u001b[38;5;241m>\u001b[39m \u001b[38;5;241m0\u001b[39m:\n\u001b[1;32m    838\u001b[0m     \u001b[38;5;28mprint\u001b[39m(\n\u001b[1;32m    839\u001b[0m         \u001b[38;5;124m\"\u001b[39m\u001b[38;5;124mFitting \u001b[39m\u001b[38;5;132;01m{0}\u001b[39;00m\u001b[38;5;124m folds for each of \u001b[39m\u001b[38;5;132;01m{1}\u001b[39;00m\u001b[38;5;124m candidates,\u001b[39m\u001b[38;5;124m\"\u001b[39m\n\u001b[1;32m    840\u001b[0m         \u001b[38;5;124m\"\u001b[39m\u001b[38;5;124m totalling \u001b[39m\u001b[38;5;132;01m{2}\u001b[39;00m\u001b[38;5;124m fits\u001b[39m\u001b[38;5;124m\"\u001b[39m\u001b[38;5;241m.\u001b[39mformat(\n\u001b[1;32m    841\u001b[0m             n_splits, n_candidates, n_candidates \u001b[38;5;241m*\u001b[39m n_splits\n\u001b[1;32m    842\u001b[0m         )\n\u001b[1;32m    843\u001b[0m     )\n\u001b[0;32m--> 845\u001b[0m out \u001b[38;5;241m=\u001b[39m \u001b[43mparallel\u001b[49m\u001b[43m(\u001b[49m\n\u001b[1;32m    846\u001b[0m \u001b[43m    \u001b[49m\u001b[43mdelayed\u001b[49m\u001b[43m(\u001b[49m\u001b[43m_fit_and_score\u001b[49m\u001b[43m)\u001b[49m\u001b[43m(\u001b[49m\n\u001b[1;32m    847\u001b[0m \u001b[43m        \u001b[49m\u001b[43mclone\u001b[49m\u001b[43m(\u001b[49m\u001b[43mbase_estimator\u001b[49m\u001b[43m)\u001b[49m\u001b[43m,\u001b[49m\n\u001b[1;32m    848\u001b[0m \u001b[43m        \u001b[49m\u001b[43mX\u001b[49m\u001b[43m,\u001b[49m\n\u001b[1;32m    849\u001b[0m \u001b[43m        \u001b[49m\u001b[43my\u001b[49m\u001b[43m,\u001b[49m\n\u001b[1;32m    850\u001b[0m \u001b[43m        \u001b[49m\u001b[43mtrain\u001b[49m\u001b[38;5;241;43m=\u001b[39;49m\u001b[43mtrain\u001b[49m\u001b[43m,\u001b[49m\n\u001b[1;32m    851\u001b[0m \u001b[43m        \u001b[49m\u001b[43mtest\u001b[49m\u001b[38;5;241;43m=\u001b[39;49m\u001b[43mtest\u001b[49m\u001b[43m,\u001b[49m\n\u001b[1;32m    852\u001b[0m \u001b[43m        \u001b[49m\u001b[43mparameters\u001b[49m\u001b[38;5;241;43m=\u001b[39;49m\u001b[43mparameters\u001b[49m\u001b[43m,\u001b[49m\n\u001b[1;32m    853\u001b[0m \u001b[43m        \u001b[49m\u001b[43msplit_progress\u001b[49m\u001b[38;5;241;43m=\u001b[39;49m\u001b[43m(\u001b[49m\u001b[43msplit_idx\u001b[49m\u001b[43m,\u001b[49m\u001b[43m \u001b[49m\u001b[43mn_splits\u001b[49m\u001b[43m)\u001b[49m\u001b[43m,\u001b[49m\n\u001b[1;32m    854\u001b[0m \u001b[43m        \u001b[49m\u001b[43mcandidate_progress\u001b[49m\u001b[38;5;241;43m=\u001b[39;49m\u001b[43m(\u001b[49m\u001b[43mcand_idx\u001b[49m\u001b[43m,\u001b[49m\u001b[43m \u001b[49m\u001b[43mn_candidates\u001b[49m\u001b[43m)\u001b[49m\u001b[43m,\u001b[49m\n\u001b[1;32m    855\u001b[0m \u001b[43m        \u001b[49m\u001b[38;5;241;43m*\u001b[39;49m\u001b[38;5;241;43m*\u001b[39;49m\u001b[43mfit_and_score_kwargs\u001b[49m\u001b[43m,\u001b[49m\n\u001b[1;32m    856\u001b[0m \u001b[43m    \u001b[49m\u001b[43m)\u001b[49m\n\u001b[1;32m    857\u001b[0m \u001b[43m    \u001b[49m\u001b[38;5;28;43;01mfor\u001b[39;49;00m\u001b[43m \u001b[49m\u001b[43m(\u001b[49m\u001b[43mcand_idx\u001b[49m\u001b[43m,\u001b[49m\u001b[43m \u001b[49m\u001b[43mparameters\u001b[49m\u001b[43m)\u001b[49m\u001b[43m,\u001b[49m\u001b[43m \u001b[49m\u001b[43m(\u001b[49m\u001b[43msplit_idx\u001b[49m\u001b[43m,\u001b[49m\u001b[43m \u001b[49m\u001b[43m(\u001b[49m\u001b[43mtrain\u001b[49m\u001b[43m,\u001b[49m\u001b[43m \u001b[49m\u001b[43mtest\u001b[49m\u001b[43m)\u001b[49m\u001b[43m)\u001b[49m\u001b[43m \u001b[49m\u001b[38;5;129;43;01min\u001b[39;49;00m\u001b[43m \u001b[49m\u001b[43mproduct\u001b[49m\u001b[43m(\u001b[49m\n\u001b[1;32m    858\u001b[0m \u001b[43m        \u001b[49m\u001b[38;5;28;43menumerate\u001b[39;49m\u001b[43m(\u001b[49m\u001b[43mcandidate_params\u001b[49m\u001b[43m)\u001b[49m\u001b[43m,\u001b[49m\u001b[43m \u001b[49m\u001b[38;5;28;43menumerate\u001b[39;49m\u001b[43m(\u001b[49m\u001b[43mcv\u001b[49m\u001b[38;5;241;43m.\u001b[39;49m\u001b[43msplit\u001b[49m\u001b[43m(\u001b[49m\u001b[43mX\u001b[49m\u001b[43m,\u001b[49m\u001b[43m \u001b[49m\u001b[43my\u001b[49m\u001b[43m,\u001b[49m\u001b[43m \u001b[49m\u001b[43mgroups\u001b[49m\u001b[43m)\u001b[49m\u001b[43m)\u001b[49m\n\u001b[1;32m    859\u001b[0m \u001b[43m    \u001b[49m\u001b[43m)\u001b[49m\n\u001b[1;32m    860\u001b[0m \u001b[43m\u001b[49m\u001b[43m)\u001b[49m\n\u001b[1;32m    862\u001b[0m \u001b[38;5;28;01mif\u001b[39;00m \u001b[38;5;28mlen\u001b[39m(out) \u001b[38;5;241m<\u001b[39m \u001b[38;5;241m1\u001b[39m:\n\u001b[1;32m    863\u001b[0m     \u001b[38;5;28;01mraise\u001b[39;00m \u001b[38;5;167;01mValueError\u001b[39;00m(\n\u001b[1;32m    864\u001b[0m         \u001b[38;5;124m\"\u001b[39m\u001b[38;5;124mNo fits were performed. \u001b[39m\u001b[38;5;124m\"\u001b[39m\n\u001b[1;32m    865\u001b[0m         \u001b[38;5;124m\"\u001b[39m\u001b[38;5;124mWas the CV iterator empty? \u001b[39m\u001b[38;5;124m\"\u001b[39m\n\u001b[1;32m    866\u001b[0m         \u001b[38;5;124m\"\u001b[39m\u001b[38;5;124mWere there no candidates?\u001b[39m\u001b[38;5;124m\"\u001b[39m\n\u001b[1;32m    867\u001b[0m     )\n",
      "File \u001b[0;32m/oscar/home/mrodri97/python_pack/lib/python3.9/site-packages/sklearn/utils/parallel.py:65\u001b[0m, in \u001b[0;36mParallel.__call__\u001b[0;34m(self, iterable)\u001b[0m\n\u001b[1;32m     60\u001b[0m config \u001b[38;5;241m=\u001b[39m get_config()\n\u001b[1;32m     61\u001b[0m iterable_with_config \u001b[38;5;241m=\u001b[39m (\n\u001b[1;32m     62\u001b[0m     (_with_config(delayed_func, config), args, kwargs)\n\u001b[1;32m     63\u001b[0m     \u001b[38;5;28;01mfor\u001b[39;00m delayed_func, args, kwargs \u001b[38;5;129;01min\u001b[39;00m iterable\n\u001b[1;32m     64\u001b[0m )\n\u001b[0;32m---> 65\u001b[0m \u001b[38;5;28;01mreturn\u001b[39;00m \u001b[38;5;28;43msuper\u001b[39;49m\u001b[43m(\u001b[49m\u001b[43m)\u001b[49m\u001b[38;5;241;43m.\u001b[39;49m\u001b[38;5;21;43m__call__\u001b[39;49m\u001b[43m(\u001b[49m\u001b[43miterable_with_config\u001b[49m\u001b[43m)\u001b[49m\n",
      "File \u001b[0;32m/oscar/home/mrodri97/python_pack/lib/python3.9/site-packages/joblib/parallel.py:1863\u001b[0m, in \u001b[0;36mParallel.__call__\u001b[0;34m(self, iterable)\u001b[0m\n\u001b[1;32m   1861\u001b[0m     output \u001b[38;5;241m=\u001b[39m \u001b[38;5;28mself\u001b[39m\u001b[38;5;241m.\u001b[39m_get_sequential_output(iterable)\n\u001b[1;32m   1862\u001b[0m     \u001b[38;5;28mnext\u001b[39m(output)\n\u001b[0;32m-> 1863\u001b[0m     \u001b[38;5;28;01mreturn\u001b[39;00m output \u001b[38;5;28;01mif\u001b[39;00m \u001b[38;5;28mself\u001b[39m\u001b[38;5;241m.\u001b[39mreturn_generator \u001b[38;5;28;01melse\u001b[39;00m \u001b[38;5;28;43mlist\u001b[39;49m\u001b[43m(\u001b[49m\u001b[43moutput\u001b[49m\u001b[43m)\u001b[49m\n\u001b[1;32m   1865\u001b[0m \u001b[38;5;66;03m# Let's create an ID that uniquely identifies the current call. If the\u001b[39;00m\n\u001b[1;32m   1866\u001b[0m \u001b[38;5;66;03m# call is interrupted early and that the same instance is immediately\u001b[39;00m\n\u001b[1;32m   1867\u001b[0m \u001b[38;5;66;03m# re-used, this id will be used to prevent workers that were\u001b[39;00m\n\u001b[1;32m   1868\u001b[0m \u001b[38;5;66;03m# concurrently finalizing a task from the previous call to run the\u001b[39;00m\n\u001b[1;32m   1869\u001b[0m \u001b[38;5;66;03m# callback.\u001b[39;00m\n\u001b[1;32m   1870\u001b[0m \u001b[38;5;28;01mwith\u001b[39;00m \u001b[38;5;28mself\u001b[39m\u001b[38;5;241m.\u001b[39m_lock:\n",
      "File \u001b[0;32m/oscar/home/mrodri97/python_pack/lib/python3.9/site-packages/joblib/parallel.py:1792\u001b[0m, in \u001b[0;36mParallel._get_sequential_output\u001b[0;34m(self, iterable)\u001b[0m\n\u001b[1;32m   1790\u001b[0m \u001b[38;5;28mself\u001b[39m\u001b[38;5;241m.\u001b[39mn_dispatched_batches \u001b[38;5;241m+\u001b[39m\u001b[38;5;241m=\u001b[39m \u001b[38;5;241m1\u001b[39m\n\u001b[1;32m   1791\u001b[0m \u001b[38;5;28mself\u001b[39m\u001b[38;5;241m.\u001b[39mn_dispatched_tasks \u001b[38;5;241m+\u001b[39m\u001b[38;5;241m=\u001b[39m \u001b[38;5;241m1\u001b[39m\n\u001b[0;32m-> 1792\u001b[0m res \u001b[38;5;241m=\u001b[39m \u001b[43mfunc\u001b[49m\u001b[43m(\u001b[49m\u001b[38;5;241;43m*\u001b[39;49m\u001b[43margs\u001b[49m\u001b[43m,\u001b[49m\u001b[43m \u001b[49m\u001b[38;5;241;43m*\u001b[39;49m\u001b[38;5;241;43m*\u001b[39;49m\u001b[43mkwargs\u001b[49m\u001b[43m)\u001b[49m\n\u001b[1;32m   1793\u001b[0m \u001b[38;5;28mself\u001b[39m\u001b[38;5;241m.\u001b[39mn_completed_tasks \u001b[38;5;241m+\u001b[39m\u001b[38;5;241m=\u001b[39m \u001b[38;5;241m1\u001b[39m\n\u001b[1;32m   1794\u001b[0m \u001b[38;5;28mself\u001b[39m\u001b[38;5;241m.\u001b[39mprint_progress()\n",
      "File \u001b[0;32m/oscar/home/mrodri97/python_pack/lib/python3.9/site-packages/sklearn/utils/parallel.py:127\u001b[0m, in \u001b[0;36m_FuncWrapper.__call__\u001b[0;34m(self, *args, **kwargs)\u001b[0m\n\u001b[1;32m    125\u001b[0m     config \u001b[38;5;241m=\u001b[39m {}\n\u001b[1;32m    126\u001b[0m \u001b[38;5;28;01mwith\u001b[39;00m config_context(\u001b[38;5;241m*\u001b[39m\u001b[38;5;241m*\u001b[39mconfig):\n\u001b[0;32m--> 127\u001b[0m     \u001b[38;5;28;01mreturn\u001b[39;00m \u001b[38;5;28;43mself\u001b[39;49m\u001b[38;5;241;43m.\u001b[39;49m\u001b[43mfunction\u001b[49m\u001b[43m(\u001b[49m\u001b[38;5;241;43m*\u001b[39;49m\u001b[43margs\u001b[49m\u001b[43m,\u001b[49m\u001b[43m \u001b[49m\u001b[38;5;241;43m*\u001b[39;49m\u001b[38;5;241;43m*\u001b[39;49m\u001b[43mkwargs\u001b[49m\u001b[43m)\u001b[49m\n",
      "File \u001b[0;32m/oscar/home/mrodri97/python_pack/lib/python3.9/site-packages/sklearn/model_selection/_validation.py:717\u001b[0m, in \u001b[0;36m_fit_and_score\u001b[0;34m(estimator, X, y, scorer, train, test, verbose, parameters, fit_params, return_train_score, return_parameters, return_n_test_samples, return_times, return_estimator, split_progress, candidate_progress, error_score)\u001b[0m\n\u001b[1;32m    710\u001b[0m fit_params \u001b[38;5;241m=\u001b[39m _check_fit_params(X, fit_params, train)\n\u001b[1;32m    712\u001b[0m \u001b[38;5;28;01mif\u001b[39;00m parameters \u001b[38;5;129;01mis\u001b[39;00m \u001b[38;5;129;01mnot\u001b[39;00m \u001b[38;5;28;01mNone\u001b[39;00m:\n\u001b[1;32m    713\u001b[0m     \u001b[38;5;66;03m# here we clone the parameters, since sometimes the parameters\u001b[39;00m\n\u001b[1;32m    714\u001b[0m     \u001b[38;5;66;03m# themselves might be estimators, e.g. when we search over different\u001b[39;00m\n\u001b[1;32m    715\u001b[0m     \u001b[38;5;66;03m# estimators in a pipeline.\u001b[39;00m\n\u001b[1;32m    716\u001b[0m     \u001b[38;5;66;03m# ref: https://github.com/scikit-learn/scikit-learn/pull/26786\u001b[39;00m\n\u001b[0;32m--> 717\u001b[0m     estimator \u001b[38;5;241m=\u001b[39m \u001b[43mestimator\u001b[49m\u001b[38;5;241;43m.\u001b[39;49m\u001b[43mset_params\u001b[49m\u001b[43m(\u001b[49m\u001b[38;5;241;43m*\u001b[39;49m\u001b[38;5;241;43m*\u001b[39;49m\u001b[43mclone\u001b[49m\u001b[43m(\u001b[49m\u001b[43mparameters\u001b[49m\u001b[43m,\u001b[49m\u001b[43m \u001b[49m\u001b[43msafe\u001b[49m\u001b[38;5;241;43m=\u001b[39;49m\u001b[38;5;28;43;01mFalse\u001b[39;49;00m\u001b[43m)\u001b[49m\u001b[43m)\u001b[49m\n\u001b[1;32m    719\u001b[0m start_time \u001b[38;5;241m=\u001b[39m time\u001b[38;5;241m.\u001b[39mtime()\n\u001b[1;32m    721\u001b[0m X_train, y_train \u001b[38;5;241m=\u001b[39m _safe_split(estimator, X, y, train)\n",
      "File \u001b[0;32m/oscar/home/mrodri97/python_pack/lib/python3.9/site-packages/sklearn/base.py:263\u001b[0m, in \u001b[0;36mBaseEstimator.set_params\u001b[0;34m(self, **params)\u001b[0m\n\u001b[1;32m    253\u001b[0m         warnings\u001b[38;5;241m.\u001b[39mwarn(\n\u001b[1;32m    254\u001b[0m             (\n\u001b[1;32m    255\u001b[0m                 \u001b[38;5;124mf\u001b[39m\u001b[38;5;124m\"\u001b[39m\u001b[38;5;124mParameter \u001b[39m\u001b[38;5;124m'\u001b[39m\u001b[38;5;124mbase_estimator\u001b[39m\u001b[38;5;124m'\u001b[39m\u001b[38;5;124m of \u001b[39m\u001b[38;5;132;01m{\u001b[39;00m\u001b[38;5;28mself\u001b[39m\u001b[38;5;241m.\u001b[39m\u001b[38;5;18m__class__\u001b[39m\u001b[38;5;241m.\u001b[39m\u001b[38;5;18m__name__\u001b[39m\u001b[38;5;132;01m}\u001b[39;00m\u001b[38;5;124m is\u001b[39m\u001b[38;5;124m\"\u001b[39m\n\u001b[0;32m   (...)\u001b[0m\n\u001b[1;32m    260\u001b[0m             stacklevel\u001b[38;5;241m=\u001b[39m\u001b[38;5;241m2\u001b[39m,\n\u001b[1;32m    261\u001b[0m         )\n\u001b[1;32m    262\u001b[0m         key \u001b[38;5;241m=\u001b[39m \u001b[38;5;124m\"\u001b[39m\u001b[38;5;124mestimator\u001b[39m\u001b[38;5;124m\"\u001b[39m\n\u001b[0;32m--> 263\u001b[0m     \u001b[43mvalid_params\u001b[49m\u001b[43m[\u001b[49m\u001b[43mkey\u001b[49m\u001b[43m]\u001b[49m\u001b[38;5;241;43m.\u001b[39;49m\u001b[43mset_params\u001b[49m\u001b[43m(\u001b[49m\u001b[38;5;241;43m*\u001b[39;49m\u001b[38;5;241;43m*\u001b[39;49m\u001b[43msub_params\u001b[49m\u001b[43m)\u001b[49m\n\u001b[1;32m    265\u001b[0m \u001b[38;5;28;01mreturn\u001b[39;00m \u001b[38;5;28mself\u001b[39m\n",
      "File \u001b[0;32m/oscar/home/mrodri97/python_pack/lib/python3.9/site-packages/sklearn/gaussian_process/kernels.py:218\u001b[0m, in \u001b[0;36mKernel.set_params\u001b[0;34m(self, **params)\u001b[0m\n\u001b[1;32m    216\u001b[0m name, sub_name \u001b[38;5;241m=\u001b[39m split\n\u001b[1;32m    217\u001b[0m \u001b[38;5;28;01mif\u001b[39;00m name \u001b[38;5;129;01mnot\u001b[39;00m \u001b[38;5;129;01min\u001b[39;00m valid_params:\n\u001b[0;32m--> 218\u001b[0m     \u001b[38;5;28;01mraise\u001b[39;00m \u001b[38;5;167;01mValueError\u001b[39;00m(\n\u001b[1;32m    219\u001b[0m         \u001b[38;5;124m\"\u001b[39m\u001b[38;5;124mInvalid parameter \u001b[39m\u001b[38;5;132;01m%s\u001b[39;00m\u001b[38;5;124m for kernel \u001b[39m\u001b[38;5;132;01m%s\u001b[39;00m\u001b[38;5;124m. \u001b[39m\u001b[38;5;124m\"\u001b[39m\n\u001b[1;32m    220\u001b[0m         \u001b[38;5;124m\"\u001b[39m\u001b[38;5;124mCheck the list of available parameters \u001b[39m\u001b[38;5;124m\"\u001b[39m\n\u001b[1;32m    221\u001b[0m         \u001b[38;5;124m\"\u001b[39m\u001b[38;5;124mwith `kernel.get_params().keys()`.\u001b[39m\u001b[38;5;124m\"\u001b[39m \u001b[38;5;241m%\u001b[39m (name, \u001b[38;5;28mself\u001b[39m)\n\u001b[1;32m    222\u001b[0m     )\n\u001b[1;32m    223\u001b[0m sub_object \u001b[38;5;241m=\u001b[39m valid_params[name]\n\u001b[1;32m    224\u001b[0m sub_object\u001b[38;5;241m.\u001b[39mset_params(\u001b[38;5;241m*\u001b[39m\u001b[38;5;241m*\u001b[39m{sub_name: value})\n",
      "\u001b[0;31mValueError\u001b[0m: Invalid parameter expSineSquared for kernel ExpSineSquared(length_scale=1, periodicity=1) * RBF(length_scale=1). Check the list of available parameters with `kernel.get_params().keys()`."
     ]
    }
   ],
   "source": [
    "from sklearn.model_selection import GridSearchCV\n",
    "\n",
    "# Step 1: Create a Subset of Your Data\n",
    "X_subset, _, y_subset, _ = train_test_split(Data_x_sim, Data_y_sim, test_size=0.1, random_state=42)\n",
    "\n",
    "# Step 2: Define Hyperparameter Grid\n",
    "param_grid = {\n",
    "    'kernel__expSineSquared__length_scale': [0.1, 1.0, 2.0],\n",
    "    'kernel__expSineSquared__periodicity': [1.0, 2.0, 3.0],\n",
    "    'kernel__expSineSquared__length_scale_bounds': [(1e-2, 1e2)],\n",
    "    'kernel__rbf__length_scale': [0.1, 1.0, 2.0],\n",
    "}\n",
    "\n",
    "# Step 3: Perform Grid Search on the Subset\n",
    "kernel_combined = ExpSineSquared() * RBF()\n",
    "gp_model = GaussianProcessRegressor(kernel=kernel_combined, optimizer='fmin_l_bfgs_b', n_restarts_optimizer=20)\n",
    "scoring_metrics = {'r2': make_scorer(r2_score), 'neg_mean_squared_error': 'neg_mean_squared_error'}\n",
    "grid_search = GridSearchCV(gp_model, param_grid, cv=5, scoring=scoring_metrics, refit='neg_mean_squared_error', n_jobs=-1)\n",
    "grid_search.fit(X_subset, y_subset)\n",
    "\n",
    "# Step 4: Identify Promising Hyperparameters\n",
    "print(\"Best Hyperparameters:\", grid_search.best_params_)\n",
    "print(\"Best R^2 Score on Subset:\", grid_search.best_score_)\n",
    "\n",
    "# Step 5: Refine Hyperparameter Range (manually adjust param_grid)\n",
    "\n",
    "# Step 6: Perform Detailed Search on the Entire Dataset or Larger Subset\n",
    "# Use the refined hyperparameter range for a more detailed search\n",
    "\n"
   ]
  },
  {
   "cell_type": "code",
   "execution_count": null,
   "metadata": {},
   "outputs": [],
   "source": [
    "# Quick Kernel Hyperparameter Search\n",
    "# Define the kernel function\n",
    "kernel_ess = ExpSineSquared(length_scale=3.0, periodicity=3.14,\n",
    "                            length_scale_bounds=(0.01, 10.0),\n",
    "                            periodicity_bounds=(0.01, 10))\n",
    "\n",
    "kernel_rbf = RBF(length_scale=3.0, length_scale_bounds=(1e-2, 1e2))\n",
    "\n",
    "# Combine the kernels\n",
    "kernel_combined = kernel_ess * kernel_rbf\n",
    "\n",
    "# Define the kernel hyperparameters to search through\n",
    "lengthscale_values = [1e-3, 1e-2, 1e-1, 5e-1, 1]\n",
    "\n",
    "# Define a scoring function (R^2 and MSE)\n",
    "scoring = {'r2': 'r2', 'mse': 'neg_mean_squared_error'}\n",
    "\n",
    "# Create a DataFrame to store results\n",
    "results_dfs = []\n",
    "\n",
    "# Hyperparameter search loop\n",
    "for lengthscale_value in lengthscale_values:\n",
    "    # Update the ESS kernel with the current hyperparameter value\n",
    "    kernel_ess.set_params(length_scale_bounds=(lengthscale_value, 10))\n",
    "    \n",
    "    # Update the composite kernel\n",
    "    gp_model_sim = GaussianProcessRegressor(kernel=kernel_combined, optimizer='fmin_l_bfgs_b', n_restarts_optimizer=10)\n",
    "\n",
    "    # Cross-validation with the current hyperparameter value\n",
    "    scores = cross_validate(gp_model_sim, X_train_sim, y_train_sim, cv=5, scoring=scoring)\n",
    "\n",
    "    # Create a DataFrame with the current results\n",
    "    current_results = pd.DataFrame({\n",
    "        'Length Scale': [lengthscale_value],\n",
    "        'R^2 Mean': [np.mean(scores['test_r2'])],\n",
    "        'MSE Mean': [np.mean(scores['test_mse'])]\n",
    "    })\n",
    "\n",
    "    # Append the DataFrame to the list\n",
    "    results_dfs.append(current_results)\n",
    "\n",
    "# Concatenate all DataFrames in the list\n",
    "results_df = pd.concat(results_dfs, ignore_index=True)\n",
    "\n",
    "# Print or use the results DataFrame as needed\n",
    "print(results_df)"
   ]
  },
  {
   "cell_type": "code",
   "execution_count": null,
   "metadata": {
    "collapsed": false,
    "jupyter": {
     "outputs_hidden": false
    }
   },
   "outputs": [],
   "source": [
    "# Define the kernel function\n",
    "#kernel_ess = ExpSineSquared(length_scale=3.0, periodicity=3.14,\n",
    "                        #length_scale_bounds=(0.1, 10.0),\n",
    "                        #periodicity_bounds=(0.1, 10)) * RBF(3.0, (1e-2, 1e2))\n",
    "kernel_ess = ExpSineSquared(length_scale=3.0, periodicity=3.14,\n",
    "                        length_scale_bounds=(0.01, 10.0),\n",
    "                        periodicity_bounds=(0.01, 10)) * RBF(3.0, (1e-2, 1e2))\n",
    "\n",
    "gp_model_sim = GaussianProcessRegressor(kernel=kernel_ess, alpha=1e-6, optimizer='fmin_l_bfgs_b', n_restarts_optimizer=20)\n",
    "#gp_model = GaussianProcessRegressor(kernel=kernel, alpha=1e-10, optimizer=None, n_restarts_optimizer=20)\n",
    "\n",
    "# Fit to data to determine parameters\n",
    "gp_model_sim.fit(X_train_sim, y_train_sim)\n",
    "\n",
    "# Make the prediction on the entire dataset (for plotting)\n",
    "y_plot_pred_sim, sigma_plot_sim = gp_model_sim.predict(X_plot_sim, return_std=True) # also output the uncertainty (std)\n",
    "\n",
    "# Predict for test set (for error metric)\n",
    "y_pred_sim, sigma_sim = gp_model_sim.predict(X_test_sim, return_std=True) # also output the uncertainty (std)\n",
    "\n",
    "# Extract error metrics\n",
    "mse_ess = mean_squared_error(y_test_sim,y_pred_sim)\n",
    "r2_ess = r2_score(y_test_sim,y_pred_sim)\n",
    "print(f\"For ExpSineSquared kernel, MSE = {mse_ess:.4f},R^2 = {r2_ess:.4f}\")"
   ]
  },
  {
   "cell_type": "code",
   "execution_count": null,
   "metadata": {},
   "outputs": [],
   "source": [
    "# Plot the prediction and the 95% confidence interval\n",
    "fig1, ax1 = plt.subplots()\n",
    "\n",
    "ax1.plot(x_plot_sim, y_plot_pred_sim, 'b-', label=\"GPR prediction\")\n",
    "ax1.fill(np.concatenate([x_plot_sim, x_plot_sim[::-1]]),\n",
    "         np.concatenate([y_plot_pred_sim - 1.9600 * sigma_plot_sim,\n",
    "                        (y_plot_pred_sim + 1.9600 * sigma_plot_sim)[::-1]]),\n",
    "         alpha=.5, fc='b', ec='None', label='95% confidence interval')\n",
    "\n",
    "ax1.set_xlabel('$t$', font)\n",
    "ax1.set_ylabel('$R$', font)\n",
    "plt.xticks(fontname = \"serif\", fontsize=12)\n",
    "plt.yticks(fontname = \"serif\", fontsize=12)\n",
    "ax1.set_title(\"Posterior kernel: %s\"\n",
    "              % gp_model_sim.kernel_, font) # Show in the title the value of the hyperparameters\n",
    "ax1.legend(loc='upper left', fontsize=15)\n",
    "fig1.set_size_inches(8,8)\n",
    "plt.savefig(\"sim_ESS_optimizer.png\", bbox_inches=\"tight\")\n",
    "plt.close(fig1) # close the plot to see it in next cell"
   ]
  },
  {
   "cell_type": "code",
   "execution_count": null,
   "metadata": {
    "collapsed": false,
    "jupyter": {
     "outputs_hidden": false
    }
   },
   "outputs": [],
   "source": [
    "fig1"
   ]
  },
  {
   "cell_type": "code",
   "execution_count": null,
   "metadata": {},
   "outputs": [],
   "source": [
    "# Plot the function, the prediction and the 95% confidence interval\n",
    "fig2, ax2 = plt.subplots()\n",
    "\n",
    "ax2.plot(x_plot_sim, y_plot_pred_sim, 'b-', label=\"GPR prediction\")\n",
    "ax2.fill(np.concatenate([x_plot_sim, x_plot_sim[::-1]]),\n",
    "         np.concatenate([y_plot_pred_sim - 1.9600 * sigma_plot_sim,\n",
    "                        (y_plot_pred_sim + 1.9600 * sigma_plot_sim)[::-1]]),\n",
    "         alpha=.5, fc='b', ec='None', label='95% confidence interval')\n",
    "\n",
    "ax2.plot(x_train_sim, y_train_sim, 'ro', markersize=6, label=\"training points\") # Plot train data\n",
    "ax2.plot(x_test_sim, y_test_sim, 'kX', markersize=6, label=\"testing points\") # Plot test points\n",
    "\n",
    "ax2.set_xlabel('$t$', font)\n",
    "ax2.set_ylabel('$R$', font)\n",
    "plt.xticks(fontname = \"serif\", fontsize=12)\n",
    "plt.yticks(fontname = \"serif\", fontsize=12)\n",
    "ax2.set_title(\"Posterior kernel: %s\"\n",
    "              % gp_model_sim.kernel_, font) # Show in the title the value of the hyperparameters\n",
    "ax2.set_ylim(0, 1) # just to provide more space for the legend\n",
    "ax2.legend(loc='upper left', fontsize=15)\n",
    "fig2.set_size_inches(8,8)\n",
    "plt.savefig(\"sim_ESS_optimizer_points.png\", bbox_inches=\"tight\")\n",
    "plt.close(fig2) # close the plot to see it in next cell"
   ]
  },
  {
   "cell_type": "code",
   "execution_count": null,
   "metadata": {
    "collapsed": false,
    "jupyter": {
     "outputs_hidden": false
    }
   },
   "outputs": [],
   "source": [
    "fig2"
   ]
  },
  {
   "cell_type": "markdown",
   "metadata": {},
   "source": [
    "<d id='Training with Different Kernels: Matern with an optimizer fmin_1_bfgs_b'></d>"
   ]
  },
  {
   "cell_type": "markdown",
   "metadata": {},
   "source": [
    "### Training with Different Kernels: Matern with an optimizer fmin_1_bfgs_b"
   ]
  },
  {
   "cell_type": "code",
   "execution_count": null,
   "metadata": {},
   "outputs": [],
   "source": [
    "from sklearn.model_selection import GridSearchCV\n",
    "\n",
    "# Step 1: Create a Subset of the Data\n",
    "X_subset_sim, _, y_subset_sim, _ = train_test_split(Data_x_sim, Data_y_sim, test_size=0.1, random_state=42)\n",
    "\n",
    "# Step 2: Define Hyperparameter Grid\n",
    "param_grid = {\n",
    "    'kernel__length_scale': [0.1, 1.0, 2.0],\n",
    "    'kernel__nu': [1.0, 1.5, 2.0],\n",
    "}\n",
    "\n",
    "# Step 3: Perform Grid Search on the Subset\n",
    "kernel_matern = Matern()\n",
    "gp_model = GaussianProcessRegressor(kernel=kernel_matern, optimizer='fmin_l_bfgs_b', n_restarts_optimizer=20)\n",
    "scoring_metrics = {'r2': make_scorer(r2_score), 'neg_mean_squared_error': 'neg_mean_squared_error'}\n",
    "grid_search = GridSearchCV(gp_model, param_grid, cv=5, scoring=scoring_metrics)\n",
    "grid_search.fit(X_subset, y_subset)\n",
    "\n",
    "# Step 4: Identify Promising Hyperparameters\n",
    "print(\"Best Hyperparameters:\", grid_search.best_params_)\n",
    "print(\"Best R^2 Score on Subset:\", grid_search.best_score_)\n",
    "\n",
    "# Step 5: Refine Hyperparameter Range (manually adjust param_grid)\n",
    "\n",
    "# Step 6: Perform Detailed Search on the Entire Dataset or Larger Subset\n",
    "# Use the refined hyperparameter range for a more detailed search"
   ]
  },
  {
   "cell_type": "code",
   "execution_count": null,
   "metadata": {},
   "outputs": [],
   "source": [
    "# Define the range of values for each hyperparameter\n",
    "length_scale_values = [0.1, 1.0, 2.0]\n",
    "nu_values = [1.0, 1.5, 2.0]\n",
    "\n",
    "# Create a DataFrame to store results\n",
    "results_df = pd.DataFrame(columns=['Length Scale', 'Nu', 'R^2 Mean', 'MSE Mean'])\n",
    "\n",
    "# Hyperparameter search loop\n",
    "for length_scale_value in length_scale_values:\n",
    "    for nu_value in nu_values:\n",
    "        # Define the Matern kernel with the current hyperparameter values\n",
    "        kernel_matern = Matern(length_scale=length_scale_value, nu=nu_value)\n",
    "\n",
    "        # Create the Gaussian Process Regressor with the Matern kernel\n",
    "        gp_model = GaussianProcessRegressor(kernel=kernel_matern, optimizer='fmin_l_bfgs_b', n_restarts_optimizer=10)\n",
    "\n",
    "        # Define scoring metrics for regression\n",
    "        scoring_metrics = {'r2': make_scorer(r2_score), 'neg_mean_squared_error': 'neg_mean_squared_error'}\n",
    "\n",
    "        # Cross-validation with the current hyperparameter values\n",
    "        scores = cross_validate(gp_model, X_train_sim, y_train_sim, cv=5, scoring=scoring_metrics)\n",
    "\n",
    "        # Append results to the DataFrame\n",
    "        results_df = results_df.append({\n",
    "            'Length Scale': length_scale_value,\n",
    "            'Nu': nu_value,\n",
    "            'R^2 Mean': np.mean(scores['test_r2']),\n",
    "            'MSE Mean': np.mean(scores['test_neg_mean_squared_error'])  # Use 'neg_mean_squared_error'\n",
    "        }, ignore_index=True)\n",
    "\n",
    "# Print or use the results DataFrame as needed\n",
    "print(results_df)\n"
   ]
  },
  {
   "cell_type": "code",
   "execution_count": null,
   "metadata": {},
   "outputs": [],
   "source": [
    "# Define the range of values for each hyperparameter\n",
    "length_scale_values = [0.1, 1.0, 2.0]\n",
    "nu_values = [1.0, 1.5, 2.0]\n",
    "\n",
    "# Define a scoring function (R^2 and MSE)\n",
    "scoring_metrics = {'r2': make_scorer(r2_score), 'neg_mean_squared_error': 'neg_mean_squared_error'}\n",
    "\n",
    "# Create a list to store results\n",
    "results_list = []\n",
    "\n",
    "# Hyperparameter search loop\n",
    "for length_scale_value in length_scale_values:\n",
    "    for nu_value in nu_values:\n",
    "        # Define the Matern kernel with the current hyperparameter values\n",
    "        kernel_matern = Matern(length_scale=length_scale_value, nu=nu_value)\n",
    "\n",
    "        # Create the Gaussian Process Regressor with the Matern kernel\n",
    "        gp_model = GaussianProcessRegressor(kernel=kernel_matern, optimizer='fmin_l_bfgs_b', n_restarts_optimizer=20)\n",
    "\n",
    "        # Cross-validation with the current hyperparameter values\n",
    "        scores = cross_validate(gp_model, X_train_sim, y_train_sim, cv=5, scoring=scoring_metrics)\n",
    "\n",
    "        # Append results to the list\n",
    "        results_list.append({\n",
    "            'Length Scale': length_scale_value,\n",
    "            'Nu': nu_value,\n",
    "            'R^2 Mean': np.mean(scores['test_r2']),\n",
    "            'MSE Mean': np.mean(scores['test_neg_mean_squared_error'])  # Use neg_mean_squared_error\n",
    "        })\n",
    "\n",
    "# Create a DataFrame from the list\n",
    "results_df = pd.DataFrame(results_list)\n",
    "\n",
    "# Print or use the results DataFrame as needed\n",
    "print(results_df)\n"
   ]
  },
  {
   "cell_type": "code",
   "execution_count": null,
   "metadata": {
    "collapsed": false,
    "jupyter": {
     "outputs_hidden": false
    }
   },
   "outputs": [],
   "source": [
    "# Define the kernel function\n",
    "kernel_M = Matern(length_scale=1.0, length_scale_bounds=(1e-2, 1e2),nu=1.5)\n",
    "\n",
    "gp_model_sim = GaussianProcessRegressor(kernel=kernel_M, alpha=1e-6, optimizer='fmin_l_bfgs_b', n_restarts_optimizer=20)\n",
    "#gp_model = GaussianProcessRegressor(kernel=kernel, alpha=1e-10, optimizer=None, n_restarts_optimizer=20)\n",
    "\n",
    "# Fit to data to determine parameters\n",
    "gp_model_sim.fit(X_train_sim, y_train_sim)\n",
    "\n",
    "# Make the prediction on the entire dataset (for plotting)\n",
    "y_plot_pred_sim, sigma_plot_sim = gp_model_sim.predict(X_plot_sim, return_std=True) # also output the uncertainty (std)\n",
    "\n",
    "# Predict for test set (for error metric)\n",
    "y_pred_sim, sigma_sim = gp_model_sim.predict(X_test_sim, return_std=True) # also output the uncertainty (std)\n",
    "\n",
    "# Extract error metrics\n",
    "mse_M = mean_squared_error(y_test_sim,y_pred_sim)\n",
    "r2_M = r2_score(y_test_sim,y_pred_sim)\n",
    "print(f\"For Matern kernel, MSE = {mse_M:.4f},R^2 = {r2_M:.4f}\")"
   ]
  },
  {
   "cell_type": "code",
   "execution_count": null,
   "metadata": {},
   "outputs": [],
   "source": [
    "# Plot the prediction and the 95% confidence interval\n",
    "fig1, ax1 = plt.subplots()\n",
    "\n",
    "ax1.plot(x_plot_sim, y_plot_pred_sim, 'b-', label=\"GPR prediction\")\n",
    "ax1.fill(np.concatenate([x_plot_sim, x_plot_sim[::-1]]),\n",
    "         np.concatenate([y_plot_pred_sim - 1.9600 * sigma_plot_sim,\n",
    "                        (y_plot_pred_sim + 1.9600 * sigma_plot_sim)[::-1]]),\n",
    "         alpha=.5, fc='b', ec='None', label='95% confidence interval')\n",
    "\n",
    "ax1.set_xlabel('$t$', font)\n",
    "ax1.set_ylabel('$R$', font)\n",
    "plt.xticks(fontname = \"serif\", fontsize=12)\n",
    "plt.yticks(fontname = \"serif\", fontsize=12)\n",
    "ax1.set_title(\"Posterior kernel: %s\"\n",
    "              % gp_model_sim.kernel_, font) # Show in the title the value of the hyperparameters\n",
    "ax1.legend(loc='upper left', fontsize=15)\n",
    "fig1.set_size_inches(8,8)\n",
    "plt.savefig(\"sim_Matern_optimizer.png\", bbox_inches=\"tight\")\n",
    "plt.close(fig1) # close the plot to see it in next cell"
   ]
  },
  {
   "cell_type": "code",
   "execution_count": null,
   "metadata": {
    "collapsed": false,
    "jupyter": {
     "outputs_hidden": false
    }
   },
   "outputs": [],
   "source": [
    "fig1"
   ]
  },
  {
   "cell_type": "code",
   "execution_count": null,
   "metadata": {},
   "outputs": [],
   "source": [
    "# Plot the function, the prediction and the 95% confidence interval\n",
    "fig2, ax2 = plt.subplots()\n",
    "\n",
    "ax2.plot(x_plot_sim, y_plot_pred_sim, 'b-', label=\"GPR prediction\")\n",
    "ax2.fill(np.concatenate([x_plot_sim, x_plot_sim[::-1]]),\n",
    "         np.concatenate([y_plot_pred_sim - 1.9600 * sigma_plot_sim,\n",
    "                        (y_plot_pred_sim + 1.9600 * sigma_plot_sim)[::-1]]),\n",
    "         alpha=.5, fc='b', ec='None', label='95% confidence interval')\n",
    "\n",
    "ax2.plot(x_train_sim, y_train_sim, 'ro', markersize=6, label=\"training points\") # Plot train data\n",
    "ax2.plot(x_test_sim, y_test_sim, 'kX', markersize=6, label=\"testing points\") # Plot test points\n",
    "\n",
    "ax2.set_xlabel('$t$', font)\n",
    "ax2.set_ylabel('$R$', font)\n",
    "plt.xticks(fontname = \"serif\", fontsize=12)\n",
    "plt.yticks(fontname = \"serif\", fontsize=12)\n",
    "ax2.set_title(\"Posterior kernel: %s\"\n",
    "              % gp_model_sim.kernel_, font) # Show in the title the value of the hyperparameters\n",
    "#ax2.set_ylim(-10, 15) # just to provide more space for the legend\n",
    "ax2.legend(loc='upper left', fontsize=15)\n",
    "fig2.set_size_inches(8,8)\n",
    "plt.savefig(\"sim_Matern_optimizer_points.png\", bbox_inches=\"tight\")\n",
    "plt.close(fig2) # close the plot to see it in next cell"
   ]
  },
  {
   "cell_type": "code",
   "execution_count": null,
   "metadata": {
    "collapsed": false,
    "jupyter": {
     "outputs_hidden": false
    }
   },
   "outputs": [],
   "source": [
    "fig2"
   ]
  },
  {
   "cell_type": "markdown",
   "metadata": {},
   "source": [
    "<e id='Training with Different Kernels: common Constant*RBF kernel With No Optimizer'></e>"
   ]
  },
  {
   "cell_type": "markdown",
   "metadata": {},
   "source": [
    "### Training with Different Kernels: common Constant*RBF kernel With No Optimizer"
   ]
  },
  {
   "cell_type": "code",
   "execution_count": null,
   "metadata": {
    "collapsed": false,
    "jupyter": {
     "outputs_hidden": false
    }
   },
   "outputs": [],
   "source": [
    "# Define the kernel function\n",
    "kernel_rbf_noopt = ConstantKernel(1.0, (1e-3, 1e3)) * RBF(10, (1e-2, 1e2)) # This is the very common Constant*RBF kernel\n",
    "\n",
    "gp_model_rbf_noopt = GaussianProcessRegressor(kernel=kernel_rbf_noopt, alpha=1e-6, optimizer=None, n_restarts_optimizer=20)\n",
    "\n",
    "# Fit to data to determine parameters\n",
    "gp_model_rbf_noopt.fit(X_train_sim, y_train_sim)\n",
    "\n",
    "# Make the prediction on the entire dataset (for plotting)\n",
    "y_plot_pred_sim, sigma_plot_sim = gp_model_rbf_noopt.predict(X_plot_sim, return_std=True) # also output the uncertainty (std)\n",
    "\n",
    "# Predict for test set (for error metric)\n",
    "y_pred_sim, sigma_sim = gp_model_rbf_noopt.predict(X_test_sim, return_std=True) # also output the uncertainty (std)\n",
    "\n",
    "# Extract error metrics\n",
    "mse_rbf_noopt = mean_squared_error(y_test_sim,y_pred_sim)\n",
    "r2_rbf_noopt = r2_score(y_test_sim,y_pred_sim)\n",
    "print(f\"For Constant*RBF kernel without an optimizer, MSE = {mse_rbf_noopt:.4f},R^2 = {r2_rbf_noopt:.4f}\")"
   ]
  },
  {
   "cell_type": "code",
   "execution_count": null,
   "metadata": {},
   "outputs": [],
   "source": [
    "# Plot the prediction and the 95% confidence interval\n",
    "fig1, ax1 = plt.subplots()\n",
    "\n",
    "ax1.plot(x_plot_sim, y_plot_pred_sim, 'b-', label=\"GPR prediction\")\n",
    "ax1.fill(np.concatenate([x_plot_sim, x_plot_sim[::-1]]),\n",
    "         np.concatenate([y_plot_pred_sim - 1.9600 * sigma_plot_sim,\n",
    "                        (y_plot_pred_sim + 1.9600 * sigma_plot_sim)[::-1]]),\n",
    "         alpha=.5, fc='b', ec='None', label='95% confidence interval')\n",
    "\n",
    "ax1.set_xlabel('$t$', font)\n",
    "ax1.set_ylabel('$R$', font)\n",
    "plt.xticks(fontname = \"serif\", fontsize=12)\n",
    "plt.yticks(fontname = \"serif\", fontsize=12)\n",
    "ax1.set_title(\"Posterior kernel: %s\"\n",
    "              % gp_model_rbf_noopt.kernel_, font) # Show in the title the value of the hyperparameters\n",
    "ax1.legend(loc='upper left', fontsize=15)\n",
    "fig1.set_size_inches(8,8)\n",
    "plt.savefig(\"sim_RBF_no_optimizer_points.png\", bbox_inches=\"tight\")\n",
    "plt.close(fig1) # close the plot to see it in next cell"
   ]
  },
  {
   "cell_type": "code",
   "execution_count": null,
   "metadata": {
    "collapsed": false,
    "jupyter": {
     "outputs_hidden": false
    }
   },
   "outputs": [],
   "source": [
    "fig1"
   ]
  },
  {
   "cell_type": "markdown",
   "metadata": {},
   "source": [
    "<f id='Training with Different Kernels: ExpSineSquared with no optimizer'></f>"
   ]
  },
  {
   "cell_type": "markdown",
   "metadata": {},
   "source": [
    "### Training with Different Kernels: ExpSineSquared with no optimizer"
   ]
  },
  {
   "cell_type": "code",
   "execution_count": null,
   "metadata": {},
   "outputs": [],
   "source": [
    "# Define the kernel function\n",
    "kernel_ess_noopt = ExpSineSquared(length_scale=3.0, periodicity=3.14,\n",
    "                        length_scale_bounds=(0.1, 10.0),\n",
    "                        periodicity_bounds=(0.1, 10)) * RBF(3.0, (1e-2, 1e2))\n",
    "\n",
    "gp_model_ess_noopt = GaussianProcessRegressor(kernel=kernel_ess_noopt, alpha=1e-6, optimizer=None, n_restarts_optimizer=20)\n",
    "\n",
    "# Fit to data to determine parameters\n",
    "gp_model_ess_noopt.fit(X_train_sim, y_train_sim)\n",
    "\n",
    "# Make the prediction on the entire dataset (for plotting)\n",
    "y_plot_pred_sim, sigma_plot_sim = gp_model_ess_noopt.predict(X_plot_sim, return_std=True) # also output the uncertainty (std)\n",
    "\n",
    "# Predict for test set (for error metric)\n",
    "y_pred_sim, sigma_sim = gp_model_ess_noopt.predict(X_test_sim, return_std=True) # also output the uncertainty (std)\n",
    "\n",
    "# Extract error metrics\n",
    "mse_ess_noopt = mean_squared_error(y_test_sim,y_pred_sim)\n",
    "r2_ess_noopt = r2_score(y_test_sim,y_pred_sim)\n",
    "print(f\"For ExpSineSquared kernel without an optimizer, MSE = {mse_ess_noopt:.4f},R^2 = {r2_ess_noopt:.4f}\")"
   ]
  },
  {
   "cell_type": "code",
   "execution_count": null,
   "metadata": {},
   "outputs": [],
   "source": [
    "# Plot the prediction and the 95% confidence interval\n",
    "fig1, ax1 = plt.subplots()\n",
    "\n",
    "ax1.plot(x_plot_sim, y_plot_pred_sim, 'b-', label=\"GPR prediction\")\n",
    "ax1.fill(np.concatenate([x_plot_sim, x_plot_sim[::-1]]),\n",
    "         np.concatenate([y_plot_pred_sim - 1.9600 * sigma_plot_sim,\n",
    "                        (y_plot_pred_sim + 1.9600 * sigma_plot_sim)[::-1]]),\n",
    "         alpha=.5, fc='b', ec='None', label='95% confidence interval')\n",
    "\n",
    "ax1.set_xlabel('$t$', font)\n",
    "ax1.set_ylabel('$R$', font)\n",
    "plt.xticks(fontname = \"serif\", fontsize=12)\n",
    "plt.yticks(fontname = \"serif\", fontsize=12)\n",
    "ax1.set_title(\"Posterior kernel: %s\"\n",
    "              % gp_model_ess_noopt.kernel_, font) # Show in the title the value of the hyperparameters\n",
    "ax1.legend(loc='upper left', fontsize=15)\n",
    "plt.savefig(\"sim_ESS_no_optimizer.png\", bbox_inches=\"tight\")\n",
    "plt.close(fig1) # close the plot to see it in next cell"
   ]
  },
  {
   "cell_type": "code",
   "execution_count": null,
   "metadata": {
    "collapsed": false,
    "jupyter": {
     "outputs_hidden": false
    }
   },
   "outputs": [],
   "source": [
    "fig1"
   ]
  },
  {
   "cell_type": "markdown",
   "metadata": {},
   "source": [
    "<g id='Training with Different Kernels: Matern with no optimizer'></g>"
   ]
  },
  {
   "cell_type": "markdown",
   "metadata": {},
   "source": [
    "### Training with Different Kernels: Matern with no optimizer"
   ]
  },
  {
   "cell_type": "code",
   "execution_count": 36,
   "metadata": {},
   "outputs": [
    {
     "name": "stdout",
     "output_type": "stream",
     "text": [
      "For Matern kernel without an optimizer, MSE = 0.0000,R^2 = 0.9997\n"
     ]
    }
   ],
   "source": [
    "# Define the kernel function\n",
    "kernel_m_noopt = Matern(length_scale=1.0, length_scale_bounds=(1e-2, 1e2),nu=1.5)\n",
    "\n",
    "gp_model_m_noopt = GaussianProcessRegressor(kernel=kernel_m_noopt, alpha=1e-6, optimizer=None, n_restarts_optimizer=20)\n",
    "\n",
    "# Fit to data to determine parameters\n",
    "gp_model_m_noopt.fit(X_train_sim, y_train_sim)\n",
    "\n",
    "# Make the prediction on the entire dataset (for plotting)\n",
    "y_plot_pred_sim, sigma_plot_sim = gp_model_m_noopt.predict(X_plot_sim, return_std=True) # also output the uncertainty (std)\n",
    "\n",
    "# Predict for test set (for error metric)\n",
    "y_pred_sim, sigma_sim = gp_model_m_noopt.predict(X_test_sim, return_std=True) # also output the uncertainty (std)\n",
    "\n",
    "# Extract error metrics\n",
    "mse_m_noopt = mean_squared_error(y_test_sim,y_pred_sim)\n",
    "r2_m_noopt = r2_score(y_test_sim,y_pred_sim)\n",
    "print(f\"For Matern kernel without an optimizer, MSE = {mse_m_noopt:.4f},R^2 = {r2_m_noopt:.4f}\")"
   ]
  },
  {
   "cell_type": "code",
   "execution_count": null,
   "metadata": {},
   "outputs": [],
   "source": [
    "# Plot the prediction and the 95% confidence interval\n",
    "fig1, ax1 = plt.subplots()\n",
    "\n",
    "ax1.plot(x_plot_sim, y_plot_pred_sim, 'b-', label=\"GPR prediction\")\n",
    "ax1.fill(np.concatenate([x_plot_sim, x_plot_sim[::-1]]),\n",
    "         np.concatenate([y_plot_pred_sim - 1.9600 * sigma_plot_sim,\n",
    "                        (y_plot_pred_sim + 1.9600 * sigma_plot_sim)[::-1]]),\n",
    "         alpha=.5, fc='b', ec='None', label='95% confidence interval')\n",
    "\n",
    "ax1.set_xlabel('$t$', font)\n",
    "ax1.set_ylabel('$R$', font)\n",
    "plt.xticks(fontname = \"serif\", fontsize=12)\n",
    "plt.yticks(fontname = \"serif\", fontsize=12)\n",
    "ax1.set_title(\"Posterior kernel: %s\"\n",
    "              % gp_model_m_noopt.kernel_, font) # Show in the title the value of the hyperparameters\n",
    "ax1.legend(loc='upper left', fontsize=15)\n",
    "fig1.set_size_inches(8,8)\n",
    "plt.savefig(\"sim_Matern_no_optimizer.png\", bbox_inches=\"tight\")\n",
    "plt.close(fig1) # close the plot to see it in next cell"
   ]
  },
  {
   "cell_type": "code",
   "execution_count": null,
   "metadata": {
    "collapsed": false,
    "jupyter": {
     "outputs_hidden": false
    }
   },
   "outputs": [],
   "source": [
    "fig1"
   ]
  },
  {
   "cell_type": "markdown",
   "metadata": {},
   "source": [
    "### different optimizers? different ratios of training/testing data?"
   ]
  },
  {
   "cell_type": "markdown",
   "metadata": {},
   "source": [
    "<h id='Phase 1.5: Gaussian Process on Experimental Data Only'></h>"
   ]
  },
  {
   "cell_type": "markdown",
   "metadata": {},
   "source": [
    "# Phase 1.5: Gaussian Process on Experimental Data Only"
   ]
  },
  {
   "cell_type": "code",
   "execution_count": null,
   "metadata": {
    "collapsed": false,
    "jupyter": {
     "outputs_hidden": false
    }
   },
   "outputs": [],
   "source": [
    "#import experimental data from collaborators, pre-processing in matlab (including scaling)\n",
    "exp_df = pd.read_csv(\"../normalized_unscaled_Experimental_Data_10PA_.06BIS.csv\") # read pandas DataFrame\n",
    "print(\"Show the experimental DataFrame used for testing data:\\n\", exp_df)"
   ]
  },
  {
   "cell_type": "code",
   "execution_count": null,
   "metadata": {
    "collapsed": false,
    "jupyter": {
     "outputs_hidden": false
    }
   },
   "outputs": [],
   "source": [
    "Data_t_exp = exp_df.iloc[:,0]\n",
    "Data_R_exp = exp_df.iloc[:,1] \n",
    "print(\"Experimental x data is the time:\\n\",Data_t_exp)\n",
    "print(\"Experimental y data is the bubble radius from the camera:\\n\",Data_R_exp)"
   ]
  },
  {
   "cell_type": "code",
   "execution_count": null,
   "metadata": {
    "collapsed": false,
    "jupyter": {
     "outputs_hidden": false
    }
   },
   "outputs": [],
   "source": [
    "fig_exp_data, ax_exp_data = plt.subplots() # create a plot\n",
    "ax_exp_data.plot(Data_t_exp, Data_R_exp, 'b.')\n",
    "\n",
    "ax_exp_data.set_xlabel(\"t\", font) # create x-axis label with font size 20\n",
    "ax_exp_data.set_ylabel(\"R\", font) # create y-axis label with font size 20\n",
    "plt.xticks(fontname = \"serif\", fontsize=12)\n",
    "plt.yticks(fontname = \"serif\", fontsize=12)\n",
    "ax_exp_data.set_title(\"Experimental Bubble Radius vs Time\", font); # create title with font size 20\n",
    "\n",
    "handles, labels = ax_exp_data.get_legend_handles_labels()\n",
    "ax_exp_data.legend(handles, labels)\n",
    "plt.savefig(\"avg_exp_data.png\", bbox_inches=\"tight\")\n",
    "plt.show(fig_exp_data)"
   ]
  },
  {
   "cell_type": "code",
   "execution_count": null,
   "metadata": {
    "collapsed": false,
    "jupyter": {
     "outputs_hidden": false
    }
   },
   "outputs": [],
   "source": [
    "n_data = len(Data_t_exp) # number of points in our dataset\n",
    "testset_ratio = 0.75 # ratio of test set points from the dataset\n",
    "\n",
    "t_data_exp = np.reshape(Data_t_exp,(-1,1)) # a 2D array that scikit-learn likes\n",
    "\n",
    "seed = 1987 # set a random seed so that everyone gets the same result\n",
    "np.random.seed(seed)\n",
    "\n",
    "# Let's split into 10% training points and the rest for testing:\n",
    "X_train_exp, X_test_exp, y_train_exp, y_test_exp = train_test_split(t_data_exp,\n",
    "                                    Data_R_exp, test_size=testset_ratio,\n",
    "                                    random_state=seed)\n",
    "\n",
    "x_train_exp = X_train_exp.ravel() # just for plotting later\n",
    "x_test_exp = X_test_exp.ravel() # just for plotting later\n",
    "\n",
    "#print(\"Here's a print of X_train:\\n\", X_train_exp)"
   ]
  },
  {
   "cell_type": "code",
   "execution_count": null,
   "metadata": {
    "collapsed": false,
    "jupyter": {
     "outputs_hidden": false
    }
   },
   "outputs": [],
   "source": [
    "# Define points used for plotting\n",
    "n_max_exp = np.max(t_data_exp)\n",
    "n_min_exp = np.min(t_data_exp)\n",
    "n_plot_exp = 500 # number of points used for plotting the model\n",
    "n_max_exp = np.max(t_data_exp)\n",
    "x_plot_exp = np.linspace(n_min_exp, n_max_exp, n_plot_exp) # create dataset with uniformly spaced points\n",
    "X_plot_exp = np.reshape(x_plot_exp,(-1,1)) # a 2D array that scikit-learn likes"
   ]
  },
  {
   "cell_type": "code",
   "execution_count": null,
   "metadata": {},
   "outputs": [],
   "source": [
    "## don't need to scale as the data was already preprocessed so t is in (0,5) and R is in (0,1)\n",
    "\n",
    "# Scaling inputs with a MinMax Scaler (between 0 and 1):\n",
    "#scaler_x_exp = MinMaxScaler(feature_range=(-1,1))\n",
    "#scaler_x_exp.fit(X_train_exp)\n",
    "#\n",
    "#X_train_exp_scaled=scaler_x.transform(X_train_exp)\n",
    "#X_test_exp_scaled=scaler_x.transform(X_test_exp)\n",
    "#X_data_exp_scaled=scaler_x.transform(t_data_exp)\n",
    "\n",
    "#check\n",
    "#idx = 0 # Choose the point you want to check the value (we could also plot the entire dataset.)\n",
    "#print(\"X_data_exp[%i] is =\" % idx, t_data_exp[idx])\n",
    "#print(\"X_data_exp_scaled[%i] is =\" % idx, X_data_exp_scaled[idx])"
   ]
  },
  {
   "cell_type": "code",
   "execution_count": null,
   "metadata": {},
   "outputs": [],
   "source": [
    "## don't need to scale as the data was already preprocessed so t is in (0,5) and R is in (0,1)\n",
    "\n",
    "# Now scaling outputs also using MinMaxScaler\n",
    "y_data_exp = np.reshape(Data_t_exp,(-1,1)) # a 2D array that scikit-learn likes\n",
    "\n",
    "##y_train_exp = y_train_exp.values.reshape(-1, 1) # recall that we need to convert the 1D array vector into a 2D array vector\n",
    "##y_test_exp = y_test_exp.values.reshape(-1, 1)   # recall that we need to convert the 1D array vector into a 2D array vector\n",
    "##y_data_exp = y_data_exp.values.reshape(-1, 1)   # recall that we need to convert the 1D array vector into a 2D array vector\n",
    "#y_train_exp = y_train_exp.reshape(-1, 1) # recall that we need to convert the 1D array vector into a 2D array vector\n",
    "#y_test_exp = y_test_exp.reshape(-1, 1)   # recall that we need to convert the 1D array vector into a 2D array vector\n",
    "#y_data_exp = y_data_exp.reshape(-1, 1)   # recall that we need to convert the 1D array vector into a 2D array vector\n",
    "#\n",
    "#scaler_y_exp = MinMaxScaler(feature_range=(0,1))\n",
    "#scaler_y_exp.fit(y_train_exp) # fit the scaler to the output data\n",
    "#\n",
    "#y_train_exp_scaled=scaler_y_exp.transform(y_train_exp) # scale the output training data\n",
    "#y_test_exp_scaled=scaler_y_exp.transform(y_test_exp)  # scale the output testing data\n",
    "#y_data_exp_scaled=scaler_y_exp.transform(y_data_exp) # scale the output data (the whole dataset)\n",
    "\n",
    "#idx = 0 # Choose the point you want to check the value (we could also plot the entire dataset.)\n",
    "print(\"y_data_exp[%i] is =\" % idx, y_data_exp[idx])\n",
    "#print(\"y_data_exp_scaled[%i] is =\" % idx, y_data_exp_scaled[idx])"
   ]
  },
  {
   "cell_type": "markdown",
   "metadata": {},
   "source": [
    "<i id='Training with Different kernels: common Constant*RBF kernel with an optimizer fmin_1_bfgs_b'></i>"
   ]
  },
  {
   "cell_type": "markdown",
   "metadata": {},
   "source": [
    "## Training with Different kernels: common Constant*RBF kernel with an optimizer fmin_1_bfgs_b"
   ]
  },
  {
   "cell_type": "code",
   "execution_count": null,
   "metadata": {
    "collapsed": false,
    "jupyter": {
     "outputs_hidden": false
    }
   },
   "outputs": [],
   "source": [
    "# Define the kernel function\n",
    "kernel_rbf = ConstantKernel(1.0, (1e-3, 1e3)) * RBF(10, (1e-2, 1e2)) # This is the very common Constant*RBF kernel\n",
    "\n",
    "gp_model_exp_rbf = GaussianProcessRegressor(kernel=kernel_rbf, alpha=1e-2, optimizer='fmin_l_bfgs_b', n_restarts_optimizer=20)\n",
    "#gp_model = GaussianProcessRegressor(kernel=kernel, alpha=1e-10, optimizer=None, n_restarts_optimizer=20)\n",
    "\n",
    "# Fit to data to determine parameters\n",
    "gp_model_exp_rbf.fit(X_train_exp_scaled, y_train_exp_scaled)\n",
    "\n",
    "# Make the prediction on the entire dataset (for plotting)\n",
    "y_plot_pred_exp, sigma_plot_exp = gp_model_exp_rbf.predict(X_plot_exp, return_std=True) # also output the uncertainty (std)\n",
    "\n",
    "# Predict for test set (for error metric)\n",
    "y_pred_exp, sigma_exp = gp_model_exp_rbf.predict(X_test_exp, return_std=True) # also output the uncertainty (std)\n",
    "\n",
    "# Extract error metrics\n",
    "mse_exp_rbf = mean_squared_error(y_test_exp,y_pred_exp)\n",
    "r2_exp_rbf = r2_score(y_test_exp,y_pred_exp)\n",
    "print(f\"For Constant*RBF kernel for experimental data, MSE = {mse_exp_rbf:.4f},R^2 = {r2_exp_rbf:.4f}\")"
   ]
  },
  {
   "cell_type": "code",
   "execution_count": null,
   "metadata": {},
   "outputs": [],
   "source": [
    "# IMPORTANT: we need to scale the predictions for the mean of the output back to the original scale!\n",
    "#y_data_GPpred = scaler_y.inverse_transform(y_data_GPpred_scaled.reshape(-1, 1)) # mean\n",
    "# IMPORTANT: we need to do the same for the standard deviation of the output, but in this case we have to subtract\n",
    "#            by the mean of the training data because the standard deviation is not transformed by the\n",
    "#            StandardScaler in the same way as the mean!\n",
    "#sigma_data_GPpred = scaler_y.inverse_transform(sigma_data_GPpred_scaled.reshape(-1, 1)) - np.mean(y_train)\n",
    "#my_sigma_data_GPpred = sigma_data_GPpred_scaled.reshape(-1, 1)*np.std(y_train)\n",
    "\n",
    "# Predict for test set (for error metric)\n",
    "#y_test_GPpred_scaled, sigma_test_GPpred_scaled = gp_model.predict(X_test_scaled, return_std=True)\n",
    "# Scale mean and std back, as above.\n",
    "#y_test_GPpred = scaler_y.inverse_transform(y_test_GPpred_scaled.reshape(-1, 1))\n",
    "#sigma_test_GPpred = scaler_y.inverse_transform(sigma_test_GPpred_scaled.reshape(-1, 1)) - np.mean(y_train)"
   ]
  },
  {
   "cell_type": "code",
   "execution_count": null,
   "metadata": {},
   "outputs": [],
   "source": [
    "# Plot the prediction and the 95% confidence interval\n",
    "fig1, ax1 = plt.subplots()\n",
    "\n",
    "ax1.plot(x_plot_exp, y_plot_pred_exp, 'b-', label=\"GPR prediction\")\n",
    "ax1.fill(np.concatenate([x_plot_exp, x_plot_exp[::-1]]),\n",
    "         np.concatenate([y_plot_pred_exp - 1.9600 * sigma_plot_exp,\n",
    "                        (y_plot_pred_exp + 1.9600 * sigma_plot_exp)[::-1]]),\n",
    "         alpha=.5, fc='b', ec='None', label='95% confidence interval')\n",
    "\n",
    "ax1.plot(x_train_exp, y_train_exp, 'ro', markersize=6, label=\"training points\") # Plot train data\n",
    "ax1.plot(x_test_exp, y_test_exp, 'kX', markersize=6, label=\"testing points\") # Plot test points\n",
    "\n",
    "ax1.set_xlabel('$t$', font)\n",
    "ax1.set_ylabel('$R$', font)\n",
    "plt.xticks(fontname = \"serif\", fontsize=12)\n",
    "plt.yticks(fontname = \"serif\", fontsize=12)\n",
    "ax1.set_title(\"Posterior kernel: %s\"\n",
    "              % gp_model_exp_rbf.kernel_, font) # Show in the title the value of the hyperparameters\n",
    "ax1.legend(loc='upper left', fontsize=15)\n",
    "fig1.set_size_inches(8,8)\n",
    "plt.savefig(\"exp_RBF_optimizer_points.png\", bbox_inches=\"tight\")\n",
    "plt.close(fig1) # close the plot to see it in next cell"
   ]
  },
  {
   "cell_type": "code",
   "execution_count": null,
   "metadata": {
    "collapsed": false,
    "jupyter": {
     "outputs_hidden": false
    }
   },
   "outputs": [],
   "source": [
    "fig1"
   ]
  },
  {
   "cell_type": "markdown",
   "metadata": {},
   "source": [
    "<j id='Training with Different Kernels: ExpSineSquared with an optimizer fmin_1_bfgs_b'></j>"
   ]
  },
  {
   "cell_type": "markdown",
   "metadata": {},
   "source": [
    "### Training with Different Kernels: ExpSineSquared with an optimizer fmin_1_bfgs_b"
   ]
  },
  {
   "cell_type": "code",
   "execution_count": null,
   "metadata": {},
   "outputs": [],
   "source": [
    "# Define the kernel function\n",
    "kernel_ess = ExpSineSquared(length_scale=3.0, periodicity=3.14,\n",
    "                        length_scale_bounds=(0.1, 10.0),\n",
    "                        periodicity_bounds=(0.1, 10)) * RBF(3.0, (1e-2, 1e2))\n",
    "\n",
    "gp_model_exp_ess = GaussianProcessRegressor(kernel=kernel_ess, alpha=1e-2, optimizer='fmin_l_bfgs_b', n_restarts_optimizer=20)\n",
    "#gp_model = GaussianProcessRegressor(kernel=kernel, alpha=1e-10, optimizer=None, n_restarts_optimizer=20)\n",
    "\n",
    "# Fit to data to determine parameters\n",
    "gp_model_exp_ess.fit(X_train_exp, y_train_exp)\n",
    "\n",
    "# Make the prediction on the entire dataset (for plotting)\n",
    "y_plot_pred_exp, sigma_plot_exp = gp_model_exp_ess.predict(X_plot_exp, return_std=True) # also output the uncertainty (std)\n",
    "\n",
    "# Predict for test set (for error metric)\n",
    "y_pred_exp, sigma_exp = gp_model_exp_ess.predict(X_test_exp, return_std=True) # also output the uncertainty (std)\n",
    "\n",
    "# Extract error metrics\n",
    "mse_exp_ess = mean_squared_error(y_test_exp,y_pred_exp)\n",
    "r2_exp_ess = r2_score(y_test_exp,y_pred_exp)\n",
    "print(f\"For ExpSineSquared kernel for experimental data, MSE = {mse_exp_ess:.4f},R^2 = {r2_exp_ess:.4f}\")"
   ]
  },
  {
   "cell_type": "code",
   "execution_count": null,
   "metadata": {},
   "outputs": [],
   "source": [
    "# Plot the prediction and the 95% confidence interval\n",
    "fig1, ax1 = plt.subplots()\n",
    "\n",
    "ax1.plot(x_plot_exp, y_plot_pred_exp, 'b-', label=\"GPR prediction\")\n",
    "ax1.fill(np.concatenate([x_plot_exp, x_plot_exp[::-1]]),\n",
    "         np.concatenate([y_plot_pred_exp - 1.9600 * sigma_plot_exp,\n",
    "                        (y_plot_pred_exp + 1.9600 * sigma_plot_exp)[::-1]]),\n",
    "         alpha=.5, fc='b', ec='None', label='95% confidence interval')\n",
    "\n",
    "ax1.plot(x_train_exp, y_train_exp, 'ro', markersize=6, label=\"training points\") # Plot train data\n",
    "ax1.plot(x_test_exp, y_test_exp, 'kX', markersize=6, label=\"testing points\") # Plot test points\n",
    "\n",
    "ax1.set_xlabel('$t$', fontsize=20)\n",
    "ax1.set_ylabel('$R$', fontsize=20)\n",
    "plt.xticks(fontname = \"serif\", fontsize=12)\n",
    "plt.yticks(fontname = \"serif\", fontsize=12)\n",
    "ax1.set_title(\"Posterior kernel: %s\"\n",
    "              % gp_model_exp_ess.kernel_, font) # Show in the title the value of the hyperparameters\n",
    "ax1.legend(loc='upper left', fontsize=15)\n",
    "fig1.set_size_inches(8,8)\n",
    "plt.savefig(\"exp_ESS_optimizer_points.png\", bbox_inches=\"tight\")\n",
    "plt.close(fig1) # close the plot to see it in next cell"
   ]
  },
  {
   "cell_type": "code",
   "execution_count": null,
   "metadata": {
    "collapsed": false,
    "jupyter": {
     "outputs_hidden": false
    }
   },
   "outputs": [],
   "source": [
    "fig1"
   ]
  },
  {
   "cell_type": "markdown",
   "metadata": {},
   "source": [
    "<k id='Training with Different Kernels: Matern with an optimizer fmin_1_bfgs_b'></k>"
   ]
  },
  {
   "cell_type": "markdown",
   "metadata": {},
   "source": [
    "### Training with Different Kernels: Matern with an optimizer fmin_1_bfgs_b"
   ]
  },
  {
   "cell_type": "code",
   "execution_count": null,
   "metadata": {},
   "outputs": [],
   "source": [
    "# Define the kernel function\n",
    "kernel_m = Matern(length_scale=1.0, length_scale_bounds=(1e-2, 1e2),nu=1.5)\n",
    "\n",
    "gp_model_exp_m = GaussianProcessRegressor(kernel=kernel_m, alpha=1e-2, optimizer='fmin_l_bfgs_b', n_restarts_optimizer=20)\n",
    "#gp_model = GaussianProcessRegressor(kernel=kernel, alpha=1e-10, optimizer=None, n_restarts_optimizer=20)\n",
    "\n",
    "# Fit to data to determine parameters\n",
    "gp_model_exp_m.fit(X_train_exp, y_train_exp)\n",
    "\n",
    "# Make the prediction on the entire dataset (for plotting)\n",
    "y_plot_pred_exp, sigma_plot_exp = gp_model_exp_m.predict(X_plot_exp, return_std=True) # also output the uncertainty (std)\n",
    "\n",
    "# Predict for test set (for error metric)\n",
    "y_pred_exp, sigma_exp = gp_model_exp_m.predict(X_test_exp, return_std=True) # also output the uncertainty (std)\n",
    "\n",
    "# Extract error metrics\n",
    "mse_exp_m = mean_squared_error(y_test_exp,y_pred_exp)\n",
    "r2_exp_m = r2_score(y_test_exp,y_pred_exp)\n",
    "print(f\"For Matern kernel for experimental data, MSE = {mse_exp_m:.4f},R^2 = {r2_exp_m:.4f}\")"
   ]
  },
  {
   "cell_type": "code",
   "execution_count": null,
   "metadata": {},
   "outputs": [],
   "source": [
    "# Plot the prediction and the 95% confidence interval\n",
    "fig1, ax1 = plt.subplots()\n",
    "\n",
    "ax1.plot(x_plot_exp, y_plot_pred_exp, 'b-', label=\"GPR prediction\")\n",
    "ax1.fill(np.concatenate([x_plot_exp, x_plot_exp[::-1]]),\n",
    "         np.concatenate([y_plot_pred_exp - 1.9600 * sigma_plot_exp,\n",
    "                        (y_plot_pred_exp + 1.9600 * sigma_plot_exp)[::-1]]),\n",
    "         alpha=.5, fc='b', ec='None', label='95% confidence interval')\n",
    "\n",
    "ax1.plot(x_train_exp, y_train_exp, 'ro', markersize=6, label=\"training points\") # Plot train data\n",
    "ax1.plot(x_test_exp, y_test_exp, 'kX', markersize=6, label=\"testing points\") # Plot test points\n",
    "\n",
    "ax1.set_xlabel('$t$', font)\n",
    "ax1.set_ylabel('$R$', font)\n",
    "plt.xticks(fontname = \"serif\", fontsize=12)\n",
    "plt.yticks(fontname = \"serif\", fontsize=12)\n",
    "ax1.set_title(\"Posterior kernel: %s\"\n",
    "              % gp_model_exp_m.kernel_, font) # Show in the title the value of the hyperparameters\n",
    "ax1.legend(loc='upper left', fontsize=15)\n",
    "fig1.set_size_inches(8,8)\n",
    "plt.savefig(\"exp_Matern_optimizer_points.png\", bbox_inches=\"tight\")\n",
    "plt.close(fig1) # close the plot to see it in next cell"
   ]
  },
  {
   "cell_type": "code",
   "execution_count": null,
   "metadata": {
    "collapsed": false,
    "jupyter": {
     "outputs_hidden": false
    }
   },
   "outputs": [],
   "source": [
    "fig1"
   ]
  },
  {
   "cell_type": "markdown",
   "metadata": {},
   "source": [
    "## with no optimizer? or different optimizers?"
   ]
  },
  {
   "cell_type": "markdown",
   "metadata": {},
   "source": [
    "<l id='Phase 2: Training with Simulation Data and Testing with Experimental Data'></l>"
   ]
  },
  {
   "cell_type": "markdown",
   "metadata": {},
   "source": [
    "# Phase 2: Training with Simulation Data and Testing with Experimental Data\n",
    "## running with Constant Kernel and  f_min optimizer, Matern kernel with no optimizer"
   ]
  },
  {
   "cell_type": "code",
   "execution_count": null,
   "metadata": {
    "collapsed": false,
    "jupyter": {
     "outputs_hidden": false
    }
   },
   "outputs": [],
   "source": [
    "# training data = simulation data, test data = experimental data\n",
    "\n",
    "# defining training data\n",
    "X_train_LF = X_data_sim # a 2D array that scikit-learn likes, for simulated data\n",
    "y_train_LF = Data_y_sim\n",
    "\n",
    "# defining test data\n",
    "X_test_HF = t_data_exp\n",
    "y_test_HF = Data_R_exp\n",
    "\n",
    "n_data = len(Data_t_exp) # number of points in our dataset\n",
    "\n",
    "x_train_LF = X_train_LF.ravel() # just for plotting later\n",
    "x_test_HF = X_test_HF.ravel() # just for plotting later\n",
    "\n",
    "print(len(X_train_LF))\n",
    "print(len(y_train_LF))\n",
    "\n",
    "print(len(X_test_HF))\n",
    "print(len(y_test_HF))\n",
    "\n",
    "# Define points used for plotting\n",
    "n_max_MF = np.max(X_train_LF)\n",
    "n_min_MF = np.min(X_train_LF)\n",
    "n_plot = 500 # number of points used for plotting the model\n",
    "x_plot_MF = np.linspace(n_min_MF, n_max_MF, n_plot) # create dataset with uniformly spaced points\n",
    "X_plot_MF = np.reshape(x_plot_MF,(-1,1)) # a 2D array that scikit-learn likes"
   ]
  },
  {
   "cell_type": "markdown",
   "metadata": {},
   "source": [
    "<m id='Constant Kernel and  f_min optimizer'></m>"
   ]
  },
  {
   "cell_type": "markdown",
   "metadata": {},
   "source": [
    "### Constant Kernel and  f_min optimizer"
   ]
  },
  {
   "cell_type": "code",
   "execution_count": null,
   "metadata": {
    "collapsed": false,
    "jupyter": {
     "outputs_hidden": false
    }
   },
   "outputs": [],
   "source": [
    "# Define the kernel function\n",
    "kernel = ConstantKernel(1.0, (1e-3, 1e3)) * RBF(10, (1e-2, 1e2)) # This is the very common Constant*RBF kernel\n",
    "\n",
    "gp_model_MF_rbf = GaussianProcessRegressor(kernel=kernel, alpha=1e-6, optimizer='fmin_l_bfgs_b', n_restarts_optimizer=20)\n",
    "\n",
    "# Fit to data to determine parameters\n",
    "gp_model_MF_rbf.fit(X_train_LF, y_train_LF)\n",
    "\n",
    "# Make the prediction on the entire dataset (for plotting)\n",
    "y_plot_pred_MF, sigma_plot_MF = gp_model_MF_rbf.predict(X_plot_MF, return_std=True) # also output the uncertainty (std)\n",
    "\n",
    "# Predict for test set (for error metric)\n",
    "y_pred_MF, sigma_MF = gp_model_MF_rbf.predict(X_test_HF, return_std=True) # also output the uncertainty (std)\n",
    "\n",
    "# Extract error metrics\n",
    "mse_MF_rbf = mean_squared_error(y_test_HF,y_pred_MF)\n",
    "r2_MF_rbf = r2_score(y_test_HF,y_pred_MF)\n",
    "print(f\"For Constant*RBF kernel for multi-fidelity data, MSE = {mse_MF_rbf:.4f},R^2 = {r2_MF_rbf:.4f}\")"
   ]
  },
  {
   "cell_type": "code",
   "execution_count": null,
   "metadata": {},
   "outputs": [],
   "source": [
    "# Plot the prediction and the 95% confidence interval\n",
    "fig1, ax1 = plt.subplots()\n",
    "\n",
    "ax1.plot(x_plot_MF, y_plot_pred_MF, 'b-', label=\"GPR prediction\")\n",
    "ax1.fill(np.concatenate([x_plot_MF, x_plot_MF[::-1]]),\n",
    "         np.concatenate([y_plot_pred_MF - 1.9600 * sigma_plot_MF,\n",
    "                        (y_plot_pred_MF + 1.9600 * sigma_plot_MF)[::-1]]),\n",
    "         alpha=.5, fc='b', ec='None', label='95% confidence interval')\n",
    "\n",
    "ax1.set_xlabel('$t$', font)\n",
    "ax1.set_ylabel('$R$', font)\n",
    "plt.xticks(fontname = \"serif\", fontsize=12)\n",
    "plt.yticks(fontname = \"serif\", fontsize=12)\n",
    "ax1.set_title(\"Posterior kernel: %s\"\n",
    "              % gp_model_MF_rbf.kernel_, font) # Show in the title the value of the hyperparameters\n",
    "ax1.legend(loc='upper left', fontsize=15)\n",
    "fig1.set_size_inches(8,8)\n",
    "plt.savefig(\"exp_RBF_optimizer.png\", bbox_inches=\"tight\")\n",
    "plt.close(fig1) # close the plot to see it in next cell"
   ]
  },
  {
   "cell_type": "code",
   "execution_count": null,
   "metadata": {
    "collapsed": false,
    "jupyter": {
     "outputs_hidden": false
    }
   },
   "outputs": [],
   "source": [
    "fig1"
   ]
  },
  {
   "cell_type": "code",
   "execution_count": null,
   "metadata": {},
   "outputs": [],
   "source": [
    "# Plot the prediction and the 95% confidence interval\n",
    "fig1, ax1 = plt.subplots()\n",
    "\n",
    "ax1.plot(x_plot_MF, y_plot_pred_MF, 'b-', label=\"GPR prediction\")\n",
    "ax1.fill(np.concatenate([x_plot_MF, x_plot_MF[::-1]]),\n",
    "         np.concatenate([y_plot_pred_MF - 1.9600 * sigma_plot_MF,\n",
    "                        (y_plot_pred_MF + 1.9600 * sigma_plot_MF)[::-1]]),\n",
    "         alpha=.5, fc='b', ec='None', label='95% confidence interval')\n",
    "\n",
    "ax1.plot(x_train_LF, y_train_LF, 'ro', markersize=6, label=\"training points\") # Plot train data\n",
    "ax1.plot(x_test_HF, y_test_HF, 'kX', markersize=6, label=\"testing points\") # Plot test points\n",
    "\n",
    "ax1.set_xlabel('$t$', font)\n",
    "ax1.set_ylabel('$R$', font)\n",
    "plt.xticks(fontname = \"serif\", fontsize=12)\n",
    "plt.yticks(fontname = \"serif\", fontsize=12)\n",
    "ax1.set_title(\"Posterior kernel: %s\"\n",
    "              % gp_model_MF_rbf.kernel_, font) # Show in the title the value of the hyperparameters\n",
    "ax1.legend(loc='upper left', fontsize=15)\n",
    "fig1.set_size_inches(8,8)\n",
    "plt.savefig(\"exp_RBF_optimizer_points.png\", bbox_inches=\"tight\")\n",
    "plt.close(fig1) # close the plot to see it in next cell"
   ]
  },
  {
   "cell_type": "code",
   "execution_count": null,
   "metadata": {},
   "outputs": [],
   "source": [
    "fig1"
   ]
  },
  {
   "cell_type": "markdown",
   "metadata": {},
   "source": [
    "<n id='Matern kernel with no optimizer'></n>"
   ]
  },
  {
   "cell_type": "markdown",
   "metadata": {},
   "source": [
    "### Matern kernel with no optimizer"
   ]
  },
  {
   "cell_type": "code",
   "execution_count": null,
   "metadata": {},
   "outputs": [],
   "source": [
    "# Define the kernel function\n",
    "kernel_m = Matern(length_scale=1.0, length_scale_bounds=(1e-2, 1e2),nu=1.5)\n",
    "\n",
    "gp_model_mf_m = GaussianProcessRegressor(kernel=kernel_m, alpha=1e-6, optimizer=None, n_restarts_optimizer=20)\n",
    "\n",
    "# Fit to data to determine parameters\n",
    "gp_model_mf_m.fit(X_train_LF, y_train_LF)\n",
    "\n",
    "# Make the prediction on the entire dataset (for plotting)\n",
    "y_plot_pred_mf_m, sigma_plot_mf_m = gp_model_mf_m.predict(X_plot_MF, return_std=True) # also output the uncertainty (std)\n",
    "\n",
    "# Predict for test set (for error metric)\n",
    "y_pred_mf_m, sigma_mf_m = gp_model_mf_m.predict(X_test_HF, return_std=True) # also output the uncertainty (std)\n",
    "\n",
    "# Extract error metrics\n",
    "mse_MF_m = mean_squared_error(y_test_HF,y_pred_MF)\n",
    "r2_MF_m = r2_score(y_test_HF,y_pred_MF)\n",
    "print(f\"For Matern kernel for multi-fidelity data, MSE = {mse_MF_m:.4f},R^2 = {r2_MF_m:.4f}\")"
   ]
  },
  {
   "cell_type": "code",
   "execution_count": null,
   "metadata": {},
   "outputs": [],
   "source": [
    "# Plot the prediction and the 95% confidence interval\n",
    "fig1, ax1 = plt.subplots()\n",
    "\n",
    "ax1.plot(x_plot_MF, y_plot_pred_mf_m, 'b-', label=\"GPR prediction\")\n",
    "ax1.fill(np.concatenate([x_plot_MF, x_plot_MF[::-1]]),\n",
    "         np.concatenate([y_plot_pred_mf_m - 1.9600 * sigma_plot_mf_m,\n",
    "                        (y_plot_pred_mf_m + 1.9600 * sigma_plot_mf_m)[::-1]]),\n",
    "         alpha=.5, fc='b', ec='None', label='95% confidence interval')\n",
    "\n",
    "ax1.set_xlabel('$t$', font)\n",
    "ax1.set_ylabel('$R$', font)\n",
    "plt.xticks(fontname = \"serif\", fontsize=12)\n",
    "plt.yticks(fontname = \"serif\", fontsize=12)\n",
    "ax1.set_title(\"Posterior kernel: %s\"\n",
    "              % gp_model_mf_m.kernel_, font) # Show in the title the value of the hyperparameters\n",
    "ax1.legend(loc='upper left', fontsize=15)\n",
    "fig1.set_size_inches(8,8)\n",
    "plt.savefig(\"exp_Matern_optimizer_points.png\", bbox_inches=\"tight\")\n",
    "plt.close(fig1) # close the plot to see it in next cell"
   ]
  },
  {
   "cell_type": "code",
   "execution_count": null,
   "metadata": {
    "collapsed": false,
    "jupyter": {
     "outputs_hidden": false
    }
   },
   "outputs": [],
   "source": [
    "fig1"
   ]
  },
  {
   "cell_type": "code",
   "execution_count": null,
   "metadata": {},
   "outputs": [],
   "source": [
    "# Plot the prediction and the 95% confidence interval\n",
    "fig2, ax2 = plt.subplots()\n",
    "\n",
    "ax2.plot(x_plot_MF, y_plot_pred_MF, 'b-', label=\"GPR prediction\")\n",
    "ax2.fill(np.concatenate([x_plot_MF, x_plot_MF[::-1]]),\n",
    "         np.concatenate([y_plot_pred_MF - 1.9600 * sigma_plot_MF,\n",
    "                        (y_plot_pred_MF + 1.9600 * sigma_plot_MF)[::-1]]),\n",
    "         alpha=.5, fc='b', ec='None', label='95% confidence interval')\n",
    "\n",
    "ax2.plot(x_train_LF, y_train_LF, 'ro', markersize=6, label=\"training points\") # Plot train data\n",
    "ax2.plot(x_test_HF, y_test_HF, 'kX', markersize=6, label=\"testing points\") # Plot test points\n",
    "\n",
    "ax2.set_xlabel('$t (s)$', font)\n",
    "ax2.set_ylabel('$r (m)$', font)\n",
    "plt.xticks(fontname = \"serif\", fontsize=12)\n",
    "plt.yticks(fontname = \"serif\", fontsize=12)\n",
    "ax2.set_title(\"Posterior kernel: %s\"\n",
    "              % gp_model_mf_m.kernel_, font) # Show in the title the value of the hyperparameters\n",
    "ax2.legend(loc='upper left', fontsize=15)\n",
    "fig2.set_size_inches(8,8)\n",
    "plt.savefig(\"exp_Matern_optimizer_points.png\", bbox_inches=\"tight\")\n",
    "plt.close(fig2) # close the plot to see it in next cell"
   ]
  },
  {
   "cell_type": "code",
   "execution_count": null,
   "metadata": {},
   "outputs": [],
   "source": [
    "fig2"
   ]
  },
  {
   "cell_type": "markdown",
   "metadata": {},
   "source": [
    "<o id='Phase 3: Multi-fidelity Gaussian Process'></o>"
   ]
  },
  {
   "cell_type": "markdown",
   "metadata": {},
   "source": [
    "# Phase 3: Multi-fidelity Gaussian Process\n",
    "## GPyTorch Regression for Experimental and Simulated Bubble Dynamics"
   ]
  },
  {
   "cell_type": "code",
   "execution_count": null,
   "metadata": {
    "collapsed": false,
    "jupyter": {
     "outputs_hidden": false
    }
   },
   "outputs": [],
   "source": [
    "import math\n",
    "import torch\n",
    "import gpytorch\n",
    "from matplotlib import pyplot as plt\n",
    "\n",
    "%matplotlib inline\n",
    "%load_ext autoreload\n",
    "%autoreload"
   ]
  },
  {
   "cell_type": "code",
   "execution_count": null,
   "metadata": {},
   "outputs": [],
   "source": [
    "# Setting up Training and Testing Data\n",
    "train_x_LF = torch.Tensor(x_train_LF)\n",
    "train_y_LF = torch.Tensor(y_train_LF)\n",
    "\n",
    "X_test_HF = torch.Tensor(X_test_HF)\n",
    "y_test_HF = torch.Tensor(y_test_HF)\n",
    "\n",
    "# Stack the time tensor vertically to create a 2D tensor (column vector)\n",
    "# The resulting tensor will have shape (num_points, 1)\n",
    "input_tensor_LF = train_x_LF.view(-1, 1)"
   ]
  },
  {
   "cell_type": "code",
   "execution_count": null,
   "metadata": {},
   "outputs": [],
   "source": [
    "# We will use the simplest form of GP model, exact inference\n",
    "class ExactGPModel(gpytorch.models.ExactGP):\n",
    "    def __init__(self, train_x_LF, train_y_LF, likelihood):\n",
    "        super(ExactGPModel, self).__init__(train_x_LF, train_y_LF, likelihood)\n",
    "        self.mean_module = gpytorch.means.ConstantMean()\n",
    "        self.covar_module = gpytorch.kernels.ScaleKernel(gpytorch.kernels.RBFKernel())\n",
    "\n",
    "    def forward(self, x):\n",
    "        mean_x = self.mean_module(x)\n",
    "        covar_x = self.covar_module(x)\n",
    "        return gpytorch.distributions.MultivariateNormal(mean_x, covar_x)\n",
    "\n",
    "# initialize likelihood and model\n",
    "#likelihood = gpytorch.likelihoods.GaussianLikelihood()\n",
    "likelihood = gpytorch.likelihoods.GaussianLikelihood(jitter=1e-4)\n",
    "model = ExactGPModel(train_x_LF, train_y_LF, likelihood)"
   ]
  },
  {
   "cell_type": "code",
   "execution_count": null,
   "metadata": {},
   "outputs": [],
   "source": [
    "# Setting up Training and Testing Data\n",
    "train_x_LF = torch.Tensor(x_train_LF)\n",
    "train_y_LF = torch.Tensor(y_train_LF)\n",
    "\n",
    "X_test_HF = torch.Tensor(X_test_HF)\n",
    "y_test_HF = torch.Tensor(y_test_HF)\n",
    "\n",
    "# Stack the time tensor vertically to create a 2D tensor (column vector)\n",
    "# The resulting tensor will have shape (num_points, 1)\n",
    "#input_tensor_LF = train_x_LF.view(-1, 1)\n",
    "\n",
    "\n",
    "\n",
    "# We will use the simplest form of GP model, exact inference\n",
    "class ExactGPModel(gpytorch.models.ExactGP):\n",
    "    def __init__(self, train_x_LF, train_y_LF, likelihood):\n",
    "        super(ExactGPModel, self).__init__(train_x_LF, train_y_LF, likelihood)\n",
    "        self.mean_module = gpytorch.means.ConstantMean()\n",
    "        self.covar_module = gpytorch.kernels.ScaleKernel(gpytorch.kernels.RBFKernel())\n",
    "\n",
    "    def forward(self, x):\n",
    "        mean_x = self.mean_module(x)\n",
    "        covar_x = self.covar_module(x)\n",
    "        return gpytorch.distributions.MultivariateNormal(mean_x, covar_x)\n",
    "\n",
    "# initialize likelihood and model\n",
    "likelihood = gpytorch.likelihoods.GaussianLikelihood()\n",
    "#likelihood = gpytorch.likelihoods.GaussianLikelihood(jitter=1e-4)\n",
    "model = ExactGPModel(train_x_LF, train_y_LF, likelihood)\n",
    "\n",
    "\n",
    "\n",
    "# this is for running the notebook in our testing framework\n",
    "import torch.optim as optim\n",
    "import os\n",
    "smoke_test = ('CI' in os.environ)\n",
    "training_iter = 10 if smoke_test else 25\n",
    "\n",
    "# Find optimal model hyperparameters\n",
    "model.train()\n",
    "likelihood.train()\n",
    "\n",
    "# Use the adam optimizer\n",
    "#optimizer = torch.optim.Adam(model.parameters(), lr=0.1)  # Includes GaussianLikelihood parameters\n",
    "\n",
    "# Initialize the LBFGS optimizer\n",
    "#optimizer = optim.LBFGS(model.parameters(), lr=0.1)\n",
    "#optimizer = optim.LBFGS(model.parameters(), lr=0.5)  # Experiment with different values\n",
    "#optimizer = optim.LBFGS(model.parameters(), lr=0.1, max_iter=20, max_eval=None, tolerance_grad=1e-07, tolerance_change=1e-09, history_size=100, line_search_fn='strong_wolfe')\n",
    "optimizer = optim.LBFGS(model.parameters(), lr=0.01, max_iter=20, max_eval=None, tolerance_grad=1e-09, tolerance_change=1e-09, history_size=100, line_search_fn='strong_wolfe')\n",
    "\n",
    "# \"Loss\" for GPs - the marginal log likelihood\n",
    "mll = gpytorch.mlls.ExactMarginalLogLikelihood(likelihood, model)\n",
    "\n",
    "# Define the closure function for LBFGS optimization\n",
    "def closure():\n",
    "    optimizer.zero_grad()\n",
    "    output = model(train_x_LF)\n",
    "    loss = -mll(output, train_y_LF)\n",
    "    loss.backward()\n",
    "    return loss\n",
    "\n",
    "# Add jitter to the Cholesky decomposition\n",
    "#with gpytorch.settings.max_cholesky_size(0):  # Disable automatic jitter\n",
    "   # try:\n",
    "    # optimizer.step(closure)\n",
    "   # except gpytorch.errors.NotPSDError:\n",
    "    #    print(\"Caught NotPSDError, adding jitter to the Cholesky decomposition.\")\n",
    "     #   model.covar_module.base_kernel.raw_lengthscale.data.add_(torch.tensor(1e-5))\n",
    "\n",
    "# Run LBFGS optimization\n",
    "for i in range(training_iter):\n",
    "    # Zero gradients from previous iteration\n",
    "    optimizer.zero_grad()\n",
    "    \n",
    "    # Output from model\n",
    "    output = model(train_x_LF)\n",
    "    \n",
    "    # Calculate loss and backprop gradients\n",
    "    loss = -mll(output, train_y_LF)\n",
    "    loss.backward()\n",
    "    \n",
    "    # Calculate and print the gradient norm\n",
    "    grad_norm = torch.norm(torch.cat([p.grad.flatten() for p in model.parameters()]))\n",
    "    \n",
    "    print('Iter %d/%d - Loss: %.3f   lengthscale: %.3f   noise: %.3f   Gradient Norm: %.3f' % (\n",
    "        i + 1, training_iter, loss.item(),\n",
    "        model.covar_module.base_kernel.lengthscale.item(),\n",
    "        model.likelihood.noise.item(),\n",
    "        grad_norm.item()\n",
    "    ))\n",
    "    \n",
    "    # Take an optimization step\n",
    "    optimizer.step(closure)\n",
    "\n",
    "#found decreasing the learning rate to 0.1 leads to lengthscale of 0.018 while learning rate =0.01 leads to lengthscale: 0.022"
   ]
  },
  {
   "cell_type": "code",
   "execution_count": null,
   "metadata": {},
   "outputs": [],
   "source": [
    "# Setting up Training and Testing Data\n",
    "train_x_LF = torch.Tensor(x_train_LF)\n",
    "train_y_LF = torch.Tensor(y_train_LF)\n",
    "\n",
    "x_test_HF = torch.Tensor(X_test_HF)\n",
    "y_test_HF = torch.Tensor(y_test_HF)\n",
    "\n",
    "# Stack the time tensor vertically to create a 2D tensor (column vector)\n",
    "# The resulting tensor will have shape (num_points, 1)\n",
    "#input_tensor_LF = train_x_LF.view(-1, 1)\n",
    "\n",
    "\n",
    "\n",
    "# We will use the simplest form of GP model, exact inference\n",
    "class ExactGPModel(gpytorch.models.ExactGP):\n",
    "    def __init__(self, train_x_LF, train_y_LF, likelihood):\n",
    "        super(ExactGPModel, self).__init__(train_x_LF, train_y_LF, likelihood)\n",
    "        self.mean_module = gpytorch.means.ConstantMean()\n",
    "        self.covar_module = gpytorch.kernels.ScaleKernel(gpytorch.kernels.RBFKernel())\n",
    "\n",
    "    def forward(self, x):\n",
    "        mean_x = self.mean_module(x)\n",
    "        covar_x = self.covar_module(x)\n",
    "        return gpytorch.distributions.MultivariateNormal(mean_x, covar_x)\n",
    "\n",
    "# initialize likelihood and model\n",
    "likelihood = gpytorch.likelihoods.GaussianLikelihood()\n",
    "#likelihood = gpytorch.likelihoods.GaussianLikelihood(jitter=1e-4)\n",
    "model = ExactGPModel(train_x_LF, train_y_LF, likelihood)\n",
    "\n",
    "\n",
    "\n",
    "# this is for running the notebook in our testing framework\n",
    "import torch.optim as optim\n",
    "import os\n",
    "smoke_test = ('CI' in os.environ)\n",
    "training_iter = 10 if smoke_test else 125\n",
    "\n",
    "# Find optimal model hyperparameters\n",
    "model.train()\n",
    "likelihood.train()\n",
    "\n",
    "# Use the adam optimizer\n",
    "optimizer = torch.optim.Adam(model.parameters(), lr=0.1)  # Includes GaussianLikelihood parameters\n",
    "\n",
    "# \"Loss\" for GPs - the marginal log likelihood\n",
    "mll = gpytorch.mlls.ExactMarginalLogLikelihood(likelihood, model)\n",
    "\n",
    "for i in range(training_iter):\n",
    "    # Zero gradients from previous iteration\n",
    "    optimizer.zero_grad()\n",
    "    \n",
    "    # Output from model\n",
    "    output = model(train_x_LF)\n",
    "    \n",
    "    # Calculate loss and backprop gradients\n",
    "    loss = -mll(output, train_y_LF)\n",
    "    loss.backward()\n",
    "    \n",
    "    # Calculate and print the gradient norm\n",
    "    grad_norm = torch.norm(torch.cat([p.grad.flatten() for p in model.parameters()]))\n",
    "    \n",
    "    print('Iter %d/%d - Loss: %.3f   lengthscale: %.3f   noise: %.3f   Gradient Norm: %.3f' % (\n",
    "        i + 1, training_iter, loss.item(),\n",
    "        model.covar_module.base_kernel.lengthscale.item(),\n",
    "        model.likelihood.noise.item(),\n",
    "        grad_norm.item()\n",
    "    ))\n",
    "    \n",
    "    # Take an optimization step\n",
    "    optimizer.step()"
   ]
  },
  {
   "cell_type": "code",
   "execution_count": null,
   "metadata": {},
   "outputs": [],
   "source": [
    "# Get into evaluation (predictive posterior) mode\n",
    "model.eval()\n",
    "likelihood.eval()\n",
    "\n",
    "# Test points are regularly spaced along [0,1]\n",
    "# Make predictions by feeding model through likelihood\n",
    "with torch.no_grad(), gpytorch.settings.fast_pred_var():\n",
    "    test_x = torch.linspace(-1, 1, 51)\n",
    "    observed_pred = likelihood(model(x_test_HF))"
   ]
  },
  {
   "cell_type": "code",
   "execution_count": null,
   "metadata": {},
   "outputs": [],
   "source": [
    "with torch.no_grad():\n",
    "    # Initialize plot\n",
    "    f, ax = plt.subplots(1, 1, figsize=(4, 3))\n",
    "    # Get upper and lower confidence bounds\n",
    "    lower, upper = observed_pred.confidence_region()\n",
    "\n",
    "    # Flatten tensors and convert to NumPy arrays\n",
    "    train_x_LF_np = train_x_LF.numpy().flatten()\n",
    "    train_y_LF_np = train_y_LF.numpy().flatten()\n",
    "    x_test_HF_np = x_test_HF.numpy().flatten()\n",
    "    observed_mean_np = observed_pred.mean.numpy().flatten()\n",
    "    \n",
    "    # Plot training data as black stars\n",
    "    ax.plot(train_x_LF_np, train_y_LF_np, 'k*')\n",
    "    # Plot predictive means as blue line\n",
    "    ax.plot(x_test_HF_np, observed_mean_np, 'b')\n",
    "    # Shade between the lower and upper confidence bounds\n",
    "    ax.fill_between(x_test_HF_np, lower.numpy().flatten(), upper.numpy().flatten(), alpha=0.5)\n",
    "    ax.set_ylim([-1.0, 1.0])\n",
    "    ax.legend(['Observed Data', 'Mean', 'Confidence'])\n",
    "\n",
    "    plt.xticks(fontname = \"serif\", fontsize=12)\n",
    "    plt.yticks(fontname = \"serif\", fontsize=12)\n",
    "    ax.set_title(\"Multivariate Normal Gaussian with Posterior kernel: %s\"\n",
    "              % model.likelihood_, font) # Show in the title the value of the hyperparameters\n",
    "    plt.savefig(\"multifidelity_singletask.png\", bbox_inches=\"tight\")"
   ]
  },
  {
   "cell_type": "markdown",
   "metadata": {},
   "source": [
    "# Phase 4: Multitask GP Regression"
   ]
  },
  {
   "cell_type": "code",
   "execution_count": null,
   "metadata": {},
   "outputs": [],
   "source": [
    "#Retrieve dataframes\n",
    "sim_df = pd.read_csv(\"../Simulation_Data_0.107_13900.csv\") # read pandas DataFrame for simulated data (low-fidelity)\n",
    "exp_df = pd.read_csv(\"../Experimental_Data_10PA_.06BIS.csv\") # read pandas DataFrame for experimental data (high fidelity)\n",
    "\n",
    "Data_x = torch.cat([torch.tensor(sim_df.iloc[:, 0], dtype=torch.float32),\n",
    "                    torch.tensor(exp_df.iloc[:, 0], dtype=torch.float32)])\n",
    "\n",
    "Data_y = torch.cat([torch.tensor(sim_df.iloc[:, 1], dtype=torch.float32),\n",
    "                    torch.tensor(exp_df.iloc[:, 1], dtype=torch.float32)])\n",
    "\n",
    "\n",
    "# Reshape Data_x and Data_y if needed\n",
    "Data_x = Data_x.view(-1, 1)\n",
    "Data_y = Data_y.view(-1, 1)\n",
    "\n",
    "print(\"Data_x size:\", Data_x.size())\n",
    "print(\"Data_y size:\", Data_y.size())\n",
    "\n",
    "# Let's split into x% training points and the rest for testing:\n",
    "X_train, X_test, Y_train, Y_test = train_test_split(Data_x,\n",
    "                                    Data_y, test_size=testset_ratio,\n",
    "                                    random_state=seed)\n",
    "#X_train = X_train.ravel() # just for plotting later\n",
    "#X_test = X_test.ravel() # just for plotting later\n",
    "\n",
    "# Check the shapes\n",
    "print(\"X_train size:\", X_train.size())\n",
    "print(\"Y_train size:\", Y_train.size())\n",
    "output = model(X_train)\n",
    "print(output)\n",
    "\n",
    "numtasks=2\n",
    "Y_train_reshaped = Y_train.view(-1, 1).expand(-1, numtasks)\n",
    "print(\"Y_train_reshaped:\", Y_train_reshaped.size())"
   ]
  },
  {
   "cell_type": "code",
   "execution_count": null,
   "metadata": {},
   "outputs": [],
   "source": [
    "####remove once works\n",
    "\n",
    "# Create the multi-task GP model\n",
    "likelihood = gpytorch.likelihoods.MultitaskGaussianLikelihood(num_tasks=numtasks)\n",
    "model = MultitaskGPModel(X_train, Y_train_reshaped, likelihood)\n",
    "\n",
    "#checking if any attributes of the model are None\n",
    "for name, param in model.named_parameters():\n",
    "    print(f'{name}: requires_grad={param.requires_grad}')\n",
    "for param_group in optimizer.param_groups:\n",
    "    print(f'Param group: {param_group}')"
   ]
  },
  {
   "cell_type": "code",
   "execution_count": null,
   "metadata": {},
   "outputs": [],
   "source": [
    "#####testing\n",
    "for i in range(training_iterations):\n",
    "    optimizer.zero_grad()\n",
    "    output = model(X_train)\n",
    "    loss = -mll(output, Y_train_reshaped)\n",
    "    loss.backward()\n",
    "\n",
    "    # Print information about parameters and gradients\n",
    "    #for name, param in model.named_parameters():\n",
    "       # print(f'Parameter: {name}, Grad: {param.grad}')\n",
    "\n",
    "    # Update the gradient norm calculation\n",
    "    non_empty_grads = [p.grad.flatten() for p in model.parameters() if p.grad is not None and p.requires_grad]\n",
    "\n",
    "    if non_empty_grads:\n",
    "        grad_norm = torch.norm(torch.cat(non_empty_grads))\n",
    "        print('Iter %d/%d - Loss: %.3f   Gradient Norm: %.3f' % (\n",
    "            i + 1, training_iterations, loss.item(), grad_norm.item()\n",
    "        ))\n",
    "    else:\n",
    "        print('No gradients found.')\n",
    "\n",
    "    optimizer.step()\n"
   ]
  },
  {
   "cell_type": "code",
   "execution_count": null,
   "metadata": {},
   "outputs": [],
   "source": [
    "# Make predictions\n",
    "# Set into eval mode\n",
    "model.eval()\n",
    "likelihood.eval()\n",
    "\n",
    "# Initialize plots\n",
    "f, (y1_ax, y2_ax) = plt.subplots(1, 2, figsize=(8, 3))\n",
    "\n",
    "with torch.no_grad(), gpytorch.settings.fast_pred_var():\n",
    "    predictions = likelihood(model(torch.from_numpy(X_test)))\n",
    "    mean = predictions.mean\n",
    "    lower, upper = predictions.confidence_region()\n",
    "\n",
    "# Flatten tensors and convert to NumPy arrays\n",
    "Y_train_np = Y_train.numpy().flatten()\n",
    "observed_mean_np = observed_pred.mean.numpy().flatten()\n",
    "\n",
    "# Plot training data as black stars\n",
    "y1_ax.plot(X_train, Y_train_np, 'k*')\n",
    "# Predictive mean as blue line\n",
    "#y1_ax.plot(X_test, mean.numpy(), 'b')\n",
    "y1_ax.plot(X_test_np, observed_mean_np, 'b')\n",
    "# Shade in confidence\n",
    "y1_ax.fill_between(X_test, lower.numpy(), upper.numpy(), alpha=0.5)\n",
    "y1_ax.set_ylim([-3, 3])\n",
    "y1_ax.legend(['Observed Data', 'Mean', 'Confidence'])\n",
    "y1_ax.set_title('Observed Values (Likelihood)')\n",
    "\n",
    "# Plot training data as black stars\n",
    "y2_ax.plot(X_train.numpy(), Y_train_np[:, 0].numpy(), 'k*')\n",
    "# Predictive mean as blue line\n",
    "y2_ax.plot(X_test.numpy(), mean[:, 0].numpy(), 'b')\n",
    "# Shade in confidence\n",
    "y2_ax.fill_between(X_test.numpy(), lower[:, 0].numpy(), upper[:, 0].numpy(), alpha=0.5)\n",
    "y2_ax.set_ylim([-3, 3])\n",
    "y2_ax.legend(['Observed Data', 'Mean', 'Confidence'])\n",
    "y2_ax.set_title('Observed Values (Likelihood)')\n",
    "\n",
    "None"
   ]
  },
  {
   "cell_type": "code",
   "execution_count": null,
   "metadata": {},
   "outputs": [],
   "source": [
    "#Make predictions with the model\n",
    "# Set into eval mode\n",
    "model.eval()\n",
    "likelihood.eval()\n",
    "\n",
    "# Initialize plots\n",
    "f, (y1_ax, y2_ax) = plt.subplots(1, 2, figsize=(8, 3))\n",
    "\n",
    "# Make predictions\n",
    "with torch.no_grad(), gpytorch.settings.fast_pred_var():\n",
    "    predictions = likelihood(model(torch.from_numpy(X_test)))\n",
    "    mean = predictions.mean\n",
    "    lower, upper = predictions.confidence_region()\n",
    "\n",
    "# Convert necessary arrays to PyTorch tensors\n",
    "X_train_tensor = torch.from_numpy(X_train)\n",
    "Y_train_reshaped_tensor = torch.from_numpy(Y_train_reshaped)\n",
    "X_test_tensor = torch.from_numpy(X_test)\n",
    "\n",
    "# Plot training data as black stars\n",
    "y1_ax.plot(X_train_tensor.numpy(), Y_train_reshaped_tensor[:, 0].numpy(), 'k*')\n",
    "# Predictive mean as blue line\n",
    "y1_ax.plot(X_test_tensor.numpy(), mean[:, 0].numpy(), 'b')\n",
    "# Shade in confidence\n",
    "y1_ax.fill_between(X_test_tensor.numpy(), lower[:, 0].numpy(), upper[:, 0].numpy(), alpha=0.5)\n",
    "y1_ax.set_ylim([-3, 3])\n",
    "y1_ax.legend(['Observed Data', 'Mean', 'Confidence'])\n",
    "y1_ax.set_title('Observed Values (Likelihood)')\n",
    "\n",
    "# Plot training data as black stars\n",
    "y2_ax.plot(X_train_tensor.numpy(), Y_train_reshaped_tensor[:, 0].numpy(), 'k*')\n",
    "# Predictive mean as blue line\n",
    "y2_ax.plot(X_test_tensor.numpy(), mean[:, 0].numpy(), 'b')\n",
    "# Shade in confidence\n",
    "y2_ax.fill_between(X_test_tensor.numpy(), lower[:, 0].numpy(), upper[:, 0].numpy(), alpha=0.5)\n",
    "y2_ax.set_ylim([-3, 3])\n",
    "y2_ax.legend(['Observed Data', 'Mean', 'Confidence'])\n",
    "y2_ax.set_title('Observed Values (Likelihood)')\n",
    "\n",
    "\n",
    "None"
   ]
  },
  {
   "cell_type": "code",
   "execution_count": null,
   "metadata": {},
   "outputs": [],
   "source": []
  },
  {
   "cell_type": "code",
   "execution_count": null,
   "metadata": {},
   "outputs": [],
   "source": [
    "testset_ratio = 0.75 # ratio of test set points from the dataset\n",
    "seed = 1987 # set a random seed so that everyone gets the same result\n",
    "np.random.seed(seed)\n",
    "numtasks=2\n",
    "\n",
    "class MultitaskGPModel(gpytorch.models.ExactGP):\n",
    "    def __init__(self, X_train, Y_train, likelihood):\n",
    "        super(MultitaskGPModel, self).__init__(X_train, Y_train, likelihood)\n",
    "        self.mean_module = gpytorch.means.MultitaskMean(\n",
    "            gpytorch.means.ConstantMean(), num_tasks=numtasks\n",
    "        )\n",
    "        self.covar_module = gpytorch.kernels.MultitaskKernel(\n",
    "            gpytorch.kernels.RBFKernel(), num_tasks=numtasks, rank=1\n",
    "        )\n",
    "\n",
    "    def forward(self, x):\n",
    "        mean_x = self.mean_module(x)\n",
    "        covar_x = self.covar_module(x)\n",
    "        return gpytorch.distributions.MultitaskMultivariateNormal(mean_x, covar_x)\n",
    "\n",
    "# Create the multi-task GP model\n",
    "likelihood = gpytorch.likelihoods.MultitaskGaussianLikelihood(num_tasks=numtasks)\n",
    "model = MultitaskGPModel(X_train, Y_train_reshaped, likelihood)\n",
    "\n",
    "\n",
    "#training the model hyperparameters\n",
    "# this is for running the notebook in our testing framework\n",
    "import os\n",
    "smoke_test = ('CI' in os.environ)\n",
    "training_iterations = 2 if smoke_test else 50\n",
    "\n",
    "\n",
    "# Find optimal model hyperparameters\n",
    "model.train()\n",
    "likelihood.train()\n",
    "\n",
    "# Use the adam optimizer\n",
    "optimizer = torch.optim.Adam(model.parameters(), lr=0.1)  # Includes GaussianLikelihood parameters\n",
    "\n",
    "# \"Loss\" for GPs - the marginal log likelihood\n",
    "mll = gpytorch.mlls.ExactMarginalLogLikelihood(likelihood, model)\n",
    "\n",
    "# Calculate and print the gradient norm\n",
    "grad_norm = torch.norm(torch.cat([p.grad.flatten() for p in model.parameters() if p.grad is not None and p.requires_grad]))\n",
    "\n",
    "for i in range(training_iterations):\n",
    "    optimizer.zero_grad()\n",
    "    output = model(X_train)\n",
    "    loss = -mll(output, Y_train_reshaped)\n",
    "    loss.backward()\n",
    "    print('Iter %d/%d - Loss: %.3f lengthscale: %.3f   noise: %.3f   Gradient Norm: %.3f' % (\n",
    "    i + 1, training_iterations, loss.item()),\n",
    "    model.covar_module.base_kernel.lengthscale.item(),\n",
    "    model.likelihood.noise.item(),\n",
    "    grad_norm.item())\n",
    "    #print('Iter %d/%d - Loss: %.3f lengthscale: %.3f noise: %.3f' % (\n",
    "    #i + 1, training_iterations, loss.item()),\n",
    "    #model.covar_module.base_kernel.lengthscale.item(),\n",
    "    #model.likelihood.noise.item())\n",
    "\n",
    "    optimizer.step()\n",
    "\n"
   ]
  },
  {
   "cell_type": "code",
   "execution_count": null,
   "metadata": {},
   "outputs": [],
   "source": [
    "#Make predictions with the model\n",
    "# Set into eval mode\n",
    "model.eval()\n",
    "likelihood.eval()\n",
    "\n",
    "# Initialize plots\n",
    "f, (y1_ax, y2_ax) = plt.subplots(1, 2, figsize=(8, 3))\n",
    "\n",
    "# Make predictions\n",
    "with torch.no_grad(), gpytorch.settings.fast_pred_var():\n",
    "    predictions = likelihood(model(X_test_HF))\n",
    "    mean = predictions.mean\n",
    "    lower, upper = predictions.confidence_region()\n",
    "\n",
    "# This contains predictions for both tasks, flattened out\n",
    "    # Flatten tensors and convert to NumPy arrays\n",
    "    train_x_LF_np = train_x_LF.numpy().flatten()\n",
    "    train_y_LF_reshaped_np = train_y_LF_reshaped.numpy().flatten()\n",
    "    x_test_HF_np = X_test_HF.numpy().flatten()\n",
    "    observed_mean_np = observed_pred.mean.numpy().flatten()\n",
    "# The first half of the predictions is for the first task\n",
    "# The second half is for the second task\n",
    "\n",
    "# Plot training data as black stars\n",
    "y1_ax.plot(train_x_LF.detach().numpy(), train_y_LF_reshaped[:, 0].detach().numpy(), 'k*')\n",
    "# Predictive mean as blue line\n",
    "y1_ax.plot(x_test_HF_np.numpy(), mean[:, 0].numpy(), 'b')\n",
    "# Shade in confidence\n",
    "y1_ax.fill_between(x_test_HF_np.numpy(), lower[:, 0].numpy(), upper[:, 0].numpy(), alpha=0.5)\n",
    "y1_ax.set_ylim([-3, 3])\n",
    "y1_ax.legend(['Observed Data', 'Mean', 'Confidence'])\n",
    "y1_ax.set_title('Observed Values (Likelihood)')\n",
    "\n",
    "# Plot training data as black stars\n",
    "y2_ax.plot(train_x_LF.detach().numpy(), train_y_LF_reshaped[:, 1].detach().numpy(), 'k*')\n",
    "# Predictive mean as blue line\n",
    "y2_ax.plot(x_test_HF_np.numpy(), mean[:, 1].numpy(), 'b')\n",
    "# Shade in confidence\n",
    "y2_ax.fill_between(x_test_HF_np.numpy(), lower[:, 1].numpy(), upper[:, 1].numpy(), alpha=0.5)\n",
    "y2_ax.set_ylim([-3, 3])\n",
    "y2_ax.legend(['Observed Data', 'Mean', 'Confidence'])\n",
    "y2_ax.set_title('Observed Values (Likelihood)')\n",
    "\n",
    "None"
   ]
  },
  {
   "cell_type": "code",
   "execution_count": null,
   "metadata": {},
   "outputs": [],
   "source": []
  },
  {
   "cell_type": "code",
   "execution_count": null,
   "metadata": {},
   "outputs": [],
   "source": []
  },
  {
   "cell_type": "code",
   "execution_count": null,
   "metadata": {},
   "outputs": [],
   "source": []
  },
  {
   "cell_type": "code",
   "execution_count": null,
   "metadata": {},
   "outputs": [],
   "source": [
    "import math\n",
    "import torch\n",
    "import gpytorch\n",
    "from matplotlib import pyplot as plt\n",
    "\n",
    "%matplotlib inline\n",
    "%load_ext autoreload\n",
    "%autoreload 2"
   ]
  },
  {
   "cell_type": "code",
   "execution_count": null,
   "metadata": {},
   "outputs": [],
   "source": [
    "# Ensure that the total number of elements remains the same\n",
    "#assert train_y_LF.numel() % num_tasks == 0, \"Number of tasks should evenly divide the total number of elements\"\n",
    "# Explicitly create a new tensor with the desired shape\n",
    "#train_y_LF_reshaped = torch.zeros(train_y_LF.numel() // num_tasks, num_tasks)\n",
    "# Populate the new tensor with the values from train_y_LF\n",
    "#for i in range(num_tasks):\n",
    "    #train_y_LF_reshaped[:, i] = train_y_LF[i::num_tasks]\n",
    "#train_y_LF_reshaped = train_y_LF.view(-1, num_tasks)\n",
    "train_y_LF_reshaped = train_y_LF.view(-1, 1).expand(-1, num_tasks)\n",
    "print(\"Target shape:\", train_y_LF_reshaped.shape)\n",
    "\n",
    "#print(output)\n",
    "#print(train_y_LF_reshaped)"
   ]
  },
  {
   "cell_type": "code",
   "execution_count": null,
   "metadata": {},
   "outputs": [],
   "source": [
    "#define a multitask model\n",
    "numtasks = 2\n",
    "\n",
    "class MultitaskGPModel(gpytorch.models.ExactGP):\n",
    "    def __init__(self, train_x_LF, train_y_LF_reshaped, likelihood):\n",
    "        super(MultitaskGPModel, self).__init__(train_x_LF, train_y_LF_reshaped, likelihood)\n",
    "        self.mean_module = gpytorch.means.MultitaskMean(\n",
    "            gpytorch.means.ConstantMean(), num_tasks=numtasks\n",
    "        )\n",
    "        self.covar_module = gpytorch.kernels.MultitaskKernel(\n",
    "            gpytorch.kernels.RBFKernel(), num_tasks=numtasks, rank=1\n",
    "        )\n",
    "\n",
    "    def forward(self, x):\n",
    "        mean_x = self.mean_module(x)\n",
    "        covar_x = self.covar_module(x)\n",
    "        return gpytorch.distributions.MultitaskMultivariateNormal(mean_x, covar_x)\n",
    "\n",
    "\n",
    "likelihood = gpytorch.likelihoods.MultitaskGaussianLikelihood(num_tasks=numtasks)\n",
    "model = MultitaskGPModel(train_x_LF, train_y_LF_reshaped, likelihood)\n",
    "\n",
    "\n",
    "print(\"Output shape:\", output.shape)\n",
    "print(\"Target shape:\", train_y_LF.shape)"
   ]
  },
  {
   "cell_type": "code",
   "execution_count": null,
   "metadata": {},
   "outputs": [],
   "source": [
    "#training the model hyperparameters\n",
    "# this is for running the notebook in our testing framework\n",
    "import os\n",
    "smoke_test = ('CI' in os.environ)\n",
    "training_iterations = 2 if smoke_test else 50\n",
    "\n",
    "\n",
    "# Find optimal model hyperparameters\n",
    "model.train()\n",
    "likelihood.train()\n",
    "\n",
    "# Use the adam optimizer\n",
    "optimizer = torch.optim.Adam(model.parameters(), lr=0.1)  # Includes GaussianLikelihood parameters\n",
    "\n",
    "# \"Loss\" for GPs - the marginal log likelihood\n",
    "mll = gpytorch.mlls.ExactMarginalLogLikelihood(likelihood, model)\n",
    "\n",
    "# Calculate and print the gradient norm\n",
    "#grad_norm = torch.norm(torch.cat([p.grad.flatten() for p in model.parameters()]))\n",
    "\n",
    "for i in range(training_iterations):\n",
    "    optimizer.zero_grad()\n",
    "    output = model(train_x_LF)\n",
    "    loss = -mll(output, train_y_LF_reshaped)\n",
    "    loss.backward()\n",
    "    #print('Iter %d/%d - Loss: %.3f lengthscale: %.3f   noise: %.3f   Gradient Norm: %.3f' % (\n",
    "    #i + 1, training_iterations, loss.item()),\n",
    "    #model.covar_module.base_kernel.lengthscale.item(),\n",
    "    #model.likelihood.noise.item(),\n",
    "    #grad_norm.item())\n",
    "    print('Iter %d/%d - Loss: %.3f lengthscale: %.3f noise: %.3f' % (\n",
    "    i + 1, training_iterations, loss.item()),\n",
    "    model.covar_module.base_kernel.lengthscale.item(),\n",
    "    model.likelihood.noise.item())\n",
    "\n",
    "    optimizer.step()"
   ]
  },
  {
   "cell_type": "code",
   "execution_count": null,
   "metadata": {},
   "outputs": [],
   "source": [
    "#Make predictions with the model\n",
    "# Set into eval mode\n",
    "model.eval()\n",
    "likelihood.eval()\n",
    "\n",
    "# Initialize plots\n",
    "f, (y1_ax, y2_ax) = plt.subplots(1, 2, figsize=(8, 3))\n",
    "\n",
    "# Make predictions\n",
    "with torch.no_grad(), gpytorch.settings.fast_pred_var():\n",
    "    predictions = likelihood(model(X_test_HF))\n",
    "    mean = predictions.mean\n",
    "    lower, upper = predictions.confidence_region()\n",
    "\n",
    "# This contains predictions for both tasks, flattened out\n",
    "    # Flatten tensors and convert to NumPy arrays\n",
    "    train_x_LF_np = train_x_LF.numpy().flatten()\n",
    "    train_y_LF_reshaped_np = train_y_LF_reshaped.numpy().flatten()\n",
    "    x_test_HF_np = X_test_HF.numpy().flatten()\n",
    "    observed_mean_np = observed_pred.mean.numpy().flatten()\n",
    "# The first half of the predictions is for the first task\n",
    "# The second half is for the second task\n",
    "\n",
    "# Plot training data as black stars\n",
    "y1_ax.plot(train_x_LF.detach().numpy(), train_y_LF_reshaped[:, 0].detach().numpy(), 'k*')\n",
    "# Predictive mean as blue line\n",
    "y1_ax.plot(x_test_HF_np.numpy(), mean[:, 0].numpy(), 'b')\n",
    "# Shade in confidence\n",
    "y1_ax.fill_between(x_test_HF_np.numpy(), lower[:, 0].numpy(), upper[:, 0].numpy(), alpha=0.5)\n",
    "y1_ax.set_ylim([-3, 3])\n",
    "y1_ax.legend(['Observed Data', 'Mean', 'Confidence'])\n",
    "y1_ax.set_title('Observed Values (Likelihood)')\n",
    "\n",
    "# Plot training data as black stars\n",
    "y2_ax.plot(train_x_LF.detach().numpy(), train_y_LF_reshaped[:, 1].detach().numpy(), 'k*')\n",
    "# Predictive mean as blue line\n",
    "y2_ax.plot(x_test_HF_np.numpy(), mean[:, 1].numpy(), 'b')\n",
    "# Shade in confidence\n",
    "y2_ax.fill_between(x_test_HF_np.numpy(), lower[:, 1].numpy(), upper[:, 1].numpy(), alpha=0.5)\n",
    "y2_ax.set_ylim([-3, 3])\n",
    "y2_ax.legend(['Observed Data', 'Mean', 'Confidence'])\n",
    "y2_ax.set_title('Observed Values (Likelihood)')\n",
    "\n",
    "None"
   ]
  },
  {
   "cell_type": "code",
   "execution_count": null,
   "metadata": {},
   "outputs": [],
   "source": [
    "#TUTORIAL ON MULTITASK GP\n",
    "import math\n",
    "import torch\n",
    "import gpytorch\n",
    "from matplotlib import pyplot as plt\n",
    "\n",
    "%matplotlib inline\n",
    "%load_ext autoreload\n",
    "%autoreload 2\n",
    "\n",
    "train_x = torch.linspace(0, 1, 100)\n",
    "\n",
    "train_y = torch.stack([\n",
    "    torch.sin(train_x * (2 * math.pi)) + torch.randn(train_x.size()) * 0.2,\n",
    "    torch.cos(train_x * (2 * math.pi)) + torch.randn(train_x.size()) * 0.2,\n",
    "], -1)\n",
    "\n",
    "class MultitaskGPModel(gpytorch.models.ExactGP):\n",
    "    def __init__(self, train_x, train_y, likelihood):\n",
    "        super(MultitaskGPModel, self).__init__(train_x, train_y, likelihood)\n",
    "        self.mean_module = gpytorch.means.MultitaskMean(\n",
    "            gpytorch.means.ConstantMean(), num_tasks=2\n",
    "        )\n",
    "        self.covar_module = gpytorch.kernels.MultitaskKernel(\n",
    "            gpytorch.kernels.RBFKernel(), num_tasks=2, rank=1\n",
    "        )\n",
    "\n",
    "    def forward(self, x):\n",
    "        mean_x = self.mean_module(x)\n",
    "        covar_x = self.covar_module(x)\n",
    "        return gpytorch.distributions.MultitaskMultivariateNormal(mean_x, covar_x)\n",
    "\n",
    "\n",
    "likelihood = gpytorch.likelihoods.MultitaskGaussianLikelihood(num_tasks=2)\n",
    "model = MultitaskGPModel(train_x, train_y, likelihood)\n",
    "\n",
    "# this is for running the notebook in our testing framework\n",
    "import os\n",
    "smoke_test = ('CI' in os.environ)\n",
    "training_iterations = 2 if smoke_test else 50\n",
    "\n",
    "\n",
    "# Find optimal model hyperparameters\n",
    "model.train()\n",
    "likelihood.train()\n",
    "\n",
    "# Use the adam optimizer\n",
    "optimizer = torch.optim.Adam(model.parameters(), lr=0.1)  # Includes GaussianLikelihood parameters\n",
    "\n",
    "# \"Loss\" for GPs - the marginal log likelihood\n",
    "mll = gpytorch.mlls.ExactMarginalLogLikelihood(likelihood, model)\n",
    "\n",
    "for i in range(training_iterations):\n",
    "    optimizer.zero_grad()\n",
    "    output = model(train_x)\n",
    "    loss = -mll(output, train_y)\n",
    "    loss.backward()\n",
    "    print('Iter %d/%d - Loss: %.3f' % (i + 1, training_iterations, loss.item()))\n",
    "    optimizer.step()\n",
    "\n",
    "# Set into eval mode\n",
    "model.eval()\n",
    "likelihood.eval()\n",
    "\n",
    "# Initialize plots\n",
    "f, (y1_ax, y2_ax) = plt.subplots(1, 2, figsize=(8, 3))\n",
    "\n",
    "# Make predictions\n",
    "with torch.no_grad(), gpytorch.settings.fast_pred_var():\n",
    "    test_x = torch.linspace(0, 1, 51)\n",
    "    predictions = likelihood(model(test_x))\n",
    "    mean = predictions.mean\n",
    "    lower, upper = predictions.confidence_region()\n",
    "\n",
    "# This contains predictions for both tasks, flattened out\n",
    "# The first half of the predictions is for the first task\n",
    "# The second half is for the second task\n",
    "\n",
    "# Plot training data as black stars\n",
    "y1_ax.plot(train_x.detach().numpy(), train_y[:, 0].detach().numpy(), 'k*')\n",
    "# Predictive mean as blue line\n",
    "y1_ax.plot(test_x.numpy(), mean[:, 0].numpy(), 'b')\n",
    "# Shade in confidence\n",
    "y1_ax.fill_between(test_x.numpy(), lower[:, 0].numpy(), upper[:, 0].numpy(), alpha=0.5)\n",
    "y1_ax.set_ylim([-3, 3])\n",
    "y1_ax.legend(['Observed Data', 'Mean', 'Confidence'])\n",
    "y1_ax.set_title('Observed Values (Likelihood)')\n",
    "\n",
    "# Plot training data as black stars\n",
    "y2_ax.plot(train_x.detach().numpy(), train_y[:, 1].detach().numpy(), 'k*')\n",
    "# Predictive mean as blue line\n",
    "y2_ax.plot(test_x.numpy(), mean[:, 1].numpy(), 'b')\n",
    "# Shade in confidence\n",
    "y2_ax.fill_between(test_x.numpy(), lower[:, 1].numpy(), upper[:, 1].numpy(), alpha=0.5)\n",
    "y2_ax.set_ylim([-3, 3])\n",
    "y2_ax.legend(['Observed Data', 'Mean', 'Confidence'])\n",
    "y2_ax.set_title('Observed Values (Likelihood)')\n",
    "\n",
    "None"
   ]
  },
  {
   "cell_type": "code",
   "execution_count": null,
   "metadata": {},
   "outputs": [],
   "source": [
    "train_x = torch.linspace(0, 1, 100)\n",
    "\n",
    "#train_y = torch.stack([\n",
    "    #torch.sin(train_x * (2 * math.pi)) + torch.randn(train_x.size()) * 0.2,\n",
    "   # torch.cos(train_x * (2 * math.pi)) + torch.randn(train_x.size()) * 0.2,\n",
    "#], -1)\n",
    "train_y = torch.stack([\n",
    "    torch.sin(train_x * (2 * math.pi)) + torch.randn(train_x.size()) * 0.2,\n",
    "    torch.cos(train_x * (2 * math.pi)) + torch.randn(train_x.size()) * 0.2,\n",
    "],-1)\n",
    "\n",
    "print(train_x.shape)\n",
    "print(train_y.shape)\n",
    "print(train_x)\n",
    "print(train_y)"
   ]
  },
  {
   "cell_type": "code",
   "execution_count": null,
   "metadata": {},
   "outputs": [],
   "source": []
  },
  {
   "cell_type": "code",
   "execution_count": null,
   "metadata": {},
   "outputs": [],
   "source": [
    "#botorch\n",
    "from botorch.models import SingleTaskGP\n",
    "from botorch.fit import fit_gpytorch_mll\n",
    "from botorch.utils import standardize\n",
    "from gpytorch.mlls import ExactMarginalLogLikelihood\n",
    "\n",
    "#fit model\n",
    "train_X = torch.rand(10, 2)\n",
    "Y = 1 - torch.linalg.norm(train_X - 0.5, dim=-1, keepdim=True)\n",
    "Y = Y + 0.1 * torch.randn_like(Y)  # add some noise\n",
    "train_Y = standardize(Y)\n",
    "\n",
    "gp = SingleTaskGP(train_X, train_Y)\n",
    "mll = ExactMarginalLogLikelihood(gp.likelihood, gp)\n",
    "fit_gpytorch_mll(mll)"
   ]
  },
  {
   "cell_type": "code",
   "execution_count": null,
   "metadata": {
    "collapsed": false,
    "jupyter": {
     "outputs_hidden": false
    }
   },
   "outputs": [],
   "source": [
    "#construct acquisition function\n",
    "from botorch.acquisition import UpperConfidenceBound\n",
    "\n",
    "UCB = UpperConfidenceBound(gp, beta=0.1)"
   ]
  },
  {
   "cell_type": "code",
   "execution_count": null,
   "metadata": {},
   "outputs": [],
   "source": [
    "#optimize acquisition function\n",
    "from botorch.optim import optimize_acqf\n",
    "\n",
    "bounds = torch.stack([torch.zeros(2), torch.ones(2)])\n",
    "candidate, acq_value = optimize_acqf(\n",
    "    UCB, bounds=bounds, q=1, num_restarts=5, raw_samples=20,\n",
    ")\n",
    "candidate  # tensor([0.4887, 0.5063])"
   ]
  },
  {
   "cell_type": "markdown",
   "metadata": {},
   "source": [
    "<p id='Phase 4: Comparing Error Metrics'></p>"
   ]
  },
  {
   "cell_type": "markdown",
   "metadata": {},
   "source": [
    "# Phase 4: Comparing Error Metrics"
   ]
  },
  {
   "cell_type": "markdown",
   "metadata": {},
   "source": [
    "### # Phase 5: Different Materials? More data files? Different shear moduli/viscosity (hyperparameters?)\n",
    "## Slides (12) for presentation: 2 GP (M), 4 data-assim (V), 4 - multi-fidelity (M), 2 - ? (V)\n",
    "### want understanding: why chose those algorithms, compare algorithms, explain new methods used"
   ]
  },
  {
   "cell_type": "markdown",
   "metadata": {
    "collapsed": true,
    "jupyter": {
     "outputs_hidden": true
    }
   },
   "source": [
    "# Things to Do\n",
    "- [12/01] use new experimental data from Bachir (10%/0.06% PA/BIS)\n",
    "- [12/01] scale new experimental data ?\n",
    "- [12/01] change simulated data that this notebook takes to be the one that corresponds most closely to the G and mu of Bachir's exp data\n",
    "- [12/03] change f_min optimizer to be lgbs in scikit-learn side and in gpytorch side\n",
    "- [N/A] duplicate gpytorch in multiple kernels to compare with scikit-learn\n",
    "- [12/03] go back and add error metrics for all GP algorithms\n",
    "- scale data using StandardScaler in scikit-learn ->\n",
    "- will have to figure out how to scale for GPyTorch\n",
    "- [12/05-6] change figure characteristics to produce consistent pretty pictures\n",
    "- catalog and compare error metrics for all GP algorithms\n",
    "- better understand multitask GP Regression and try to implement\n",
    "- if have time, try fully bayesian GP to sample hyperparameters"
   ]
  },
  {
   "cell_type": "code",
   "execution_count": null,
   "metadata": {},
   "outputs": [],
   "source": []
  }
 ],
 "metadata": {
  "kernelspec": {
   "display_name": "Python 3 (ipykernel)",
   "language": "python",
   "name": "python3"
  },
  "language_info": {
   "codemirror_mode": {
    "name": "ipython",
    "version": 3
   },
   "file_extension": ".py",
   "mimetype": "text/x-python",
   "name": "python",
   "nbconvert_exporter": "python",
   "pygments_lexer": "ipython3",
   "version": "3.9.0"
  }
 },
 "nbformat": 4,
 "nbformat_minor": 4
}
