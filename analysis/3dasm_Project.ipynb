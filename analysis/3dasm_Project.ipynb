{
 "cells": [
  {
   "cell_type": "markdown",
   "metadata": {},
   "source": [
    "# 3dasm Project"
   ]
  },
  {
   "cell_type": "markdown",
   "metadata": {},
   "source": [
    "## Agenda\n",
    "1. [Phase 1: Gaussian Process on Simulated Data only](#Phase-1:-Gaussian-Process-on-Simulated-Data-only)\n",
    "2. [Training with Different Kernels: common Constant*RBF kernel with an optimizer fmin_1_bfgs_b](#Training-with-Different-Kernels:-common-Constant*RBF-kernel-with-an-optimizer-fmin_1_bfgs_b)\n",
    "3. [Training with Different Kernels: ExpSineSquared with an optimizer fmin_1_bfgs_b](#Training-with-Different-Kernels:-ExpSineSquared-with-an-optimizer-fmin_1_bfgs_b)\n",
    "4. [Training with Different Kernels: Matern with an optimizer fmin_1_bfgs_b](#Training-with-Different-Kernels:-Matern-with-an-optimizer-fmin_1_bfgs_b)\n",
    "5. [Training with Different Kernels: common Constant*RBF kernel With No Optimizer](#Training-with-Different-Kernels:-common-Constant*RBF-kernel-With-No-Optimizer)\n",
    "6. [Training with Different Kernels: ExpSineSquared with no optimizer](#Training-with-Different-Kernels:-ExpSineSquared-with-no-optimizer)\n",
    "7. [Training with Different Kernels: Matern with no optimizer](#Training-with-Different-Kernels:-Matern-with-no-optimizer)\n",
    "8. [Phase 1.5: Gaussian Process on Experimental Data Only](#Phase-1.5:-Gaussian-Process-on-Experimental-Data-Only)\n",
    "9. [Training with Different kernels: common Constant*RBF kernel with an optimizer fmin_1_bfgs_b](#Training-with-Different-kernels:-common-Constant*RBF-kernel-with-an-optimizer-fmin_1_bfgs_b)\n",
    "10. [Training with Different Kernels: ExpSineSquared with an optimizer fmin_1_bfgs_b](#Training-with-Different-Kernels:-ExpSineSquared-with-an-optimizer-fmin_1_bfgs_b)\n",
    "11. [Training with Different Kernels: Matern with an optimizer fmin_1_bfgs_b](#Training-with-Different-Kernels:-Matern-with-an-optimizer-fmin_1_bfgs_b)\n",
    "12. [Phase 2: Training with Simulation Data and Testing with Experimental Data](#Phase-2:-Training-with-Simulation-Data-and-Testing-with-Experimental-Data)\n",
    "13. [Constant Kernel and  f_min optimizer](#Constant-Kernel-and-f_min-optimizer)\n",
    "14. [Matern kernel with no optimizer](#Matern-kernel-with-no-optimizer)\n",
    "15. [Phase 3: Multi-fidelity Gaussian Process](#Phase-3:-Multi-fidelity-Gaussian-Process)\n",
    "16. [Phase 4: Error Metrics](#Phase-4:-Error-Metrics)"
   ]
  },
  {
   "cell_type": "markdown",
   "metadata": {},
   "source": [
    "### Importing necessary packages"
   ]
  },
  {
   "cell_type": "code",
   "execution_count": 5,
   "metadata": {},
   "outputs": [],
   "source": [
    "import matplotlib.pyplot as plt # import plotting tools to create figures\n",
    "import numpy as np # import numpy to handle a lot of things!\n",
    "from IPython.display import display, Math # to print with Latex math\n",
    "import pandas as pd\n",
    "\n",
    "%config InlineBackend.figure_format = \"retina\" # render higher resolution images in the notebook\n",
    "plt.rcParams[\"figure.figsize\"] = (8,4) # rescale figure size appropriately for slides"
   ]
  },
  {
   "cell_type": "code",
   "execution_count": 6,
   "metadata": {},
   "outputs": [],
   "source": [
    "from sklearn.gaussian_process import GaussianProcessRegressor\n",
    "from sklearn.gaussian_process.kernels import RBF, Matern, ExpSineSquared, ConstantKernel, WhiteKernel"
   ]
  },
  {
   "cell_type": "markdown",
   "metadata": {},
   "source": [
    "<a id='Phase 1: Gaussian Process on Simulated Data only'></a>"
   ]
  },
  {
   "cell_type": "markdown",
   "metadata": {},
   "source": [
    "## Phase 1: Gaussian Process on Simulated Data only"
   ]
  },
  {
   "cell_type": "code",
   "execution_count": 7,
   "metadata": {
    "collapsed": false,
    "jupyter": {
     "outputs_hidden": false
    }
   },
   "outputs": [
    {
     "ename": "FileNotFoundError",
     "evalue": "[Errno 2] No such file or directory: 'bdata/neoHookean/data_0.00021544_0.001.csv'",
     "output_type": "error",
     "traceback": [
      "\u001b[0;31m---------------------------------------------------------------------------\u001b[0m",
      "\u001b[0;31mFileNotFoundError\u001b[0m                         Traceback (most recent call last)",
      "Cell \u001b[0;32mIn[7], line 1\u001b[0m\n\u001b[0;32m----> 1\u001b[0m sim_df \u001b[38;5;241m=\u001b[39m \u001b[43mpd\u001b[49m\u001b[38;5;241;43m.\u001b[39;49m\u001b[43mread_csv\u001b[49m\u001b[43m(\u001b[49m\u001b[38;5;124;43m\"\u001b[39;49m\u001b[38;5;124;43mbdata/neoHookean/data_0.00021544_0.001.csv\u001b[39;49m\u001b[38;5;124;43m\"\u001b[39;49m\u001b[43m)\u001b[49m \u001b[38;5;66;03m# read pandas DataFrame\u001b[39;00m\n\u001b[1;32m      2\u001b[0m \u001b[38;5;28mprint\u001b[39m(\u001b[38;5;124m\"\u001b[39m\u001b[38;5;124mShow the simulated DataFrameused for training data:\u001b[39m\u001b[38;5;130;01m\\n\u001b[39;00m\u001b[38;5;124m\"\u001b[39m, sim_df)\n",
      "File \u001b[0;32m/oscar/home/mcarcana/3dasm_project/lib/python3.9/site-packages/pandas/io/parsers/readers.py:948\u001b[0m, in \u001b[0;36mread_csv\u001b[0;34m(filepath_or_buffer, sep, delimiter, header, names, index_col, usecols, dtype, engine, converters, true_values, false_values, skipinitialspace, skiprows, skipfooter, nrows, na_values, keep_default_na, na_filter, verbose, skip_blank_lines, parse_dates, infer_datetime_format, keep_date_col, date_parser, date_format, dayfirst, cache_dates, iterator, chunksize, compression, thousands, decimal, lineterminator, quotechar, quoting, doublequote, escapechar, comment, encoding, encoding_errors, dialect, on_bad_lines, delim_whitespace, low_memory, memory_map, float_precision, storage_options, dtype_backend)\u001b[0m\n\u001b[1;32m    935\u001b[0m kwds_defaults \u001b[38;5;241m=\u001b[39m _refine_defaults_read(\n\u001b[1;32m    936\u001b[0m     dialect,\n\u001b[1;32m    937\u001b[0m     delimiter,\n\u001b[0;32m   (...)\u001b[0m\n\u001b[1;32m    944\u001b[0m     dtype_backend\u001b[38;5;241m=\u001b[39mdtype_backend,\n\u001b[1;32m    945\u001b[0m )\n\u001b[1;32m    946\u001b[0m kwds\u001b[38;5;241m.\u001b[39mupdate(kwds_defaults)\n\u001b[0;32m--> 948\u001b[0m \u001b[38;5;28;01mreturn\u001b[39;00m \u001b[43m_read\u001b[49m\u001b[43m(\u001b[49m\u001b[43mfilepath_or_buffer\u001b[49m\u001b[43m,\u001b[49m\u001b[43m \u001b[49m\u001b[43mkwds\u001b[49m\u001b[43m)\u001b[49m\n",
      "File \u001b[0;32m/oscar/home/mcarcana/3dasm_project/lib/python3.9/site-packages/pandas/io/parsers/readers.py:611\u001b[0m, in \u001b[0;36m_read\u001b[0;34m(filepath_or_buffer, kwds)\u001b[0m\n\u001b[1;32m    608\u001b[0m _validate_names(kwds\u001b[38;5;241m.\u001b[39mget(\u001b[38;5;124m\"\u001b[39m\u001b[38;5;124mnames\u001b[39m\u001b[38;5;124m\"\u001b[39m, \u001b[38;5;28;01mNone\u001b[39;00m))\n\u001b[1;32m    610\u001b[0m \u001b[38;5;66;03m# Create the parser.\u001b[39;00m\n\u001b[0;32m--> 611\u001b[0m parser \u001b[38;5;241m=\u001b[39m \u001b[43mTextFileReader\u001b[49m\u001b[43m(\u001b[49m\u001b[43mfilepath_or_buffer\u001b[49m\u001b[43m,\u001b[49m\u001b[43m \u001b[49m\u001b[38;5;241;43m*\u001b[39;49m\u001b[38;5;241;43m*\u001b[39;49m\u001b[43mkwds\u001b[49m\u001b[43m)\u001b[49m\n\u001b[1;32m    613\u001b[0m \u001b[38;5;28;01mif\u001b[39;00m chunksize \u001b[38;5;129;01mor\u001b[39;00m iterator:\n\u001b[1;32m    614\u001b[0m     \u001b[38;5;28;01mreturn\u001b[39;00m parser\n",
      "File \u001b[0;32m/oscar/home/mcarcana/3dasm_project/lib/python3.9/site-packages/pandas/io/parsers/readers.py:1448\u001b[0m, in \u001b[0;36mTextFileReader.__init__\u001b[0;34m(self, f, engine, **kwds)\u001b[0m\n\u001b[1;32m   1445\u001b[0m     \u001b[38;5;28mself\u001b[39m\u001b[38;5;241m.\u001b[39moptions[\u001b[38;5;124m\"\u001b[39m\u001b[38;5;124mhas_index_names\u001b[39m\u001b[38;5;124m\"\u001b[39m] \u001b[38;5;241m=\u001b[39m kwds[\u001b[38;5;124m\"\u001b[39m\u001b[38;5;124mhas_index_names\u001b[39m\u001b[38;5;124m\"\u001b[39m]\n\u001b[1;32m   1447\u001b[0m \u001b[38;5;28mself\u001b[39m\u001b[38;5;241m.\u001b[39mhandles: IOHandles \u001b[38;5;241m|\u001b[39m \u001b[38;5;28;01mNone\u001b[39;00m \u001b[38;5;241m=\u001b[39m \u001b[38;5;28;01mNone\u001b[39;00m\n\u001b[0;32m-> 1448\u001b[0m \u001b[38;5;28mself\u001b[39m\u001b[38;5;241m.\u001b[39m_engine \u001b[38;5;241m=\u001b[39m \u001b[38;5;28;43mself\u001b[39;49m\u001b[38;5;241;43m.\u001b[39;49m\u001b[43m_make_engine\u001b[49m\u001b[43m(\u001b[49m\u001b[43mf\u001b[49m\u001b[43m,\u001b[49m\u001b[43m \u001b[49m\u001b[38;5;28;43mself\u001b[39;49m\u001b[38;5;241;43m.\u001b[39;49m\u001b[43mengine\u001b[49m\u001b[43m)\u001b[49m\n",
      "File \u001b[0;32m/oscar/home/mcarcana/3dasm_project/lib/python3.9/site-packages/pandas/io/parsers/readers.py:1705\u001b[0m, in \u001b[0;36mTextFileReader._make_engine\u001b[0;34m(self, f, engine)\u001b[0m\n\u001b[1;32m   1703\u001b[0m     \u001b[38;5;28;01mif\u001b[39;00m \u001b[38;5;124m\"\u001b[39m\u001b[38;5;124mb\u001b[39m\u001b[38;5;124m\"\u001b[39m \u001b[38;5;129;01mnot\u001b[39;00m \u001b[38;5;129;01min\u001b[39;00m mode:\n\u001b[1;32m   1704\u001b[0m         mode \u001b[38;5;241m+\u001b[39m\u001b[38;5;241m=\u001b[39m \u001b[38;5;124m\"\u001b[39m\u001b[38;5;124mb\u001b[39m\u001b[38;5;124m\"\u001b[39m\n\u001b[0;32m-> 1705\u001b[0m \u001b[38;5;28mself\u001b[39m\u001b[38;5;241m.\u001b[39mhandles \u001b[38;5;241m=\u001b[39m \u001b[43mget_handle\u001b[49m\u001b[43m(\u001b[49m\n\u001b[1;32m   1706\u001b[0m \u001b[43m    \u001b[49m\u001b[43mf\u001b[49m\u001b[43m,\u001b[49m\n\u001b[1;32m   1707\u001b[0m \u001b[43m    \u001b[49m\u001b[43mmode\u001b[49m\u001b[43m,\u001b[49m\n\u001b[1;32m   1708\u001b[0m \u001b[43m    \u001b[49m\u001b[43mencoding\u001b[49m\u001b[38;5;241;43m=\u001b[39;49m\u001b[38;5;28;43mself\u001b[39;49m\u001b[38;5;241;43m.\u001b[39;49m\u001b[43moptions\u001b[49m\u001b[38;5;241;43m.\u001b[39;49m\u001b[43mget\u001b[49m\u001b[43m(\u001b[49m\u001b[38;5;124;43m\"\u001b[39;49m\u001b[38;5;124;43mencoding\u001b[39;49m\u001b[38;5;124;43m\"\u001b[39;49m\u001b[43m,\u001b[49m\u001b[43m \u001b[49m\u001b[38;5;28;43;01mNone\u001b[39;49;00m\u001b[43m)\u001b[49m\u001b[43m,\u001b[49m\n\u001b[1;32m   1709\u001b[0m \u001b[43m    \u001b[49m\u001b[43mcompression\u001b[49m\u001b[38;5;241;43m=\u001b[39;49m\u001b[38;5;28;43mself\u001b[39;49m\u001b[38;5;241;43m.\u001b[39;49m\u001b[43moptions\u001b[49m\u001b[38;5;241;43m.\u001b[39;49m\u001b[43mget\u001b[49m\u001b[43m(\u001b[49m\u001b[38;5;124;43m\"\u001b[39;49m\u001b[38;5;124;43mcompression\u001b[39;49m\u001b[38;5;124;43m\"\u001b[39;49m\u001b[43m,\u001b[49m\u001b[43m \u001b[49m\u001b[38;5;28;43;01mNone\u001b[39;49;00m\u001b[43m)\u001b[49m\u001b[43m,\u001b[49m\n\u001b[1;32m   1710\u001b[0m \u001b[43m    \u001b[49m\u001b[43mmemory_map\u001b[49m\u001b[38;5;241;43m=\u001b[39;49m\u001b[38;5;28;43mself\u001b[39;49m\u001b[38;5;241;43m.\u001b[39;49m\u001b[43moptions\u001b[49m\u001b[38;5;241;43m.\u001b[39;49m\u001b[43mget\u001b[49m\u001b[43m(\u001b[49m\u001b[38;5;124;43m\"\u001b[39;49m\u001b[38;5;124;43mmemory_map\u001b[39;49m\u001b[38;5;124;43m\"\u001b[39;49m\u001b[43m,\u001b[49m\u001b[43m \u001b[49m\u001b[38;5;28;43;01mFalse\u001b[39;49;00m\u001b[43m)\u001b[49m\u001b[43m,\u001b[49m\n\u001b[1;32m   1711\u001b[0m \u001b[43m    \u001b[49m\u001b[43mis_text\u001b[49m\u001b[38;5;241;43m=\u001b[39;49m\u001b[43mis_text\u001b[49m\u001b[43m,\u001b[49m\n\u001b[1;32m   1712\u001b[0m \u001b[43m    \u001b[49m\u001b[43merrors\u001b[49m\u001b[38;5;241;43m=\u001b[39;49m\u001b[38;5;28;43mself\u001b[39;49m\u001b[38;5;241;43m.\u001b[39;49m\u001b[43moptions\u001b[49m\u001b[38;5;241;43m.\u001b[39;49m\u001b[43mget\u001b[49m\u001b[43m(\u001b[49m\u001b[38;5;124;43m\"\u001b[39;49m\u001b[38;5;124;43mencoding_errors\u001b[39;49m\u001b[38;5;124;43m\"\u001b[39;49m\u001b[43m,\u001b[49m\u001b[43m \u001b[49m\u001b[38;5;124;43m\"\u001b[39;49m\u001b[38;5;124;43mstrict\u001b[39;49m\u001b[38;5;124;43m\"\u001b[39;49m\u001b[43m)\u001b[49m\u001b[43m,\u001b[49m\n\u001b[1;32m   1713\u001b[0m \u001b[43m    \u001b[49m\u001b[43mstorage_options\u001b[49m\u001b[38;5;241;43m=\u001b[39;49m\u001b[38;5;28;43mself\u001b[39;49m\u001b[38;5;241;43m.\u001b[39;49m\u001b[43moptions\u001b[49m\u001b[38;5;241;43m.\u001b[39;49m\u001b[43mget\u001b[49m\u001b[43m(\u001b[49m\u001b[38;5;124;43m\"\u001b[39;49m\u001b[38;5;124;43mstorage_options\u001b[39;49m\u001b[38;5;124;43m\"\u001b[39;49m\u001b[43m,\u001b[49m\u001b[43m \u001b[49m\u001b[38;5;28;43;01mNone\u001b[39;49;00m\u001b[43m)\u001b[49m\u001b[43m,\u001b[49m\n\u001b[1;32m   1714\u001b[0m \u001b[43m\u001b[49m\u001b[43m)\u001b[49m\n\u001b[1;32m   1715\u001b[0m \u001b[38;5;28;01massert\u001b[39;00m \u001b[38;5;28mself\u001b[39m\u001b[38;5;241m.\u001b[39mhandles \u001b[38;5;129;01mis\u001b[39;00m \u001b[38;5;129;01mnot\u001b[39;00m \u001b[38;5;28;01mNone\u001b[39;00m\n\u001b[1;32m   1716\u001b[0m f \u001b[38;5;241m=\u001b[39m \u001b[38;5;28mself\u001b[39m\u001b[38;5;241m.\u001b[39mhandles\u001b[38;5;241m.\u001b[39mhandle\n",
      "File \u001b[0;32m/oscar/home/mcarcana/3dasm_project/lib/python3.9/site-packages/pandas/io/common.py:863\u001b[0m, in \u001b[0;36mget_handle\u001b[0;34m(path_or_buf, mode, encoding, compression, memory_map, is_text, errors, storage_options)\u001b[0m\n\u001b[1;32m    858\u001b[0m \u001b[38;5;28;01melif\u001b[39;00m \u001b[38;5;28misinstance\u001b[39m(handle, \u001b[38;5;28mstr\u001b[39m):\n\u001b[1;32m    859\u001b[0m     \u001b[38;5;66;03m# Check whether the filename is to be opened in binary mode.\u001b[39;00m\n\u001b[1;32m    860\u001b[0m     \u001b[38;5;66;03m# Binary mode does not support 'encoding' and 'newline'.\u001b[39;00m\n\u001b[1;32m    861\u001b[0m     \u001b[38;5;28;01mif\u001b[39;00m ioargs\u001b[38;5;241m.\u001b[39mencoding \u001b[38;5;129;01mand\u001b[39;00m \u001b[38;5;124m\"\u001b[39m\u001b[38;5;124mb\u001b[39m\u001b[38;5;124m\"\u001b[39m \u001b[38;5;129;01mnot\u001b[39;00m \u001b[38;5;129;01min\u001b[39;00m ioargs\u001b[38;5;241m.\u001b[39mmode:\n\u001b[1;32m    862\u001b[0m         \u001b[38;5;66;03m# Encoding\u001b[39;00m\n\u001b[0;32m--> 863\u001b[0m         handle \u001b[38;5;241m=\u001b[39m \u001b[38;5;28;43mopen\u001b[39;49m\u001b[43m(\u001b[49m\n\u001b[1;32m    864\u001b[0m \u001b[43m            \u001b[49m\u001b[43mhandle\u001b[49m\u001b[43m,\u001b[49m\n\u001b[1;32m    865\u001b[0m \u001b[43m            \u001b[49m\u001b[43mioargs\u001b[49m\u001b[38;5;241;43m.\u001b[39;49m\u001b[43mmode\u001b[49m\u001b[43m,\u001b[49m\n\u001b[1;32m    866\u001b[0m \u001b[43m            \u001b[49m\u001b[43mencoding\u001b[49m\u001b[38;5;241;43m=\u001b[39;49m\u001b[43mioargs\u001b[49m\u001b[38;5;241;43m.\u001b[39;49m\u001b[43mencoding\u001b[49m\u001b[43m,\u001b[49m\n\u001b[1;32m    867\u001b[0m \u001b[43m            \u001b[49m\u001b[43merrors\u001b[49m\u001b[38;5;241;43m=\u001b[39;49m\u001b[43merrors\u001b[49m\u001b[43m,\u001b[49m\n\u001b[1;32m    868\u001b[0m \u001b[43m            \u001b[49m\u001b[43mnewline\u001b[49m\u001b[38;5;241;43m=\u001b[39;49m\u001b[38;5;124;43m\"\u001b[39;49m\u001b[38;5;124;43m\"\u001b[39;49m\u001b[43m,\u001b[49m\n\u001b[1;32m    869\u001b[0m \u001b[43m        \u001b[49m\u001b[43m)\u001b[49m\n\u001b[1;32m    870\u001b[0m     \u001b[38;5;28;01melse\u001b[39;00m:\n\u001b[1;32m    871\u001b[0m         \u001b[38;5;66;03m# Binary mode\u001b[39;00m\n\u001b[1;32m    872\u001b[0m         handle \u001b[38;5;241m=\u001b[39m \u001b[38;5;28mopen\u001b[39m(handle, ioargs\u001b[38;5;241m.\u001b[39mmode)\n",
      "\u001b[0;31mFileNotFoundError\u001b[0m: [Errno 2] No such file or directory: 'bdata/neoHookean/data_0.00021544_0.001.csv'"
     ]
    }
   ],
   "source": [
    "sim_df = pd.read_csv(\"../3dasm_data/neoHookean/data_0.00021544_0.001.csv\") # read pandas DataFrame\n",
    "print(\"Show the simulated DataFrameused for training data:\\n\", sim_df)"
   ]
  },
  {
   "cell_type": "code",
   "execution_count": null,
   "metadata": {
    "collapsed": false,
    "jupyter": {
     "outputs_hidden": false
    }
   },
   "outputs": [],
   "source": [
    "Data_x = sim_df.iloc[:,0] # select the input VALUES from your dataframe into Data_x\n",
    "Data_y = sim_df.iloc[:,1] # select the output VALUES from your dataframe inta Data_y\n",
    "print(\"Data_x is:\\n\",Data_x)\n",
    "print(\"\\nData_y is:\\n\",Data_y)"
   ]
  },
  {
   "cell_type": "code",
   "execution_count": null,
   "metadata": {
    "collapsed": false,
    "jupyter": {
     "outputs_hidden": false
    }
   },
   "outputs": [],
   "source": [
    "fig_sim_data, ax_sim_data = plt.subplots() # create a plot\n",
    "ax_sim_data.plot(Data_x, Data_y, 'b.')\n",
    "ax_sim_data.set_xlabel(\"t (s)\", fontsize=20) # create x-axis label with font size 20\n",
    "ax_sim_data.set_ylabel(\"r (m)\", fontsize=20) # create y-axis label with font size 20\n",
    "ax_sim_data.set_title(\"Simulated Bubble Radius vs Time\", fontsize=20); # create title with font size 20\n",
    "plt.show(fig_sim_data)"
   ]
  },
  {
   "cell_type": "code",
   "execution_count": null,
   "metadata": {
    "collapsed": false,
    "jupyter": {
     "outputs_hidden": false
    }
   },
   "outputs": [],
   "source": [
    "from sklearn.model_selection import train_test_split\n",
    "\n",
    "n_data = 50 # number of points in our dataset\n",
    "testset_ratio = 0.10 # ratio of test set points from the dataset\n",
    "\n",
    "X_data = np.reshape(Data_x,(-1,1)) # a 2D array that scikit-learn likes\n",
    "\n",
    "seed = 1987 # set a random seed so that everyone gets the same result\n",
    "np.random.seed(seed)\n",
    "\n",
    "# Let's split into 10% training points and the rest for testing:\n",
    "X_train, X_test, y_train, y_test = train_test_split(X_data,\n",
    "                                    Data_y, test_size=testset_ratio,\n",
    "                                    random_state=seed)\n",
    "\n",
    "x_train = X_train.ravel() # just for plotting later\n",
    "x_test = X_test.ravel() # just for plotting later\n",
    "\n",
    "print(\"Here's a print of X_train:\\n\", X_train)"
   ]
  },
  {
   "cell_type": "code",
   "execution_count": null,
   "metadata": {
    "collapsed": false,
    "jupyter": {
     "outputs_hidden": false
    }
   },
   "outputs": [],
   "source": [
    "n_max = np.max(X_data)\n",
    "print(n_max)\n",
    "\n",
    "# Define points used for plotting\n",
    "n_plot = 500 # number of points used for plotting the model\n",
    "n_max = np.max(X_data)\n",
    "x_plot = np.linspace(0, n_max, n_plot) # create dataset with uniformly spaced points\n",
    "X_plot = np.reshape(x_plot,(-1,1)) # a 2D array that scikit-learn likes"
   ]
  },
  {
   "cell_type": "markdown",
   "metadata": {},
   "source": [
    "<b id='Training with Different Kernels: common Constant*RBF kernel with an optimizer fmin_1_bfgs_b'></b>"
   ]
  },
  {
   "cell_type": "markdown",
   "metadata": {},
   "source": [
    "### Training with Different Kernels: common Constant*RBF kernel with an optimizer fmin_1_bfgs_b"
   ]
  },
  {
   "cell_type": "code",
   "execution_count": null,
   "metadata": {
    "collapsed": false,
    "jupyter": {
     "outputs_hidden": false
    }
   },
   "outputs": [],
   "source": [
    "# Define the kernel function\n",
    "kernel = ConstantKernel(1.0, (1e-3, 1e3)) * RBF(10, (1e-2, 1e2)) # This is the very common Constant*RBF kernel\n",
    "\n",
    "gp_model = GaussianProcessRegressor(kernel=kernel, alpha=1e-6, optimizer='fmin_l_bfgs_b', n_restarts_optimizer=20)\n",
    "#gp_model = GaussianProcessRegressor(kernel=kernel, alpha=1e-10, optimizer=None, n_restarts_optimizer=20)\n",
    "\n",
    "# Fit to data to determine parameters\n",
    "gp_model.fit(X_train, y_train)\n",
    "\n",
    "# Make the prediction on the entire dataset (for plotting)\n",
    "y_plot_pred, sigma_plot = gp_model.predict(X_plot, return_std=True) # also output the uncertainty (std)\n",
    "\n",
    "# Predict for test set (for error metric)\n",
    "y_pred, sigma = gp_model.predict(X_test, return_std=True) # also output the uncertainty (std)"
   ]
  },
  {
   "cell_type": "code",
   "execution_count": null,
   "metadata": {
    "collapsed": false,
    "jupyter": {
     "outputs_hidden": false
    }
   },
   "outputs": [],
   "source": [
    "# Plot the prediction and the 95% confidence interval\n",
    "fig1, ax1 = plt.subplots()\n",
    "\n",
    "ax1.plot(x_plot, y_plot_pred, 'b-', label=\"GPR prediction\")\n",
    "ax1.fill(np.concatenate([x_plot, x_plot[::-1]]),\n",
    "         np.concatenate([y_plot_pred - 1.9600 * sigma_plot,\n",
    "                        (y_plot_pred + 1.9600 * sigma_plot)[::-1]]),\n",
    "         alpha=.5, fc='b', ec='None', label='95% confidence interval')\n",
    "\n",
    "#ax1.plot(x_train, y_train, 'ro', markersize=6, label=\"training points\") # noiseless data\n",
    "#ax1.plot(x_test, y_test, 'kX', markersize=6, label=\"testing points\") # Plot test points\n",
    "\n",
    "ax1.set_xlabel('$t (s)$', fontsize=20)\n",
    "ax1.set_ylabel('$r (m)$', fontsize=20)\n",
    "ax1.set_title(\"Posterior kernel: %s\"\n",
    "              % gp_model.kernel_, fontsize=20) # Show in the title the value of the hyperparameters\n",
    "#ax1.set_ylim(-10, 15) # just to provide more space for the legend\n",
    "ax1.legend(loc='upper left', fontsize=15)\n",
    "fig1.set_size_inches(8,8)\n",
    "plt.close(fig1) # close the plot to see it in next cell"
   ]
  },
  {
   "cell_type": "code",
   "execution_count": null,
   "metadata": {
    "collapsed": false,
    "jupyter": {
     "outputs_hidden": false
    }
   },
   "outputs": [],
   "source": [
    "fig1"
   ]
  },
  {
   "cell_type": "code",
   "execution_count": null,
   "metadata": {},
   "outputs": [],
   "source": [
    "# Plot the function, the prediction and the 95% confidence interval\n",
    "fig2, ax2 = plt.subplots()\n",
    "\n",
    "ax2.plot(x_plot, y_plot_pred, 'b-', label=\"GPR prediction\")\n",
    "ax2.fill(np.concatenate([x_plot, x_plot[::-1]]),\n",
    "         np.concatenate([y_plot_pred - 1.9600 * sigma_plot,\n",
    "                        (y_plot_pred + 1.9600 * sigma_plot)[::-1]]),\n",
    "         alpha=.5, fc='b', ec='None', label='95% confidence interval')\n",
    "\n",
    "ax2.plot(x_train, y_train, 'ro', markersize=6, label=\"training points\") # noiseless data\n",
    "ax2.plot(x_test, y_test, 'kX', markersize=6, label=\"testing points\") # Plot test points\n",
    "\n",
    "ax2.set_xlabel('$t (s)$', fontsize=20)\n",
    "ax2.set_ylabel('$r (m)$', fontsize=20)\n",
    "ax2.set_title(\"Posterior kernel: %s\"\n",
    "              % gp_model.kernel_, fontsize=20) # Show in the title the value of the hyperparameters\n",
    "#ax2.set_ylim(-10, 15) # just to provide more space for the legend\n",
    "ax2.legend(loc='upper left', fontsize=15)\n",
    "fig2.set_size_inches(8,8)\n",
    "plt.close(fig2) # close the plot to see it in next cell"
   ]
  },
  {
   "cell_type": "code",
   "execution_count": null,
   "metadata": {
    "collapsed": false,
    "jupyter": {
     "outputs_hidden": false
    }
   },
   "outputs": [],
   "source": [
    "fig2"
   ]
  },
  {
   "cell_type": "markdown",
   "metadata": {},
   "source": [
    "<c id='Training with Different Kernels: ExpSineSquared with an optimizer fmin_1_bfgs_b'></c>"
   ]
  },
  {
   "cell_type": "markdown",
   "metadata": {},
   "source": [
    "### Training with Different Kernels: ExpSineSquared with an optimizer fmin_1_bfgs_b"
   ]
  },
  {
   "cell_type": "code",
   "execution_count": null,
   "metadata": {
    "collapsed": false,
    "jupyter": {
     "outputs_hidden": false
    }
   },
   "outputs": [],
   "source": [
    "# Define the kernel function\n",
    "kernel = ExpSineSquared(length_scale=3.0, periodicity=3.14,\n",
    "                        length_scale_bounds=(0.1, 10.0),\n",
    "                        periodicity_bounds=(0.1, 10)) * RBF(3.0, (1e-2, 1e2))\n",
    "\n",
    "gp_model = GaussianProcessRegressor(kernel=kernel, alpha=1e-6, optimizer='fmin_l_bfgs_b', n_restarts_optimizer=20)\n",
    "#gp_model = GaussianProcessRegressor(kernel=kernel, alpha=1e-10, optimizer=None, n_restarts_optimizer=20)\n",
    "\n",
    "# Fit to data to determine parameters\n",
    "gp_model.fit(X_train, y_train)\n",
    "\n",
    "# Make the prediction on the entire dataset (for plotting)\n",
    "y_plot_pred, sigma_plot = gp_model.predict(X_plot, return_std=True) # also output the uncertainty (std)\n",
    "\n",
    "# Predict for test set (for error metric)\n",
    "y_pred, sigma = gp_model.predict(X_test, return_std=True) # also output the uncertainty (std)"
   ]
  },
  {
   "cell_type": "code",
   "execution_count": null,
   "metadata": {},
   "outputs": [],
   "source": [
    "# Plot the prediction and the 95% confidence interval\n",
    "fig1, ax1 = plt.subplots()\n",
    "\n",
    "ax1.plot(x_plot, y_plot_pred, 'b-', label=\"GPR prediction\")\n",
    "ax1.fill(np.concatenate([x_plot, x_plot[::-1]]),\n",
    "         np.concatenate([y_plot_pred - 1.9600 * sigma_plot,\n",
    "                        (y_plot_pred + 1.9600 * sigma_plot)[::-1]]),\n",
    "         alpha=.5, fc='b', ec='None', label='95% confidence interval')\n",
    "\n",
    "#ax1.plot(x_train, y_train, 'ro', markersize=6, label=\"training points\") # noiseless data\n",
    "#ax1.plot(x_test, y_test, 'kX', markersize=6, label=\"testing points\") # Plot test points\n",
    "\n",
    "ax1.set_xlabel('$t (s)$', fontsize=20)\n",
    "ax1.set_ylabel('$r (m)$', fontsize=20)\n",
    "ax1.set_title(\"Posterior kernel: %s\"\n",
    "              % gp_model.kernel_, fontsize=20) # Show in the title the value of the hyperparameters\n",
    "#ax1.set_ylim(-10, 15) # just to provide more space for the legend\n",
    "ax1.legend(loc='upper left', fontsize=15)\n",
    "fig1.set_size_inches(8,8)\n",
    "plt.close(fig1) # close the plot to see it in next cell"
   ]
  },
  {
   "cell_type": "code",
   "execution_count": null,
   "metadata": {
    "collapsed": false,
    "jupyter": {
     "outputs_hidden": false
    }
   },
   "outputs": [],
   "source": [
    "fig1"
   ]
  },
  {
   "cell_type": "code",
   "execution_count": null,
   "metadata": {},
   "outputs": [],
   "source": [
    "# Plot the function, the prediction and the 95% confidence interval\n",
    "fig2, ax2 = plt.subplots()\n",
    "\n",
    "ax2.plot(x_plot, y_plot_pred, 'b-', label=\"GPR prediction\")\n",
    "ax2.fill(np.concatenate([x_plot, x_plot[::-1]]),\n",
    "         np.concatenate([y_plot_pred - 1.9600 * sigma_plot,\n",
    "                        (y_plot_pred + 1.9600 * sigma_plot)[::-1]]),\n",
    "         alpha=.5, fc='b', ec='None', label='95% confidence interval')\n",
    "\n",
    "ax2.plot(x_train, y_train, 'ro', markersize=6, label=\"training points\") # noiseless data\n",
    "ax2.plot(x_test, y_test, 'kX', markersize=6, label=\"testing points\") # Plot test points\n",
    "\n",
    "ax2.set_xlabel('$x$', fontsize=20)\n",
    "ax2.set_ylabel('$f(x)$', fontsize=20)\n",
    "ax2.set_title(\"Posterior kernel: %s\"\n",
    "              % gp_model.kernel_, fontsize=20) # Show in the title the value of the hyperparameters\n",
    "#ax2.set_ylim(-10, 15) # just to provide more space for the legend\n",
    "ax2.legend(loc='upper left', fontsize=15)\n",
    "fig2.set_size_inches(8,8)\n",
    "plt.close(fig2) # close the plot to see it in next cell"
   ]
  },
  {
   "cell_type": "code",
   "execution_count": null,
   "metadata": {
    "collapsed": false,
    "jupyter": {
     "outputs_hidden": false
    }
   },
   "outputs": [],
   "source": [
    "fig2"
   ]
  },
  {
   "cell_type": "markdown",
   "metadata": {},
   "source": [
    "<d id='Training with Different Kernels: Matern with an optimizer fmin_1_bfgs_b'></d>"
   ]
  },
  {
   "cell_type": "markdown",
   "metadata": {},
   "source": [
    "### Training with Different Kernels: Matern with an optimizer fmin_1_bfgs_b"
   ]
  },
  {
   "cell_type": "code",
   "execution_count": null,
   "metadata": {
    "collapsed": false,
    "jupyter": {
     "outputs_hidden": false
    }
   },
   "outputs": [],
   "source": [
    "# Define the kernel function\n",
    "kernel = Matern(length_scale=1.0, length_scale_bounds=(1e-2, 1e2),nu=1.5)\n",
    "\n",
    "gp_model = GaussianProcessRegressor(kernel=kernel, alpha=1e-6, optimizer='fmin_l_bfgs_b', n_restarts_optimizer=20)\n",
    "#gp_model = GaussianProcessRegressor(kernel=kernel, alpha=1e-10, optimizer=None, n_restarts_optimizer=20)\n",
    "\n",
    "# Fit to data to determine parameters\n",
    "gp_model.fit(X_train, y_train)\n",
    "\n",
    "# Make the prediction on the entire dataset (for plotting)\n",
    "y_plot_pred, sigma_plot = gp_model.predict(X_plot, return_std=True) # also output the uncertainty (std)\n",
    "\n",
    "# Predict for test set (for error metric)\n",
    "y_pred, sigma = gp_model.predict(X_test, return_std=True) # also output the uncertainty (std)"
   ]
  },
  {
   "cell_type": "code",
   "execution_count": null,
   "metadata": {},
   "outputs": [],
   "source": [
    "# Plot the prediction and the 95% confidence interval\n",
    "fig1, ax1 = plt.subplots()\n",
    "\n",
    "ax1.plot(x_plot, y_plot_pred, 'b-', label=\"GPR prediction\")\n",
    "ax1.fill(np.concatenate([x_plot, x_plot[::-1]]),\n",
    "         np.concatenate([y_plot_pred - 1.9600 * sigma_plot,\n",
    "                        (y_plot_pred + 1.9600 * sigma_plot)[::-1]]),\n",
    "         alpha=.5, fc='b', ec='None', label='95% confidence interval')\n",
    "\n",
    "#ax1.plot(x_train, y_train, 'ro', markersize=6, label=\"training points\") # noiseless data\n",
    "#ax1.plot(x_test, y_test, 'kX', markersize=6, label=\"testing points\") # Plot test points\n",
    "\n",
    "ax1.set_xlabel('$t (s)$', fontsize=20)\n",
    "ax1.set_ylabel('$r (m)$', fontsize=20)\n",
    "ax1.set_title(\"Posterior kernel: %s\"\n",
    "              % gp_model.kernel_, fontsize=20) # Show in the title the value of the hyperparameters\n",
    "#ax1.set_ylim(-10, 15) # just to provide more space for the legend\n",
    "ax1.legend(loc='upper left', fontsize=15)\n",
    "fig1.set_size_inches(8,8)\n",
    "plt.close(fig1) # close the plot to see it in next cell"
   ]
  },
  {
   "cell_type": "code",
   "execution_count": null,
   "metadata": {
    "collapsed": false,
    "jupyter": {
     "outputs_hidden": false
    }
   },
   "outputs": [],
   "source": [
    "fig1"
   ]
  },
  {
   "cell_type": "code",
   "execution_count": null,
   "metadata": {},
   "outputs": [],
   "source": [
    "# Plot the function, prediction and the 95% confidence interval\n",
    "fig2, ax2 = plt.subplots()\n",
    "\n",
    "ax2.plot(x_plot, y_plot_pred, 'b-', label=\"GPR prediction\")\n",
    "ax2.fill(np.concatenate([x_plot, x_plot[::-1]]),\n",
    "         np.concatenate([y_plot_pred - 1.9600 * sigma_plot,\n",
    "                        (y_plot_pred + 1.9600 * sigma_plot)[::-1]]),\n",
    "         alpha=.5, fc='b', ec='None', label='95% confidence interval')\n",
    "\n",
    "ax2.plot(x_train, y_train, 'ro', markersize=6, label=\"training points\") # noiseless data\n",
    "ax2.plot(x_test, y_test, 'kX', markersize=6, label=\"testing points\") # Plot test points\n",
    "\n",
    "ax2.set_xlabel('$t (s)$', fontsize=20)\n",
    "ax2.set_ylabel('$r (m)$', fontsize=20)\n",
    "ax2.set_title(\"Posterior kernel: %s\"\n",
    "              % gp_model.kernel_, fontsize=20) # Show in the title the value of the hyperparameters\n",
    "#ax2.set_ylim(-10, 15) # just to provide more space for the legend\n",
    "ax2.legend(loc='upper left', fontsize=15)\n",
    "fig2.set_size_inches(8,8)\n",
    "plt.close(fig2) # close the plot to see it in next cell"
   ]
  },
  {
   "cell_type": "code",
   "execution_count": null,
   "metadata": {
    "collapsed": false,
    "jupyter": {
     "outputs_hidden": false
    }
   },
   "outputs": [],
   "source": [
    "fig2"
   ]
  },
  {
   "cell_type": "markdown",
   "metadata": {},
   "source": [
    "<e id='Training with Different Kernels: common Constant*RBF kernel With No Optimizer'></e>"
   ]
  },
  {
   "cell_type": "markdown",
   "metadata": {},
   "source": [
    "### Training with Different Kernels: common Constant*RBF kernel With No Optimizer"
   ]
  },
  {
   "cell_type": "code",
   "execution_count": null,
   "metadata": {
    "collapsed": false,
    "jupyter": {
     "outputs_hidden": false
    }
   },
   "outputs": [],
   "source": [
    "# Define the kernel function\n",
    "kernel = ConstantKernel(1.0, (1e-3, 1e3)) * RBF(10, (1e-2, 1e2)) # This is the very common Constant*RBF kernel\n",
    "\n",
    "gp_model = GaussianProcessRegressor(kernel=kernel, alpha=1e-6, optimizer=None, n_restarts_optimizer=20)\n",
    "\n",
    "# Fit to data to determine parameters\n",
    "gp_model.fit(X_train, y_train)\n",
    "\n",
    "# Make the prediction on the entire dataset (for plotting)\n",
    "y_plot_pred, sigma_plot = gp_model.predict(X_plot, return_std=True) # also output the uncertainty (std)\n",
    "\n",
    "# Predict for test set (for error metric)\n",
    "y_pred, sigma = gp_model.predict(X_test, return_std=True) # also output the uncertainty (std)"
   ]
  },
  {
   "cell_type": "code",
   "execution_count": null,
   "metadata": {},
   "outputs": [],
   "source": [
    "# Plot the prediction and the 95% confidence interval\n",
    "fig1, ax1 = plt.subplots()\n",
    "\n",
    "ax1.plot(x_plot, y_plot_pred, 'b-', label=\"GPR prediction\")\n",
    "ax1.fill(np.concatenate([x_plot, x_plot[::-1]]),\n",
    "         np.concatenate([y_plot_pred - 1.9600 * sigma_plot,\n",
    "                        (y_plot_pred + 1.9600 * sigma_plot)[::-1]]),\n",
    "         alpha=.5, fc='b', ec='None', label='95% confidence interval')\n",
    "\n",
    "#ax1.plot(x_train, y_train, 'ro', markersize=6, label=\"training points\") # noiseless data\n",
    "#ax1.plot(x_test, y_test, 'kX', markersize=6, label=\"testing points\") # Plot test points\n",
    "\n",
    "ax1.set_xlabel('$t (s)$', fontsize=20)\n",
    "ax1.set_ylabel('$r (m)$', fontsize=20)\n",
    "ax1.set_title(\"Posterior kernel: %s\"\n",
    "              % gp_model.kernel_, fontsize=20) # Show in the title the value of the hyperparameters\n",
    "#ax1.set_ylim(-10, 15) # just to provide more space for the legend\n",
    "ax1.legend(loc='upper left', fontsize=15)\n",
    "fig1.set_size_inches(8,8)\n",
    "plt.close(fig1) # close the plot to see it in next cell"
   ]
  },
  {
   "cell_type": "code",
   "execution_count": null,
   "metadata": {
    "collapsed": false,
    "jupyter": {
     "outputs_hidden": false
    }
   },
   "outputs": [],
   "source": [
    "fig1"
   ]
  },
  {
   "cell_type": "markdown",
   "metadata": {},
   "source": [
    "<f id='Training with Different Kernels: ExpSineSquared with no optimizer'></f>"
   ]
  },
  {
   "cell_type": "markdown",
   "metadata": {},
   "source": [
    "### Training with Different Kernels: ExpSineSquared with no optimizer"
   ]
  },
  {
   "cell_type": "code",
   "execution_count": null,
   "metadata": {},
   "outputs": [],
   "source": [
    "# Define the kernel function\n",
    "kernel = ExpSineSquared(length_scale=3.0, periodicity=3.14,\n",
    "                        length_scale_bounds=(0.1, 10.0),\n",
    "                        periodicity_bounds=(0.1, 10)) * RBF(3.0, (1e-2, 1e2))\n",
    "\n",
    "gp_model = GaussianProcessRegressor(kernel=kernel, alpha=1e-6, optimizer=None, n_restarts_optimizer=20)\n",
    "\n",
    "# Fit to data to determine parameters\n",
    "gp_model.fit(X_train, y_train)\n",
    "\n",
    "# Make the prediction on the entire dataset (for plotting)\n",
    "y_plot_pred, sigma_plot = gp_model.predict(X_plot, return_std=True) # also output the uncertainty (std)\n",
    "\n",
    "# Predict for test set (for error metric)\n",
    "y_pred, sigma = gp_model.predict(X_test, return_std=True) # also output the uncertainty (std)"
   ]
  },
  {
   "cell_type": "code",
   "execution_count": null,
   "metadata": {},
   "outputs": [],
   "source": [
    "# Plot the prediction and the 95% confidence interval\n",
    "fig1, ax1 = plt.subplots()\n",
    "\n",
    "ax1.plot(x_plot, y_plot_pred, 'b-', label=\"GPR prediction\")\n",
    "ax1.fill(np.concatenate([x_plot, x_plot[::-1]]),\n",
    "         np.concatenate([y_plot_pred - 1.9600 * sigma_plot,\n",
    "                        (y_plot_pred + 1.9600 * sigma_plot)[::-1]]),\n",
    "         alpha=.5, fc='b', ec='None', label='95% confidence interval')\n",
    "\n",
    "#ax1.plot(x_train, y_train, 'ro', markersize=6, label=\"training points\") # noiseless data\n",
    "#ax1.plot(x_test, y_test, 'kX', markersize=6, label=\"testing points\") # Plot test points\n",
    "\n",
    "ax1.set_xlabel('$t (s)$', fontsize=20)\n",
    "ax1.set_ylabel('$r (m)$', fontsize=20)\n",
    "ax1.set_title(\"Posterior kernel: %s\"\n",
    "              % gp_model.kernel_, fontsize=20) # Show in the title the value of the hyperparameters\n",
    "#ax1.set_ylim(-10, 15) # just to provide more space for the legend\n",
    "ax1.legend(loc='upper left', fontsize=15)\n",
    "fig1.set_size_inches(8,8)\n",
    "plt.close(fig1) # close the plot to see it in next cell"
   ]
  },
  {
   "cell_type": "code",
   "execution_count": null,
   "metadata": {
    "collapsed": false,
    "jupyter": {
     "outputs_hidden": false
    }
   },
   "outputs": [],
   "source": [
    "fig1"
   ]
  },
  {
   "cell_type": "markdown",
   "metadata": {},
   "source": [
    "<g id='Training with Different Kernels: Matern with no optimizer'></g>"
   ]
  },
  {
   "cell_type": "markdown",
   "metadata": {},
   "source": [
    "### Training with Different Kernels: Matern with no optimizer"
   ]
  },
  {
   "cell_type": "code",
   "execution_count": null,
   "metadata": {},
   "outputs": [],
   "source": [
    "# Define the kernel function\n",
    "kernel = Matern(length_scale=1.0, length_scale_bounds=(1e-2, 1e2),nu=1.5)\n",
    "\n",
    "gp_model = GaussianProcessRegressor(kernel=kernel, alpha=1e-6, optimizer=None, n_restarts_optimizer=20)\n",
    "\n",
    "# Fit to data to determine parameters\n",
    "gp_model.fit(X_train, y_train)\n",
    "\n",
    "# Make the prediction on the entire dataset (for plotting)\n",
    "y_plot_pred, sigma_plot = gp_model.predict(X_plot, return_std=True) # also output the uncertainty (std)\n",
    "\n",
    "# Predict for test set (for error metric)\n",
    "y_pred, sigma = gp_model.predict(X_test, return_std=True) # also output the uncertainty (std)"
   ]
  },
  {
   "cell_type": "code",
   "execution_count": null,
   "metadata": {},
   "outputs": [],
   "source": [
    "# Plot the prediction and the 95% confidence interval\n",
    "fig1, ax1 = plt.subplots()\n",
    "\n",
    "ax1.plot(x_plot, y_plot_pred, 'b-', label=\"GPR prediction\")\n",
    "ax1.fill(np.concatenate([x_plot, x_plot[::-1]]),\n",
    "         np.concatenate([y_plot_pred - 1.9600 * sigma_plot,\n",
    "                        (y_plot_pred + 1.9600 * sigma_plot)[::-1]]),\n",
    "         alpha=.5, fc='b', ec='None', label='95% confidence interval')\n",
    "\n",
    "#ax1.plot(x_train, y_train, 'ro', markersize=6, label=\"training points\") # noiseless data\n",
    "#ax1.plot(x_test, y_test, 'kX', markersize=6, label=\"testing points\") # Plot test points\n",
    "\n",
    "ax1.set_xlabel('$t (s)$', fontsize=20)\n",
    "ax1.set_ylabel('$r (m)$', fontsize=20)\n",
    "ax1.set_title(\"Posterior kernel: %s\"\n",
    "              % gp_model.kernel_, fontsize=20) # Show in the title the value of the hyperparameters\n",
    "#ax1.set_ylim(-10, 15) # just to provide more space for the legend\n",
    "ax1.legend(loc='upper left', fontsize=15)\n",
    "fig1.set_size_inches(8,8)\n",
    "plt.close(fig1) # close the plot to see it in next cell"
   ]
  },
  {
   "cell_type": "code",
   "execution_count": null,
   "metadata": {
    "collapsed": false,
    "jupyter": {
     "outputs_hidden": false
    }
   },
   "outputs": [],
   "source": [
    "fig1"
   ]
  },
  {
   "cell_type": "markdown",
   "metadata": {},
   "source": [
    "### different optimizers? different ratios of training/testing data?"
   ]
  },
  {
   "cell_type": "markdown",
   "metadata": {},
   "source": [
    "<h id='Phase 1.5: Gaussian Process on Experimental Data Only'></h>"
   ]
  },
  {
   "cell_type": "markdown",
   "metadata": {},
   "source": [
    "# Phase 1.5: Gaussian Process on Experimental Data Only"
   ]
  },
  {
   "cell_type": "code",
   "execution_count": null,
   "metadata": {
    "collapsed": false,
    "jupyter": {
     "outputs_hidden": false
    }
   },
   "outputs": [],
   "source": [
    "exp_df = pd.read_csv(\"PolyAcry_12_28_04\") # read pandas DataFrame\n",
    "print(\"Show the experimental DataFrame used for testing data:\\n\", exp_df)"
   ]
  },
  {
   "cell_type": "code",
   "execution_count": null,
   "metadata": {
    "collapsed": false,
    "jupyter": {
     "outputs_hidden": false
    }
   },
   "outputs": [],
   "source": [
    "Data_t_exp = exp_df.iloc[:,0]\n",
    "Data_R1_exp = exp_df.iloc[:,1] \n",
    "Data_R2_exp = exp_df.iloc[:,2] \n",
    "print(\"Experimental x data is time:\\n\",Data_t_exp)\n",
    "print(\"Experimental Bubble Radius from camera one is:\\n\",Data_R1_exp)\n",
    "print(\"Experimental Bubble Radius from camera two is:\\n\",Data_R2_exp)"
   ]
  },
  {
   "cell_type": "code",
   "execution_count": null,
   "metadata": {
    "collapsed": false,
    "jupyter": {
     "outputs_hidden": false
    }
   },
   "outputs": [],
   "source": [
    "fig_exp_data, ax_exp_data = plt.subplots() # create a plot\n",
    "R1_line = ax_exp_data.plot(Data_t_exp, Data_R1_exp, 'b.', label='R1 of camera one at 0 degrees')\n",
    "R2_line = ax_exp_data.plot(Data_t_exp, Data_R2_exp, 'r.',label='R2 of camera two at 90 degrees')\n",
    "ax_exp_data.set_xlabel(\"t (s)\", fontsize=20) # create x-axis label with font size 20\n",
    "ax_exp_data.set_ylabel(\"r (m)\", fontsize=20) # create y-axis label with font size 20\n",
    "ax_exp_data.set_title(\"Experimental Bubble Radius vs Time\", fontsize=20); # create title with font size 20\n",
    "\n",
    "handles, labels = ax_exp_data.get_legend_handles_labels()\n",
    "ax_exp_data.legend(handles, labels)\n",
    "plt.show(fig_exp_data)"
   ]
  },
  {
   "cell_type": "code",
   "execution_count": null,
   "metadata": {
    "collapsed": false,
    "jupyter": {
     "outputs_hidden": false
    }
   },
   "outputs": [],
   "source": [
    "n_data = len(Data_t_exp) # number of points in our dataset\n",
    "testset_ratio = 0.75 # ratio of test set points from the dataset\n",
    "\n",
    "t_data = np.reshape(Data_t_exp,(-1,1)) # a 2D array that scikit-learn likes\n",
    "\n",
    "seed = 1987 # set a random seed so that everyone gets the same result\n",
    "np.random.seed(seed)\n",
    "\n",
    "# Let's split into 10% training points and the rest for testing:\n",
    "X_train, X_test, y_train, y_test = train_test_split(t_data,\n",
    "                                    Data_R1_exp, test_size=testset_ratio,\n",
    "                                    random_state=seed)\n",
    "\n",
    "x_train = X_train.ravel() # just for plotting later\n",
    "x_test = X_test.ravel() # just for plotting later\n",
    "\n",
    "print(\"Here's a print of X_train:\\n\", X_train)"
   ]
  },
  {
   "cell_type": "code",
   "execution_count": null,
   "metadata": {
    "collapsed": false,
    "jupyter": {
     "outputs_hidden": false
    }
   },
   "outputs": [],
   "source": [
    "n_exp_max = np.max(t_data)\n",
    "print(n_exp_max)\n",
    "\n",
    "# Define points used for plotting\n",
    "n_plot = 500 # number of points used for plotting the model\n",
    "n_max = np.max(t_data)\n",
    "x_exp_plot = np.linspace(0, n_exp_max, n_plot) # create dataset with uniformly spaced points\n",
    "X_exp_plot = np.reshape(x_exp_plot,(-1,1)) # a 2D array that scikit-learn likes"
   ]
  },
  {
   "cell_type": "markdown",
   "metadata": {},
   "source": [
    "<i id='Training with Different kernels: common Constant*RBF kernel with an optimizer fmin_1_bfgs_b'></i>"
   ]
  },
  {
   "cell_type": "markdown",
   "metadata": {},
   "source": [
    "## Training with Different kernels: common Constant*RBF kernel with an optimizer fmin_1_bfgs_b"
   ]
  },
  {
   "cell_type": "code",
   "execution_count": null,
   "metadata": {
    "collapsed": false,
    "jupyter": {
     "outputs_hidden": false
    }
   },
   "outputs": [],
   "source": [
    "# Define the kernel function\n",
    "kernel = ConstantKernel(1.0, (1e-3, 1e3)) * RBF(10, (1e-2, 1e2)) # This is the very common Constant*RBF kernel\n",
    "\n",
    "gp_model = GaussianProcessRegressor(kernel=kernel, alpha=1e-2, optimizer='fmin_l_bfgs_b', n_restarts_optimizer=20)\n",
    "#gp_model = GaussianProcessRegressor(kernel=kernel, alpha=1e-10, optimizer=None, n_restarts_optimizer=20)\n",
    "\n",
    "# Fit to data to determine parameters\n",
    "gp_model.fit(X_train, y_train)\n",
    "\n",
    "# Make the prediction on the entire dataset (for plotting)\n",
    "y_plot_pred, sigma_plot = gp_model.predict(X_exp_plot, return_std=True) # also output the uncertainty (std)\n",
    "\n",
    "# Predict for test set (for error metric)\n",
    "y_pred, sigma = gp_model.predict(X_test, return_std=True) # also output the uncertainty (std)"
   ]
  },
  {
   "cell_type": "code",
   "execution_count": null,
   "metadata": {},
   "outputs": [],
   "source": [
    "# Plot the prediction and the 95% confidence interval\n",
    "fig1, ax1 = plt.subplots()\n",
    "\n",
    "ax1.plot(x_exp_plot, y_plot_pred, 'b-', label=\"GPR prediction\")\n",
    "ax1.fill(np.concatenate([x_exp_plot, x_exp_plot[::-1]]),\n",
    "         np.concatenate([y_plot_pred - 1.9600 * sigma_plot,\n",
    "                        (y_plot_pred + 1.9600 * sigma_plot)[::-1]]),\n",
    "         alpha=.5, fc='b', ec='None', label='95% confidence interval')\n",
    "\n",
    "ax1.plot(x_train, y_train, 'ro', markersize=6, label=\"training points\") # noiseless data\n",
    "ax1.plot(x_test, y_test, 'kX', markersize=6, label=\"testing points\") # Plot test points\n",
    "\n",
    "ax1.set_xlabel('$t (s)$', fontsize=20)\n",
    "ax1.set_ylabel('$r (m)$', fontsize=20)\n",
    "ax1.set_title(\"Posterior kernel: %s\"\n",
    "              % gp_model.kernel_, fontsize=20) # Show in the title the value of the hyperparameters\n",
    "#ax1.set_ylim(-10, 15) # just to provide more space for the legend\n",
    "ax1.legend(loc='upper left', fontsize=15)\n",
    "fig1.set_size_inches(8,8)\n",
    "plt.close(fig1) # close the plot to see it in next cell"
   ]
  },
  {
   "cell_type": "code",
   "execution_count": null,
   "metadata": {
    "collapsed": false,
    "jupyter": {
     "outputs_hidden": false
    }
   },
   "outputs": [],
   "source": [
    "fig1"
   ]
  },
  {
   "cell_type": "markdown",
   "metadata": {},
   "source": [
    "<j id='Training with Different Kernels: ExpSineSquared with an optimizer fmin_1_bfgs_b'></j>"
   ]
  },
  {
   "cell_type": "markdown",
   "metadata": {},
   "source": [
    "### Training with Different Kernels: ExpSineSquared with an optimizer fmin_1_bfgs_b"
   ]
  },
  {
   "cell_type": "code",
   "execution_count": null,
   "metadata": {},
   "outputs": [],
   "source": [
    "# Define the kernel function\n",
    "kernel = ExpSineSquared(length_scale=3.0, periodicity=3.14,\n",
    "                        length_scale_bounds=(0.1, 10.0),\n",
    "                        periodicity_bounds=(0.1, 10)) * RBF(3.0, (1e-2, 1e2))\n",
    "\n",
    "gp_model = GaussianProcessRegressor(kernel=kernel, alpha=1e-6, optimizer='fmin_l_bfgs_b', n_restarts_optimizer=20)\n",
    "#gp_model = GaussianProcessRegressor(kernel=kernel, alpha=1e-10, optimizer=None, n_restarts_optimizer=20)\n",
    "\n",
    "# Fit to data to determine parameters\n",
    "gp_model.fit(X_train, y_train)\n",
    "\n",
    "# Make the prediction on the entire dataset (for plotting)\n",
    "y_plot_pred, sigma_plot = gp_model.predict(X_exp_plot, return_std=True) # also output the uncertainty (std)\n",
    "\n",
    "# Predict for test set (for error metric)\n",
    "y_pred, sigma = gp_model.predict(X_test, return_std=True) # also output the uncertainty (std)"
   ]
  },
  {
   "cell_type": "code",
   "execution_count": null,
   "metadata": {},
   "outputs": [],
   "source": [
    "# Plot the prediction and the 95% confidence interval\n",
    "fig1, ax1 = plt.subplots()\n",
    "\n",
    "ax1.plot(x_exp_plot, y_plot_pred, 'b-', label=\"GPR prediction\")\n",
    "ax1.fill(np.concatenate([x_exp_plot, x_exp_plot[::-1]]),\n",
    "         np.concatenate([y_plot_pred - 1.9600 * sigma_plot,\n",
    "                        (y_plot_pred + 1.9600 * sigma_plot)[::-1]]),\n",
    "         alpha=.5, fc='b', ec='None', label='95% confidence interval')\n",
    "\n",
    "ax1.plot(x_train, y_train, 'ro', markersize=6, label=\"training points\") # noiseless data\n",
    "ax1.plot(x_test, y_test, 'kX', markersize=6, label=\"testing points\") # Plot test points\n",
    "\n",
    "ax1.set_xlabel('$t (s)$', fontsize=20)\n",
    "ax1.set_ylabel('$r (m)$', fontsize=20)\n",
    "ax1.set_title(\"Posterior kernel: %s\"\n",
    "              % gp_model.kernel_, fontsize=20) # Show in the title the value of the hyperparameters\n",
    "#ax1.set_ylim(-10, 15) # just to provide more space for the legend\n",
    "ax1.legend(loc='upper left', fontsize=15)\n",
    "fig1.set_size_inches(8,8)\n",
    "plt.close(fig1) # close the plot to see it in next cell"
   ]
  },
  {
   "cell_type": "code",
   "execution_count": null,
   "metadata": {
    "collapsed": false,
    "jupyter": {
     "outputs_hidden": false
    }
   },
   "outputs": [],
   "source": [
    "fig1"
   ]
  },
  {
   "cell_type": "markdown",
   "metadata": {},
   "source": [
    "<k id='Training with Different Kernels: Matern with an optimizer fmin_1_bfgs_b'></k>"
   ]
  },
  {
   "cell_type": "markdown",
   "metadata": {},
   "source": [
    "### Training with Different Kernels: Matern with an optimizer fmin_1_bfgs_b"
   ]
  },
  {
   "cell_type": "code",
   "execution_count": null,
   "metadata": {},
   "outputs": [],
   "source": [
    "# Define the kernel function\n",
    "kernel = Matern(length_scale=1.0, length_scale_bounds=(1e-2, 1e2),nu=1.5)\n",
    "\n",
    "gp_model = GaussianProcessRegressor(kernel=kernel, alpha=1e-6, optimizer='fmin_l_bfgs_b', n_restarts_optimizer=20)\n",
    "#gp_model = GaussianProcessRegressor(kernel=kernel, alpha=1e-6, optimizer=None, n_restarts_optimizer=20)\n",
    "\n",
    "# Fit to data to determine parameters\n",
    "gp_model.fit(X_train, y_train)\n",
    "\n",
    "# Make the prediction on the entire dataset (for plotting)\n",
    "y_plot_pred, sigma_plot = gp_model.predict(X_exp_plot, return_std=True) # also output the uncertainty (std)\n",
    "\n",
    "# Predict for test set (for error metric)\n",
    "y_pred, sigma = gp_model.predict(X_test, return_std=True) # also output the uncertainty (std)"
   ]
  },
  {
   "cell_type": "code",
   "execution_count": null,
   "metadata": {},
   "outputs": [],
   "source": [
    "# Plot the prediction and the 95% confidence interval\n",
    "fig1, ax1 = plt.subplots()\n",
    "\n",
    "ax1.plot(x_exp_plot, y_plot_pred, 'b-', label=\"GPR prediction\")\n",
    "ax1.fill(np.concatenate([x_exp_plot, x_exp_plot[::-1]]),\n",
    "         np.concatenate([y_plot_pred - 1.9600 * sigma_plot,\n",
    "                        (y_plot_pred + 1.9600 * sigma_plot)[::-1]]),\n",
    "         alpha=.5, fc='b', ec='None', label='95% confidence interval')\n",
    "\n",
    "ax1.plot(x_train, y_train, 'ro', markersize=6, label=\"training points\") # noiseless data\n",
    "ax1.plot(x_test, y_test, 'kX', markersize=6, label=\"testing points\") # Plot test points\n",
    "\n",
    "ax1.set_xlabel('$t (s)$', fontsize=20)\n",
    "ax1.set_ylabel('$r (m)$', fontsize=20)\n",
    "ax1.set_title(\"Posterior kernel: %s\"\n",
    "              % gp_model.kernel_, fontsize=20) # Show in the title the value of the hyperparameters\n",
    "#ax1.set_ylim(-10, 15) # just to provide more space for the legend\n",
    "ax1.legend(loc='upper left', fontsize=15)\n",
    "fig1.set_size_inches(8,8)\n",
    "plt.close(fig1) # close the plot to see it in next cell"
   ]
  },
  {
   "cell_type": "code",
   "execution_count": null,
   "metadata": {
    "collapsed": false,
    "jupyter": {
     "outputs_hidden": false
    }
   },
   "outputs": [],
   "source": [
    "fig1"
   ]
  },
  {
   "cell_type": "markdown",
   "metadata": {},
   "source": [
    "## with no optimizer? or different optimizers?"
   ]
  },
  {
   "cell_type": "markdown",
   "metadata": {},
   "source": [
    "<l id='Phase 2: Training with Simulation Data and Testing with Experimental Data'></l>"
   ]
  },
  {
   "cell_type": "markdown",
   "metadata": {},
   "source": [
    "# Phase 2: Training with Simulation Data and Testing with Experimental Data\n",
    "## running with Constant Kernel and  f_min optimizer, Matern kernel with no optimizer"
   ]
  },
  {
   "cell_type": "code",
   "execution_count": null,
   "metadata": {
    "collapsed": false,
    "jupyter": {
     "outputs_hidden": false
    }
   },
   "outputs": [],
   "source": [
    "# training data = simulation data, test data = experimental data\n",
    "\n",
    "# defining training data\n",
    "X_train = X_data # a 2D array that scikit-learn likes, for simulated data\n",
    "y_train = Data_y\n",
    "\n",
    "# defining test data\n",
    "X_test = t_data\n",
    "y_test = Data_R1_exp\n",
    "#y_train2 = Data_R2_exp\n",
    "\n",
    "n_data = len(Data_t_exp) # number of points in our dataset\n",
    "#testset_ratio = len(X_train)/len(Data_t_exp) # ratio of test set points from the datasets\n",
    "\n",
    "x_train = X_train.ravel() # just for plotting later\n",
    "x_test = X_test.ravel() # just for plotting later\n",
    "\n",
    "print(len(X_train))\n",
    "print(len(y_train))\n",
    "\n",
    "print(len(X_test))\n",
    "print(len(y_test))"
   ]
  },
  {
   "cell_type": "markdown",
   "metadata": {},
   "source": [
    "<m id='Constant Kernel and  f_min optimizer'></m>"
   ]
  },
  {
   "cell_type": "markdown",
   "metadata": {},
   "source": [
    "### Constant Kernel and  f_min optimizer"
   ]
  },
  {
   "cell_type": "code",
   "execution_count": null,
   "metadata": {
    "collapsed": false,
    "jupyter": {
     "outputs_hidden": false
    }
   },
   "outputs": [],
   "source": [
    "# Define the kernel function\n",
    "kernel = ConstantKernel(1.0, (1e-3, 1e3)) * RBF(10, (1e-2, 1e2)) # This is the very common Constant*RBF kernel\n",
    "\n",
    "gp_model = GaussianProcessRegressor(kernel=kernel, alpha=1e-6, optimizer='fmin_l_bfgs_b', n_restarts_optimizer=20)\n",
    "\n",
    "# Fit to data to determine parameters\n",
    "gp_model.fit(X_train, y_train)\n",
    "\n",
    "# Make the prediction on the entire dataset (for plotting)\n",
    "y_plot_pred, sigma_plot = gp_model.predict(X_plot, return_std=True) # also output the uncertainty (std)\n",
    "\n",
    "# Predict for test set (for error metric)\n",
    "y_pred, sigma = gp_model.predict(X_test, return_std=True) # also output the uncertainty (std)"
   ]
  },
  {
   "cell_type": "code",
   "execution_count": null,
   "metadata": {},
   "outputs": [],
   "source": [
    "# Plot the prediction and the 95% confidence interval\n",
    "fig1, ax1 = plt.subplots()\n",
    "\n",
    "ax1.plot(x_exp_plot, y_plot_pred, 'b-', label=\"GPR prediction\")\n",
    "ax1.fill(np.concatenate([x_exp_plot, x_exp_plot[::-1]]),\n",
    "         np.concatenate([y_plot_pred - 1.9600 * sigma_plot,\n",
    "                        (y_plot_pred + 1.9600 * sigma_plot)[::-1]]),\n",
    "         alpha=.5, fc='b', ec='None', label='95% confidence interval')\n",
    "\n",
    "#ax1.plot(x_train, y_train, 'ro', markersize=6, label=\"training points\") # noiseless data\n",
    "#ax1.plot(x_test, y_test, 'kX', markersize=6, label=\"testing points\") # Plot test points\n",
    "\n",
    "ax1.set_xlabel('$t (s)$', fontsize=20)\n",
    "ax1.set_ylabel('$r (m)$', fontsize=20)\n",
    "ax1.set_title(\"Posterior kernel: %s\"\n",
    "              % gp_model.kernel_, fontsize=20) # Show in the title the value of the hyperparameters\n",
    "#ax1.set_ylim(-10, 15) # just to provide more space for the legend\n",
    "ax1.legend(loc='upper left', fontsize=15)\n",
    "fig1.set_size_inches(8,8)\n",
    "plt.close(fig1) # close the plot to see it in next cell"
   ]
  },
  {
   "cell_type": "code",
   "execution_count": null,
   "metadata": {
    "collapsed": false,
    "jupyter": {
     "outputs_hidden": false
    }
   },
   "outputs": [],
   "source": [
    "fig1"
   ]
  },
  {
   "cell_type": "markdown",
   "metadata": {},
   "source": [
    "<n id='Matern kernel with no optimizer'></n>"
   ]
  },
  {
   "cell_type": "markdown",
   "metadata": {},
   "source": [
    "### Matern kernel with no optimizer"
   ]
  },
  {
   "cell_type": "code",
   "execution_count": null,
   "metadata": {},
   "outputs": [],
   "source": [
    "# Define the kernel function\n",
    "kernel = Matern(length_scale=1.0, length_scale_bounds=(1e-2, 1e2),nu=1.5)\n",
    "\n",
    "gp_model = GaussianProcessRegressor(kernel=kernel, alpha=1e-6, optimizer=None, n_restarts_optimizer=20)\n",
    "\n",
    "# Fit to data to determine parameters\n",
    "gp_model.fit(X_train, y_train)\n",
    "\n",
    "# Make the prediction on the entire dataset (for plotting)\n",
    "y_plot_pred, sigma_plot = gp_model.predict(X_plot, return_std=True) # also output the uncertainty (std)\n",
    "\n",
    "# Predict for test set (for error metric)\n",
    "y_pred, sigma = gp_model.predict(X_test, return_std=True) # also output the uncertainty (std)"
   ]
  },
  {
   "cell_type": "code",
   "execution_count": null,
   "metadata": {},
   "outputs": [],
   "source": [
    "# Plot the prediction and the 95% confidence interval\n",
    "fig1, ax1 = plt.subplots()\n",
    "\n",
    "ax1.plot(x_exp_plot, y_plot_pred, 'b-', label=\"GPR prediction\")\n",
    "ax1.fill(np.concatenate([x_exp_plot, x_exp_plot[::-1]]),\n",
    "         np.concatenate([y_plot_pred - 1.9600 * sigma_plot,\n",
    "                        (y_plot_pred + 1.9600 * sigma_plot)[::-1]]),\n",
    "         alpha=.5, fc='b', ec='None', label='95% confidence interval')\n",
    "\n",
    "#ax1.plot(x_train, y_train, 'ro', markersize=6, label=\"training points\") # noiseless data\n",
    "#ax1.plot(x_test, y_test, 'kX', markersize=6, label=\"testing points\") # Plot test points\n",
    "\n",
    "ax1.set_xlabel('$t (s)$', fontsize=20)\n",
    "ax1.set_ylabel('$r (m)$', fontsize=20)\n",
    "ax1.set_title(\"Posterior kernel: %s\"\n",
    "              % gp_model.kernel_, fontsize=20) # Show in the title the value of the hyperparameters\n",
    "#ax1.set_ylim(-10, 15) # just to provide more space for the legend\n",
    "ax1.legend(loc='upper left', fontsize=15)\n",
    "fig1.set_size_inches(8,8)\n",
    "plt.close(fig1) # close the plot to see it in next cell"
   ]
  },
  {
   "cell_type": "code",
   "execution_count": null,
   "metadata": {
    "collapsed": false,
    "jupyter": {
     "outputs_hidden": false
    }
   },
   "outputs": [],
   "source": [
    "fig1"
   ]
  },
  {
   "cell_type": "markdown",
   "metadata": {},
   "source": [
    "<o id='Phase 3: Multi-fidelity Gaussian Process'></o>"
   ]
  },
  {
   "cell_type": "markdown",
   "metadata": {
    "collapsed": true,
    "jupyter": {
     "outputs_hidden": true
    }
   },
   "source": [
    "# Phase 3: Multi-fidelity Gaussian Process"
   ]
  },
  {
   "cell_type": "code",
   "execution_count": null,
   "metadata": {
    "collapsed": false,
    "jupyter": {
     "outputs_hidden": false
    }
   },
   "outputs": [],
   "source": [
    "import math\n",
    "import torch\n",
    "import gpytorch\n",
    "from matplotlib import pyplot as plt\n",
    "\n",
    "%matplotlib inline\n",
    "%load_ext autoreload\n",
    "%autoreload 2"
   ]
  },
  {
   "cell_type": "code",
   "execution_count": null,
   "metadata": {},
   "outputs": [],
   "source": [
    "# Setting up Training and Testing Data\n",
    "#Training data is 100 points in [0,1] inclusive regularly spaced\n",
    "train_x = torch.linspace(0, 1, 100)\n",
    "# True function is sin(2*pi*x) with Gaussian noise\n",
    "train_y = torch.sin(train_x * (2 * math.pi)) + torch.randn(train_x.size()) * math.sqrt(0.04)"
   ]
  },
  {
   "cell_type": "code",
   "execution_count": null,
   "metadata": {},
   "outputs": [],
   "source": []
  },
  {
   "cell_type": "code",
   "execution_count": null,
   "metadata": {
    "collapsed": true,
    "jupyter": {
     "outputs_hidden": true
    }
   },
   "outputs": [],
   "source": []
  },
  {
   "cell_type": "code",
   "execution_count": null,
   "metadata": {},
   "outputs": [],
   "source": [
    "#botorch\n",
    "from botorch.models import SingleTaskGP\n",
    "from botorch.fit import fit_gpytorch_mll\n",
    "from botorch.utils import standardize\n",
    "from gpytorch.mlls import ExactMarginalLogLikelihood\n",
    "\n",
    "#fit model\n",
    "train_X = torch.rand(10, 2)\n",
    "Y = 1 - torch.linalg.norm(train_X - 0.5, dim=-1, keepdim=True)\n",
    "Y = Y + 0.1 * torch.randn_like(Y)  # add some noise\n",
    "train_Y = standardize(Y)\n",
    "\n",
    "gp = SingleTaskGP(train_X, train_Y)\n",
    "mll = ExactMarginalLogLikelihood(gp.likelihood, gp)\n",
    "fit_gpytorch_mll(mll)"
   ]
  },
  {
   "cell_type": "code",
   "execution_count": null,
   "metadata": {
    "collapsed": false,
    "jupyter": {
     "outputs_hidden": false
    }
   },
   "outputs": [],
   "source": [
    "#construct acquisition function\n",
    "from botorch.acquisition import UpperConfidenceBound\n",
    "\n",
    "UCB = UpperConfidenceBound(gp, beta=0.1)"
   ]
  },
  {
   "cell_type": "code",
   "execution_count": null,
   "metadata": {},
   "outputs": [],
   "source": [
    "#optimize acquisition function\n",
    "from botorch.optim import optimize_acqf\n",
    "\n",
    "bounds = torch.stack([torch.zeros(2), torch.ones(2)])\n",
    "candidate, acq_value = optimize_acqf(\n",
    "    UCB, bounds=bounds, q=1, num_restarts=5, raw_samples=20,\n",
    ")\n",
    "candidate  # tensor([0.4887, 0.5063])"
   ]
  },
  {
   "cell_type": "code",
   "execution_count": null,
   "metadata": {},
   "outputs": [],
   "source": [
    "#gpytorch\n",
    "#setting up training/testing data\n",
    "#setting up the model\n",
    "#training the model\n",
    "#make predictions with the model\n",
    "#plot the model fit "
   ]
  },
  {
   "cell_type": "markdown",
   "metadata": {},
   "source": [
    "<p id='Phase 4: Comparing Error Metrics'></p>"
   ]
  },
  {
   "cell_type": "markdown",
   "metadata": {},
   "source": [
    "# Phase 4: Comparing Error Metrics"
   ]
  },
  {
   "cell_type": "code",
   "execution_count": null,
   "metadata": {
    "collapsed": true,
    "jupyter": {
     "outputs_hidden": true
    }
   },
   "outputs": [],
   "source": []
  },
  {
   "cell_type": "markdown",
   "metadata": {},
   "source": [
    "### # Phase 5: Different Materials? More data files? Different shear moduli/viscosity (hyperparameters?)\n",
    "## Slides (12) for presentation: 2 GP (M), 4 data-assim (V), 4 - multi-fidelity (M), 2 - ? (V)\n",
    "### want understanding: why chose those algorithms, compare algorithms, explain new methods used"
   ]
  },
  {
   "cell_type": "markdown",
   "metadata": {},
   "source": [
    "### HAVE TO SCALE DATA"
   ]
  },
  {
   "cell_type": "code",
   "execution_count": null,
   "metadata": {
    "collapsed": true,
    "jupyter": {
     "outputs_hidden": true
    }
   },
   "outputs": [],
   "source": []
  }
 ],
 "metadata": {
  "kernelspec": {
   "display_name": "Python 3 (ipykernel)",
   "language": "python",
   "name": "python3"
  },
  "language_info": {
   "codemirror_mode": {
    "name": "ipython",
    "version": 3
   },
   "file_extension": ".py",
   "mimetype": "text/x-python",
   "name": "python",
   "nbconvert_exporter": "python",
   "pygments_lexer": "ipython3",
   "version": "3.9.0"
  }
 },
 "nbformat": 4,
 "nbformat_minor": 4
}
